{
 "cells": [
  {
   "cell_type": "markdown",
   "metadata": {},
   "source": [
    "### 시각화\n",
    "---"
   ]
  },
  {
   "cell_type": "code",
   "execution_count": 1,
   "metadata": {},
   "outputs": [],
   "source": [
    "import pandas as pd\n",
    "import matplotlib\n",
    "import matplotlib.pyplot as plt\n",
    "import numpy as np\n",
    "import seaborn as sns\n"
   ]
  },
  {
   "cell_type": "code",
   "execution_count": 2,
   "metadata": {},
   "outputs": [],
   "source": [
    "# 폰트 한글화\n",
    "from matplotlib import pyplot as plt, font_manager\n",
    "\n",
    "font_path = \"C:/Users/user/AppData/Local/Microsoft/Windows/Fonts/AppleSDGothicNeoM.ttf\"\n",
    "font_name = font_manager.FontProperties(fname=font_path).get_name()\n",
    "plt.rc('font', family=font_name)\n"
   ]
  },
  {
   "cell_type": "code",
   "execution_count": 4,
   "metadata": {},
   "outputs": [
    {
     "data": {
      "text/html": [
       "<div>\n",
       "<style scoped>\n",
       "    .dataframe tbody tr th:only-of-type {\n",
       "        vertical-align: middle;\n",
       "    }\n",
       "\n",
       "    .dataframe tbody tr th {\n",
       "        vertical-align: top;\n",
       "    }\n",
       "\n",
       "    .dataframe thead th {\n",
       "        text-align: right;\n",
       "    }\n",
       "</style>\n",
       "<table border=\"1\" class=\"dataframe\">\n",
       "  <thead>\n",
       "    <tr style=\"text-align: right;\">\n",
       "      <th></th>\n",
       "      <th>통합동</th>\n",
       "      <th>구</th>\n",
       "      <th>평균기온</th>\n",
       "      <th>최고기온</th>\n",
       "      <th>최저기온</th>\n",
       "      <th>강수량</th>\n",
       "      <th>습도</th>\n",
       "      <th>공원개수</th>\n",
       "      <th>가로수개수</th>\n",
       "      <th>공간유형</th>\n",
       "      <th>주거지부</th>\n",
       "      <th>공원부</th>\n",
       "      <th>수변부</th>\n",
       "      <th>해충지수</th>\n",
       "      <th>방제취약지수</th>\n",
       "    </tr>\n",
       "  </thead>\n",
       "  <tbody>\n",
       "    <tr>\n",
       "      <th>0</th>\n",
       "      <td>가덕도동</td>\n",
       "      <td>강서구</td>\n",
       "      <td>27.6118</td>\n",
       "      <td>32.3226</td>\n",
       "      <td>24.5484</td>\n",
       "      <td>556.6129</td>\n",
       "      <td>84.6371</td>\n",
       "      <td>2</td>\n",
       "      <td>2</td>\n",
       "      <td>주거지부</td>\n",
       "      <td>56.6548</td>\n",
       "      <td>38.1382</td>\n",
       "      <td>148.4496</td>\n",
       "      <td>205.4727</td>\n",
       "      <td>120.6638</td>\n",
       "    </tr>\n",
       "  </tbody>\n",
       "</table>\n",
       "</div>"
      ],
      "text/plain": [
       "    통합동    구     평균기온     최고기온     최저기온       강수량       습도  공원개수  가로수개수  공간유형  \\\n",
       "0  가덕도동  강서구  27.6118  32.3226  24.5484  556.6129  84.6371     2      2  주거지부   \n",
       "\n",
       "      주거지부      공원부       수변부      해충지수    방제취약지수  \n",
       "0  56.6548  38.1382  148.4496  205.4727  120.6638  "
      ]
     },
     "execution_count": 4,
     "metadata": {},
     "output_type": "execute_result"
    }
   ],
   "source": [
    "# 파일 불러오기\n",
    "df = pd.read_csv('result/부산_동별_방제취약지수_최종.csv')\n",
    "df.head(1)"
   ]
  },
  {
   "cell_type": "code",
   "execution_count": null,
   "metadata": {},
   "outputs": [],
   "source": [
    "# 솔팅\n",
    "df = df.sort_values('')\n",
    "df"
   ]
  },
  {
   "cell_type": "code",
   "execution_count": null,
   "metadata": {},
   "outputs": [],
   "source": [
    "plt.figure(figsize=(10, 25))\n",
    "# plt.xticks(rotation= -45)\n",
    "plt.barh(df['통합동'], df['총인구'], color='#22C463')\n",
    "plt.title('부산광역시 동별 인구수', color='#00517C', size=25)\n",
    "plt.xlabel('인구 수')\n",
    "plt.ylabel('동 이름')\n",
    "\n",
    "plt.gca().spines['right'].set_visible(False)  # 오른쪽 테두리 제거\n",
    "plt.gca().spines['top'].set_visible(False)  # 위쪽 테두리 제거\n",
    "plt.gca().set_facecolor('#E6F0F8') # 배경색\n",
    "\n",
    "plt.gca().spines['bottom'].set_color('#54CAEA')  # 축 색상\n",
    "plt.gca().spines['left'].set_color('#54CAEA')  # 축 색상\n",
    "plt.xticks(color='#00517C', fontsize=15)\n",
    "plt.yticks(color='#00517C', fontsize=15)\n"
   ]
  },
  {
   "cell_type": "code",
   "execution_count": 46,
   "metadata": {},
   "outputs": [
    {
     "data": {
      "text/plain": [
       "Text(0, 0.5, '동 이름')"
      ]
     },
     "execution_count": 46,
     "metadata": {},
     "output_type": "execute_result"
    }
   ],
   "source": [
    "plt.figure(figsize=(10, 25))\n",
    "plt.barh(df['통합동'], df['세대수'], color='darkred')\n",
    "plt.title('부산광역시 동별 인구수')\n",
    "plt.xlabel('세대 수')\n",
    "plt.ylabel('동 이름')"
   ]
  }
 ],
 "metadata": {
  "interpreter": {
   "hash": "8cfb3f5d3732c8e9b7a65fa38dddf816068d0252f6ef0bfbc44616f476e20867"
  },
  "kernelspec": {
   "display_name": "Python 3.8.8 64-bit ('base': conda)",
   "name": "python3"
  },
  "language_info": {
   "codemirror_mode": {
    "name": "ipython",
    "version": 3
   },
   "file_extension": ".py",
   "mimetype": "text/x-python",
   "name": "python",
   "nbconvert_exporter": "python",
   "pygments_lexer": "ipython3",
   "version": "3.8.8"
  },
  "orig_nbformat": 4
 },
 "nbformat": 4,
 "nbformat_minor": 2
}

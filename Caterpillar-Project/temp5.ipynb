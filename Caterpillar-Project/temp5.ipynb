{
 "cells": [
  {
   "cell_type": "markdown",
   "metadata": {},
   "source": [
    "### 기상기후데이터 크롤링\n",
    "---"
   ]
  },
  {
   "cell_type": "code",
   "execution_count": 1,
   "metadata": {},
   "outputs": [],
   "source": [
    "from selenium.webdriver import Chrome\n",
    "import time\n",
    "import pandas as pd\n",
    "from selenium import webdriver"
   ]
  },
  {
   "cell_type": "code",
   "execution_count": 2,
   "metadata": {},
   "outputs": [],
   "source": [
    "# 크롬 웹 드라이버 장착\n",
    "options = webdriver.ChromeOptions()\n",
    "options.add_argument('--start-maximized')  # 윈도우창 최대화\n",
    "# headless 옵션\n",
    "# options.add_argument('--headless')\n",
    "# options.add_argument('--disable-gpu')\n",
    "# options.add_argument('--window-size=1280x1024')\n",
    "\n",
    "browser = webdriver.Chrome('G:/다운로드/chromedriver.exe', options=options)\n",
    "browser.get('https://data.kma.go.kr/data/rmt/rmtList.do?code=420&pgmNo=572')\n",
    "browser.implicitly_wait(10)"
   ]
  },
  {
   "cell_type": "code",
   "execution_count": 3,
   "metadata": {},
   "outputs": [],
   "source": [
    "# 로그인\n",
    "browser.find_element_by_xpath('/html/body/div[1]/header/div[2]/div/div/ul[2]/li[2]/a').click()\n",
    "browser.implicitly_wait(3)\n",
    "browser.find_element_by_xpath('/html/body/div[2]/div/div/div[2]/form/div[1]/div/div[1]/input').send_keys('dua9920@daum.net')\n",
    "browser.find_element_by_xpath('//*[@id=\"passwordNo\"]').send_keys('비밀번호')\n",
    "browser.find_element_by_xpath('//*[@id=\"loginbtn\"]').click()\n",
    "# browser.find_element_by_xpath('/html/body/div[2]/div/div/div[1]/button').click()\n",
    "# browser.find_element_by_css_selector('#loginPopCloseBtn').click()\n",
    "browser.implicitly_wait(10)\n"
   ]
  },
  {
   "cell_type": "code",
   "execution_count": 3,
   "metadata": {},
   "outputs": [],
   "source": [
    "browser.quit()"
   ]
  },
  {
   "cell_type": "code",
   "execution_count": 5,
   "metadata": {},
   "outputs": [],
   "source": [
    "# 파일셋 선택\n",
    "# 구단기예보 -> 날짜선택 -> 서울 -> 부산 -> 기온/최고/최저/강수량\n",
    "# browser.find_element_by_xpath('//*[@id=\"selectType\"]').click()\n",
    "browser.find_element_by_xpath('//*[@id=\"selectType\"]/option[2]').click()\n",
    "browser.implicitly_wait(20)\n",
    "\n",
    "browser.find_element_by_xpath('//*[@id=\"startDt\"]').click()\n",
    "browser.find_element_by_xpath('//*[@id=\"startDt\"]/option[2]').click()\n",
    "browser.find_element_by_xpath('//*[@id=\"startMt\"]').click()\n",
    "browser.find_element_by_xpath('//*[@id=\"startMt\"]/option[5]').click() #5월\n",
    "browser.find_element_by_xpath('//*[@id=\"endDt\"]').click()\n",
    "browser.find_element_by_xpath('//*[@id=\"endDt\"]/option[2]').click()\n",
    "browser.find_element_by_xpath('//*[@id=\"endMt\"]').click()\n",
    "browser.find_element_by_xpath('//*[@id=\"endMt\"]/option[5]').click()\n",
    "\n",
    "browser.find_element_by_xpath('//*[@id=\"ztree_2_check\"]').click()\n",
    "browser.find_element_by_xpath('//*[@id=\"ztree_454_check\"]').click()\n",
    "browser.find_element_by_xpath('//*[@id=\"ztree1_4_check\"]').click()\n",
    "browser.find_element_by_xpath('//*[@id=\"ztree1_5_check\"]').click()\n",
    "browser.find_element_by_xpath('//*[@id=\"ztree1_11_check\"]').click()\n",
    "\n",
    "browser.find_element_by_xpath('//*[@id=\"dsForm\"]/div[3]/button').click()\n"
   ]
  },
  {
   "cell_type": "code",
   "execution_count": 55,
   "metadata": {},
   "outputs": [],
   "source": [
    "# 체크해서 파일 다운로드\n",
    "# 전체체크 -> 다운로드 -> 쉰다음 -> 용도신청 -> 요청\n",
    "browser.find_element_by_xpath('//*[@id=\"checkAll\"]').click()\n",
    "browser.find_element_by_xpath('//*[@id=\"wrap_content\"]/div[4]/div[2]/div[2]/div[2]/a').click()\n",
    "browser.implicitly_wait(5)\n",
    "\n",
    "browser.find_element_by_xpath('//*[@id=\"reqstPurposeCd7\"]').click()\n",
    "browser.find_element_by_xpath('//*[@id=\"sltUsePop\"]/div/div/div[2]/div/a[2]').click()\n",
    "browser.implicitly_wait(10)"
   ]
  },
  {
   "cell_type": "markdown",
   "metadata": {},
   "source": []
  },
  {
   "cell_type": "code",
   "execution_count": 42,
   "metadata": {},
   "outputs": [],
   "source": [
    "# 다음 페이지로 이동\n",
    "browser.find_element_by_xpath('//*[@id=\"wrap_content\"]/div[4]/div[2]/div[2]/div[1]/ul/li[4]/a').click()"
   ]
  },
  {
   "cell_type": "code",
   "execution_count": null,
   "metadata": {},
   "outputs": [],
   "source": [
    "for i in range(2):\n",
    "    for j in range(4, 13):\n",
    "        browser.implicitly_wait(5)\n",
    "        browser.find_element_by_xpath('//*[@id=\"checkAll\"]').click()\n",
    "        browser.find_element_by_xpath('//*[@id=\"wrap_content\"]/div[4]/div[2]/div[2]/div[2]/a').click()\n",
    "        # browser.implicitly_wait(10)\n",
    "        time.sleep(5)\n",
    "\n",
    "        if(i==0 and j == 4):\n",
    "            browser.find_element_by_xpath('//*[@id=\"reqstPurposeCd7\"]').click()\n",
    "            browser.find_element_by_xpath('//*[@id=\"sltUsePop\"]/div/div/div[2]/div/a[2]').click()\n",
    "            browser.implicitly_wait(5)\n",
    "\n",
    "        browser.find_element_by_xpath(f'//*[@id=\"wrap_content\"]/div[4]/div[2]/div[2]/div[1]/ul/li[{j}]').click()\n",
    "        browser.implicitly_wait(2)\n",
    "\n",
    "        if(j == 12):\n",
    "            browser.find_element_by_xpath('//*[@id=\"checkAll\"]').click()\n",
    "            browser.find_element_by_xpath(\n",
    "            '//*[@id=\"wrap_content\"]/div[4]/div[2]/div[2]/div[2]/a').click()\n",
    "            browser.implicitly_wait(5)\n",
    "        time.sleep(1)\n",
    "    browser.find_element_by_xpath('//*[@id=\"wrap_content\"]/div[4]/div[2]/div[2]/div[1]/ul/li[13]').click()\n",
    "    browser.implicitly_wait(5)\n"
   ]
  }
 ],
 "metadata": {
  "interpreter": {
   "hash": "8cfb3f5d3732c8e9b7a65fa38dddf816068d0252f6ef0bfbc44616f476e20867"
  },
  "kernelspec": {
   "display_name": "Python 3.8.8 64-bit ('base': conda)",
   "name": "python3"
  },
  "language_info": {
   "codemirror_mode": {
    "name": "ipython",
    "version": 3
   },
   "file_extension": ".py",
   "mimetype": "text/x-python",
   "name": "python",
   "nbconvert_exporter": "python",
   "pygments_lexer": "ipython3",
   "version": "3.8.8"
  },
  "orig_nbformat": 4
 },
 "nbformat": 4,
 "nbformat_minor": 2
}

{
    "cells": [
        {
            "cell_type": "markdown",
            "source": [
                "## 2021-08-02 (월)\r\n",
                "실습 복습\r\n",
                "---"
            ],
            "metadata": {}
        },
        {
            "cell_type": "code",
            "execution_count": 3,
            "source": [
                "# 연산자 복습\r\n",
                "print(4/2) # 나누기\r\n",
                "print(4%3) # 나머지\r\n",
                "print(4//3)"
            ],
            "outputs": [
                {
                    "output_type": "stream",
                    "name": "stdout",
                    "text": [
                        "2.0\n",
                        "1\n",
                        "1\n"
                    ]
                }
            ],
            "metadata": {}
        },
        {
            "cell_type": "code",
            "execution_count": 23,
            "source": [
                "# 내장함수\r\n",
                "print('a', 1)\r\n",
                "print('A',1, sep=\"하이루 :\")\r\n",
                "print('a', 1, 2, sep=':', end='.')\r\n",
                "\r\n",
                "print(round(3.123))\r\n",
                "print(max(1, 3, 4))\r\n",
                "print(min(2, 4))\r\n",
                "print(pow(2, 4))\r\n",
                "print(len('hello'))\r\n",
                "\r\n",
                "# a = input('입력을 하세용')\r\n",
                "# print(a)\r\n",
                "\r\n",
                "b = zip('abx', '123') # 쌍으로 엮어준다.\r\n",
                "print(list(b))\r\n",
                "\r\n",
                "list(zip('abcd', range(4)))"
            ],
            "outputs": [
                {
                    "output_type": "stream",
                    "name": "stdout",
                    "text": [
                        "a 1\n",
                        "A하이루 :1\n",
                        "a:1:2.3\n",
                        "4\n",
                        "2\n",
                        "16\n",
                        "5\n",
                        "[('a', '1'), ('b', '2'), ('x', '3')]\n"
                    ]
                },
                {
                    "output_type": "execute_result",
                    "data": {
                        "text/plain": [
                            "[('a', 0), ('b', 1), ('c', 2), ('d', 3)]"
                        ]
                    },
                    "metadata": {},
                    "execution_count": 23
                }
            ],
            "metadata": {}
        },
        {
            "cell_type": "code",
            "execution_count": 28,
            "source": [
                "# 변수\r\n",
                "# 변수는 알파벳, 숫자, 언더바, 한글, 한자 다 가능\r\n",
                "# 변수 첫글자 숫자, 특수문자, 공백 X\r\n",
                "# 변수 첫글자 문자, 언더바 O\r\n",
                "a, b = 2, 4\r\n",
                "print(a, b)\r\n",
                "c = 3; d = 4;\r\n",
                "print(c, d)\r\n",
                "\r\n",
                "a , b = b, a\r\n",
                "print(a, b, c, d)"
            ],
            "outputs": [
                {
                    "output_type": "stream",
                    "name": "stdout",
                    "text": [
                        "2 4\n",
                        "3 4\n",
                        "4 2 3 4\n"
                    ]
                }
            ],
            "metadata": {}
        },
        {
            "cell_type": "code",
            "execution_count": 42,
            "source": [
                "# 자료형\r\n",
                "a = 1000\r\n",
                "print(type(a))\r\n",
                "\r\n",
                "b = 0.01\r\n",
                "print(type(b))\r\n",
                "\r\n",
                "c = 17e5\r\n",
                "print(c, type(c))\r\n",
                "d = 12.12e-2\r\n",
                "print(d, type(d))\r\n",
                "\r\n",
                "e = True\r\n",
                "print(type(e))\r\n",
                "\r\n",
                "t = (1, 2, 3, 4, 5)\r\n",
                "print(t)\r\n",
                "print(type(t))\r\n",
                "print(t[0])\r\n",
                "\r\n",
                "se = {1, 2, 3, 4, 5}\r\n",
                "print(se)\r\n",
                "print(type(se))\r\n",
                "\r\n",
                "dic= {'a':1, 'b':2, 'c':3}\r\n",
                "print(dic, type(dic))\r\n",
                "print(dic['a'])\r\n"
            ],
            "outputs": [
                {
                    "output_type": "stream",
                    "name": "stdout",
                    "text": [
                        "<class 'int'>\n",
                        "<class 'float'>\n",
                        "1700000.0 <class 'float'>\n",
                        "0.1212 <class 'float'>\n",
                        "<class 'bool'>\n",
                        "(1, 2, 3, 4, 5)\n",
                        "<class 'tuple'>\n",
                        "1\n",
                        "{1, 2, 3, 4, 5}\n",
                        "<class 'set'>\n",
                        "{'a': 1, 'b': 2, 'c': 3} <class 'dict'>\n",
                        "1\n"
                    ]
                }
            ],
            "metadata": {}
        },
        {
            "cell_type": "code",
            "execution_count": 2,
            "source": [
                "# 형변환\r\n",
                "f1 = 3.14\r\n",
                "print(type(f1))\r\n",
                "print(type(int(f1)))\r\n",
                "\r\n",
                "s2 = ' 12345 '\r\n",
                "print(int(s2))\r\n",
                "print(type(s2))\r\n",
                "print(type(int(s2)))\r\n"
            ],
            "outputs": [
                {
                    "output_type": "stream",
                    "name": "stdout",
                    "text": [
                        "<class 'float'>\n",
                        "<class 'int'>\n",
                        "12345\n",
                        "<class 'str'>\n",
                        "<class 'int'>\n"
                    ]
                }
            ],
            "metadata": {}
        },
        {
            "cell_type": "code",
            "execution_count": 10,
            "source": [
                "a = '파이썬'\r\n",
                "c = a + '3'\r\n",
                "d = a + str('2')\r\n",
                "print(c)\r\n",
                "print(d)\r\n",
                "\r\n",
                "# 문자열 특정 횟수만큼 반복\r\n",
                "e = '*' * 10\r\n",
                "print(e)\r\n",
                "\r\n",
                "tmp = '하이루 ' * 5\r\n",
                "print(tmp)\r\n",
                "\r\n",
                "\r\n",
                "# 문자열 인덱스 접근\r\n",
                "# 역인덱스도 존재\r\n",
                "a = \"HelloWorld!\"\r\n",
                "print(len(a))\r\n",
                "print(a)\r\n",
                "print(a[0])  # 문자열의 시작\r\n",
                "print(a[10])\r\n",
                "print(a[-1])  # 문자열의 끝\r\n",
                "print(a[-11])\r\n",
                "\r\n",
                "print(a[-2])\r\n",
                "\r\n",
                "# 문자열 슬라이싱\r\n",
                "# start:end:step\r\n",
                "# 종료인덱스는 항상 그전까지 슬라이싱이 이루어진다.\r\n",
                "print(a[:])\r\n",
                "print(a[3:])\r\n",
                "print(a[5:-1])\r\n",
                "print(a[::2])  # 2스텝씩\r\n",
                "print(a[::-1])  # 역 출력\r\n",
                "print(a[::-2])  # 2스텝씩 역 출력\r\n",
                "\r\n",
                "# 장문의 글 처리하기\r\n",
                "c = \"\"\"\r\n",
                "하이루\r\n",
                "하이루\r\n",
                "장문의 글 입니다\r\n",
                "\"\"\"\r\n",
                "print(c)\r\n",
                "print(c[::-1])\r\n"
            ],
            "outputs": [
                {
                    "output_type": "stream",
                    "name": "stdout",
                    "text": [
                        "파이썬3\n",
                        "파이썬2\n",
                        "**********\n",
                        "하이루 하이루 하이루 하이루 하이루 \n",
                        "11\n",
                        "HelloWorld!\n",
                        "H\n",
                        "!\n",
                        "!\n",
                        "H\n",
                        "d\n",
                        "HelloWorld!\n",
                        "loWorld!\n",
                        "World\n",
                        "Hlool!\n",
                        "!dlroWolleH\n",
                        "!loolH\n",
                        "\n",
                        "하이루\n",
                        "하이루\n",
                        "장문의 글 입니다\n",
                        "\n",
                        "\n",
                        "다니입 글 의문장\n",
                        "루이하\n",
                        "루이하\n",
                        "\n"
                    ]
                }
            ],
            "metadata": {}
        },
        {
            "cell_type": "code",
            "execution_count": 52,
            "source": [
                "# 문자열 2\r\n",
                "# len 함수 : 문자열 길이 계산 함수\r\n",
                "print(len(\"HelloWorldPython\"))\r\n",
                "hello = 'HelloWorldPython'\r\n",
                "print(hello)\r\n",
                "\r\n",
                "# 파이썬 문자열 함수\r\n",
                "# 문자/문자열.함수명() 이런식으로 사용\r\n",
                "# join, strip, replace, split, startswith, endswith, index, find, count\r\n",
                "# capitalize, upper, lower\r\n",
                "\r\n",
                "# join 함수\r\n",
                "# 지정된 문자로 문자열을 연결한다.\r\n",
                "a = '|'.join(hello)\r\n",
                "print(a)\r\n",
                "\r\n",
                "arr = ['010', '1234', '5678']\r\n",
                "print(arr)\r\n",
                "print('-'.join(arr))\r\n",
                "\r\n",
                "# split 함수\r\n",
                "# 지정된 문자로 분할하여 리스트로 반환한다.\r\n",
                "a = 'Hello-World-Python'.split('-')\r\n",
                "b = '서울시 마포구 상암동 1585'.split(' ')\r\n",
                "print(a, b)\r\n",
                "\r\n",
                "# strip 함수\r\n",
                "# 지정된 문자를 문자열로부터 제거한다.\r\n",
                "# 불필요한 특수문자 제거시 주로 사용\r\n",
                "# 약간 sql 에서 trim 이랑 비슷한듯? 아니 아예 같은듯.\r\n",
                "text = '\\t 문자열 정리 \\t'\r\n",
                "text2 = '   공백 정리   '\r\n",
                "print(text.strip())\r\n",
                "print(text2.strip())\r\n",
                "\r\n",
                "text3 = '하이루#!#!@!@'\r\n",
                "text4 = text3.strip('@')\r\n",
                "print(text3, text4)\r\n",
                "\r\n",
                "text5 = 'xxYYZZxYZ'\r\n",
                "print(text5.strip('x'))\r\n",
                "\r\n",
                "# replace 함수\r\n",
                "# 문자열 내 특정 문자를 다른 문자로 대체\r\n",
                "birthday = '1111/22/33'\r\n",
                "print(birthday.replace('/', '-'))\r\n",
                "\r\n",
                "# startswith(), endswith() 함수\r\n",
                "# 특정 문자열로 시작/종료 여부 검사\r\n",
                "# bool 자료형 변환\r\n",
                "hello = 'hello'\r\n",
                "a = hello.startswith('H')\r\n",
                "b = hello.startswith('hello')\r\n",
                "c = hello.endswith('o')\r\n",
                "print(a, b, c)\r\n",
                "\r\n",
                "# count 함수\r\n",
                "# 문자열 내 지정된 문자의 개수\r\n",
                "a = 'hello world'\r\n",
                "b = a.count('o')\r\n",
                "print(a, b)\r\n",
                "\r\n",
                "# index(), find() 함수\r\n",
                "# 문자열 내 지정된 문자/문자열 위치 인덱스\r\n",
                "text = 'Hello Python World, Welcome to Python!!'\r\n",
                "print(text)\r\n",
                "print(text.index('o'))\r\n",
                "print(text.index('o', 5))\r\n",
                "print(text.index('Python', 20))\r\n",
                "print(text.find('Python'))\r\n",
                "print(text.find('Python', 20))\r\n",
                "\r\n",
                "# capitalize() -> 첫글자 대문자\r\n",
                "# lower() -> 영어 소문자\r\n",
                "# upper() -> 영어 대문자\r\n",
                "print(text.capitalize())\r\n",
                "print(text.lower())\r\n",
                "print(text.upper())\r\n",
                "\r\n",
                "# in 연산자\r\n",
                "print(\"Python\" in text)"
            ],
            "outputs": [
                {
                    "output_type": "stream",
                    "name": "stdout",
                    "text": [
                        "16\n",
                        "HelloWorldPython\n",
                        "H|e|l|l|o|W|o|r|l|d|P|y|t|h|o|n\n",
                        "['010', '1234', '5678']\n",
                        "010-1234-5678\n",
                        "['Hello', 'World', 'Python'] ['서울시', '마포구', '상암동', '1585']\n",
                        "문자열 정리\n",
                        "공백 정리\n",
                        "하이루#!#!@!@ 하이루#!#!@!\n",
                        "YYZZxYZ\n",
                        "1111-22-33\n",
                        "False True True\n",
                        "hello world 2\n",
                        "Hello Python World, Welcome to Python!!\n",
                        "4\n",
                        "10\n",
                        "31\n",
                        "6\n",
                        "31\n",
                        "Hello python world, welcome to python!!\n",
                        "hello python world, welcome to python!!\n",
                        "HELLO PYTHON WORLD, WELCOME TO PYTHON!!\n",
                        "True\n"
                    ]
                }
            ],
            "metadata": {}
        },
        {
            "cell_type": "code",
            "execution_count": 80,
            "source": [
                "# 문자열 3 - 문자열 포맷팅\r\n",
                "name = '박씨부인'\r\n",
                "age = 25\r\n",
                "phone = '010-1111-222'\r\n",
                "\r\n",
                "info = '이름은 {}이고, 나이는 {}, 전화번호는 {}이다'.format(name, age, phone)\r\n",
                "print(info)\r\n",
                "\r\n",
                "info2 = '이름은 {1}, 나이는 {0}, 전화번호는 {2}이다.'.format(age, name, phone)\r\n",
                "print(info2)\r\n",
                "\r\n",
                "info3 = f'이름은 {name}, 나이는 {age}, 전화번호는 {phone}이다.'\r\n",
                "print(info3)\r\n",
                "\r\n",
                "jan, dec = 1, 12\r\n",
                "print('한해의 시작은 {:02d}'.format(jan))\r\n",
                "\r\n",
                "# 금액 표시\r\n",
                "money = 12345\r\n",
                "print('{:,}'.format(money))\r\n",
                "print(f'{money:,}')\r\n",
                "\r\n",
                "tmp = '{}, {:f}, {:.1f}, {:.2f}'.format(3, 3, 3, 3.14)\r\n",
                "print(tmp)"
            ],
            "outputs": [
                {
                    "output_type": "stream",
                    "name": "stdout",
                    "text": [
                        "이름은 박씨부인이고, 나이는 25, 전화번호는 010-1111-222이다\n",
                        "이름은 박씨부인, 나이는 25, 전화번호는 010-1111-222이다.\n",
                        "이름은 박씨부인, 나이는 25, 전화번호는 010-1111-222이다.\n",
                        "한해의 시작은 01\n",
                        "12,345\n",
                        "12,345\n",
                        "3, 3.000000, 3.0, 3.14\n"
                    ]
                }
            ],
            "metadata": {}
        },
        {
            "cell_type": "code",
            "execution_count": 97,
            "source": [
                "# 리스트\r\n",
                "letter1 = ['A', 'B', 'C']\r\n",
                "letter2 = ['D', 'E', 'F']\r\n",
                "print(letter1 + letter2)\r\n",
                "\r\n",
                "list_num1 = [1, 2, 3]\r\n",
                "list_num2 = [4, 5, 6]\r\n",
                "print(list_num1 + list_num2)\r\n",
                "\r\n",
                "# 원소 추가\r\n",
                "letter1.append('a')\r\n",
                "print(letter1)\r\n",
                "\r\n",
                "# 원소 제거\r\n",
                "letter1.pop(3)\r\n",
                "print(letter1)\r\n",
                "\r\n",
                "# 원소 추가: 특정 인덱스\r\n",
                "letter1.insert(3, 'a')\r\n",
                "print(letter1)\r\n",
                "\r\n",
                "# 원소 제거\r\n",
                "letter1.remove('a')\r\n",
                "print(letter1)\r\n",
                "letter1.append('b')\r\n",
                "print(letter1)\r\n",
                "\r\n",
                "# 리스트 정렬\r\n",
                "letter1.sort()\r\n",
                "\r\n",
                "# 리스트 인덱싱\r\n",
                "print(letter1[0])\r\n",
                "print(letter1[-1])\r\n",
                "print(letter1[::-1])\r\n",
                "print(letter1[len(letter1)-1])\r\n",
                "print(letter1[:])\r\n",
                "print(letter1[::])"
            ],
            "outputs": [
                {
                    "output_type": "stream",
                    "name": "stdout",
                    "text": [
                        "['A', 'B', 'C', 'D', 'E', 'F']\n",
                        "[1, 2, 3, 4, 5, 6]\n",
                        "['A', 'B', 'C', 'a']\n",
                        "['A', 'B', 'C']\n",
                        "['A', 'B', 'C', 'a']\n",
                        "['A', 'B', 'C']\n",
                        "['A', 'B', 'C', 'b']\n",
                        "A\n",
                        "b\n",
                        "['b', 'C', 'B', 'A']\n",
                        "b\n",
                        "['A', 'B', 'C', 'b']\n",
                        "['A', 'B', 'C', 'b']\n"
                    ]
                }
            ],
            "metadata": {}
        },
        {
            "cell_type": "code",
            "execution_count": 107,
            "source": [
                "# 튜플\r\n",
                "# 고정적인 배열\r\n",
                "tu1 = ('a', 'b', 'c', 'd')\r\n",
                "print(tu1)\r\n",
                "\r\n",
                "print(tu1[0])\r\n",
                "\r\n",
                "# tu1[0] = 'A' # 불가\r\n",
                "print(tu1)\r\n",
                "tu1.index('c')\r\n",
                "\r\n",
                "# 리스트 변형\r\n",
                "li1 = list(tu1)\r\n",
                "print(tu1, li1)\r\n",
                "\r\n",
                "# 튜플 변형\r\n",
                "tu2 = tuple(li1)\r\n",
                "print(tu2)"
            ],
            "outputs": [
                {
                    "output_type": "stream",
                    "name": "stdout",
                    "text": [
                        "('a', 'b', 'c', 'd')\n",
                        "a\n",
                        "('a', 'b', 'c', 'd')\n",
                        "('a', 'b', 'c', 'd') ['a', 'b', 'c', 'd']\n",
                        "('a', 'b', 'c', 'd')\n"
                    ]
                }
            ],
            "metadata": {}
        },
        {
            "cell_type": "code",
            "execution_count": 127,
            "source": [
                "# 집합 set\r\n",
                "set1 = {'a','b','c','d', 'a'}\r\n",
                "print(set1)\r\n",
                "\r\n",
                "# 원소 추가\r\n",
                "set1.add('d')\r\n",
                "print(set1)\r\n",
                "set1.add('e')\r\n",
                "print(set1)\r\n",
                "\r\n",
                "# 원소 제거\r\n",
                "set1.pop()\r\n",
                "print(set1)\r\n",
                "set1.remove('a')\r\n",
                "print(set1)\r\n",
                "\r\n",
                "# 연산\r\n",
                "# 교집합, 합집합, 차집합\r\n",
                "set1 = {'A', 'B', 'C', 'D', 'E', 'F'}\r\n",
                "set2 = {'B', 'D', 'G', 'H'}\r\n",
                "\r\n",
                "# 교집합\r\n",
                "print(set1 & set2)\r\n",
                "\r\n",
                "# 합집합\r\n",
                "print(set1 | set2)\r\n",
                "\r\n",
                "# 차집합\r\n",
                "print(set1 - set2)\r\n",
                "print(set1.difference(set2))\r\n",
                "\r\n",
                "# 대칭 차집합\r\n",
                "print(set1 ^ set2)"
            ],
            "outputs": [
                {
                    "output_type": "stream",
                    "name": "stdout",
                    "text": [
                        "{'c', 'b', 'd', 'a'}\n",
                        "{'c', 'b', 'd', 'a'}\n",
                        "{'d', 'a', 'b', 'c', 'e'}\n",
                        "{'a', 'b', 'c', 'e'}\n",
                        "{'b', 'c', 'e'}\n",
                        "{'B', 'D'}\n",
                        "{'D', 'E', 'C', 'F', 'B', 'G', 'H', 'A'}\n",
                        "{'F', 'C', 'A', 'E'}\n",
                        "{'F', 'C', 'A', 'E'}\n",
                        "{'E', 'C', 'F', 'G', 'H', 'A'}\n"
                    ]
                }
            ],
            "metadata": {}
        },
        {
            "cell_type": "code",
            "execution_count": 140,
            "source": [
                "# 딕셔너리\r\n",
                "dic1 = {'수학': 100, '영어': 90}\r\n",
                "print(dic1)\r\n",
                "\r\n",
                "print(dic1['수학'])\r\n",
                "\r\n",
                "dic1['국어'] = 100\r\n",
                "print(dic1)\r\n",
                "\r\n",
                "print(dic1.keys())\r\n",
                "print(dic1.values())\r\n",
                "print(dic1.items())\r\n",
                "\r\n",
                "dic1.pop('국어')\r\n",
                "print(dic1)\r\n",
                "\r\n",
                "for (key, value) in dic1.items():\r\n",
                "    print(key, value)"
            ],
            "outputs": [
                {
                    "output_type": "stream",
                    "name": "stdout",
                    "text": [
                        "{'수학': 100, '영어': 90}\n",
                        "100\n",
                        "{'수학': 100, '영어': 90, '국어': 100}\n",
                        "dict_keys(['수학', '영어', '국어'])\n",
                        "dict_values([100, 90, 100])\n",
                        "dict_items([('수학', 100), ('영어', 90), ('국어', 100)])\n",
                        "{'수학': 100, '영어': 90}\n",
                        "수학 100\n",
                        "영어 90\n"
                    ]
                }
            ],
            "metadata": {}
        },
        {
            "cell_type": "code",
            "execution_count": 142,
            "source": [
                "# 반복문\r\n",
                "print(list(range(10)))\r\n",
                "\r\n",
                "a = 0\r\n",
                "while a < 10:\r\n",
                "    print(a)\r\n",
                "    a += 1\r\n",
                "else:\r\n",
                "    print(f'a가 {a}이므로 종료합니다.')"
            ],
            "outputs": [
                {
                    "output_type": "stream",
                    "name": "stdout",
                    "text": [
                        "[0, 1, 2, 3, 4, 5, 6, 7, 8, 9]\n",
                        "0\n",
                        "1\n",
                        "2\n",
                        "3\n",
                        "4\n",
                        "5\n",
                        "6\n",
                        "7\n",
                        "8\n",
                        "9\n",
                        "a가 10이므로 종료합니다.\n"
                    ]
                }
            ],
            "metadata": {}
        },
        {
            "cell_type": "code",
            "execution_count": 153,
            "source": [
                "# 파이썬 리스트 컴프리헨션\r\n",
                "# Comprehension\r\n",
                "# 리스트 각 원소들에 대해 연산을 수행하여 업데이트\r\n",
                "# 리스트 가공 처리 할 때 간단하고 명료하게 사용\r\n",
                "list1 = [i*2 for i in range(10)]\r\n",
                "print(list1)\r\n",
                "\r\n",
                "list2 = [i**2 for i in range(10) if i % 2 == 1]\r\n",
                "print(list2)"
            ],
            "outputs": [
                {
                    "output_type": "stream",
                    "name": "stdout",
                    "text": [
                        "[0, 2, 4, 6, 8, 10, 12, 14, 16, 18]\n",
                        "[1, 9, 25, 49, 81]\n"
                    ]
                }
            ],
            "metadata": {}
        },
        {
            "cell_type": "code",
            "execution_count": 156,
            "source": [
                "# 사용자 정의 함수\r\n",
                "# 가변 매개변수\r\n",
                "# 매개변수 앞에 * 를 붙여서 매개변수 정의\r\n",
                "# 일반 매개 변수 할당 후 나머지 인자는 튜플로 할당\r\n",
                "# 실제 호출 시, 매개변수 이상의 인자가 들어오면 나머지는 => 튜플\r\n",
                "\r\n",
                "def changeble(x, *y):\r\n",
                "    print(x, y)\r\n",
                "\r\n",
                "changeble(1)\r\n",
                "changeble(1, 2)\r\n",
                "changeble(1, 2, 3)\r\n",
                "changeble([1, 2], [3, 4], 5)"
            ],
            "outputs": [
                {
                    "output_type": "stream",
                    "name": "stdout",
                    "text": [
                        "1 ()\n",
                        "1 (2,)\n",
                        "1 (2, 3)\n",
                        "[1, 2] ([3, 4], 5)\n"
                    ]
                }
            ],
            "metadata": {}
        },
        {
            "cell_type": "code",
            "execution_count": 159,
            "source": [
                "# 파이썬 모듈 활용\r\n",
                "import os\r\n",
                "print(os.getcwd()) #현재 디렉토리는 어디인가\r\n",
                "print(os.listdir()) # 현재 디렉터리에 무슨 파일이 잇는가\r\n",
                "\r\n",
                "import sys\r\n",
                "print(sys.path)"
            ],
            "outputs": [
                {
                    "output_type": "stream",
                    "name": "stdout",
                    "text": [
                        "g:\\Repository\\PublicBigData\\Python\\basic\n",
                        "['.ipynb_checkpoints', '03-1. 연산자.py', '03-3. 내장함수.py', '04-1. 변수.py', '04-2. 자료형.py', '04-3. 형변환.py', '05-1. 문자열.py', '05-2. 문자열 함수.py', '05-3. 문자열 포맷팅.py', '06-1. 리스트.py', '06-2. 리스트 인덱싱과 슬라이싱.py', '06-3. 튜플.py', '07-1. 셋.py', '07-2. 셋의 집합연산.py', '07-3. 딕셔너리.py', '08-1. 비교 논리 연산.py', '08-2. 조건문.py', '08-3. 중첩 복합 조건문.py', '09-1. for 반복문.py', '09-2. while 반복문.py', '09-3. 리스트 컴프리헨션.py', '10-2. 사용자정의 함수.py', '10-3. 함수의 매개변수.py', '11-2. 파이썬 모듈 활용.py', '11-3. 사용자 정의 모듈.py', '12-1. 파일입력.py', '12-2. 파일출력.py', '12-3. 파일시스템.py', 'hello.py', 'hello.txt', 'hello_write.txt', 'myprint.py', '복습.ipynb']\n",
                        "['g:\\\\Repository\\\\PublicBigData\\\\Python\\\\basic', 'c:\\\\Users\\\\user\\\\.vscode\\\\extensions\\\\ms-toolsai.jupyter-2021.8.1054968649\\\\pythonFiles\\\\vscode_datascience_helpers', 'c:\\\\Users\\\\user\\\\.vscode\\\\extensions\\\\ms-toolsai.jupyter-2021.8.1054968649\\\\pythonFiles', 'c:\\\\Users\\\\user\\\\.vscode\\\\extensions\\\\ms-toolsai.jupyter-2021.8.1054968649\\\\pythonFiles\\\\lib\\\\python', 'G:\\\\anaconda3\\\\python38.zip', 'G:\\\\anaconda3\\\\DLLs', 'G:\\\\anaconda3\\\\lib', 'G:\\\\anaconda3', '', 'G:\\\\anaconda3\\\\lib\\\\site-packages', 'G:\\\\anaconda3\\\\lib\\\\site-packages\\\\locket-0.2.1-py3.8.egg', 'G:\\\\anaconda3\\\\lib\\\\site-packages\\\\win32', 'G:\\\\anaconda3\\\\lib\\\\site-packages\\\\win32\\\\lib', 'G:\\\\anaconda3\\\\lib\\\\site-packages\\\\Pythonwin', 'G:\\\\anaconda3\\\\lib\\\\site-packages\\\\IPython\\\\extensions', 'C:\\\\Users\\\\user\\\\.ipython']\n"
                    ]
                }
            ],
            "metadata": {}
        },
        {
            "cell_type": "code",
            "execution_count": 179,
            "source": [
                "# 파이썬 파일 입출력 - 출력\r\n",
                "fr = open('hello.txt', 'r', encoding=\"utf-8\")\r\n",
                "\r\n",
                "for line in fr:\r\n",
                "    print(line, end='>>\\n')\r\n",
                "\r\n",
                "fr.close()\r\n",
                "\r\n",
                "with open('hello.txt', 'r', encoding=\"utf-8\") as fr:\r\n",
                "    for line in fr:\r\n",
                "        print(line)\r\n",
                "\r\n",
                "# 파일 입출력 - 입력\r\n",
                "with open('hello.txt', 'a', encoding=\"utf-8\") as fw:\r\n",
                "    fw.write('안냥하세요 추가')\r\n",
                "\r\n",
                "with open('hello.txt', 'r', encoding=\"utf-8\") as fr:\r\n",
                "    for line in fr:\r\n",
                "        print(line)\r\n"
            ],
            "outputs": [
                {
                    "output_type": "stream",
                    "name": "stdout",
                    "text": [
                        "안냥하세요>>\n",
                        "안냥하세요\n",
                        "안냥하세요안냥하세요 추가\n"
                    ]
                }
            ],
            "metadata": {}
        },
        {
            "cell_type": "code",
            "execution_count": 203,
            "source": [
                "# 파일 시스템\r\n",
                "import os\r\n",
                "print(os.getcwd())\r\n",
                "print(os.listdir('../crawling'))\r\n",
                "\r\n",
                "file_list = os.listdir('.')\r\n",
                "# print(file_list)\r\n",
                "file_ipynb = [i for i in file_list if i.endswith('.ipynb')]\r\n",
                "print(file_ipynb)\r\n",
                "\r\n",
                "# print(os.mkdir('test'))\r\n",
                "print(os.path.join(os.getcwd(), 'test'))\r\n",
                "print(os.path.abspath('hello.txt'))\r\n",
                "print(os.path.isfile('hello.txt'))\r\n",
                "\r\n",
                "a = os.path.split(os.path.abspath('hello.txt'))\r\n",
                "print(a)\r\n",
                "b = os.path.splitext('hello.txt')\r\n",
                "print(b)"
            ],
            "outputs": [
                {
                    "output_type": "stream",
                    "name": "stdout",
                    "text": [
                        "g:\\Repository\\PublicBigData\\Python\\basic\n",
                        "['.ipynb_checkpoints', '고급크롤링 - 실습 (1).html', '고급크롤링 - 실습 (2).html', '고급크롤링 - 실습 (3).html', '고급크롤링 - 실습 (4).html', '고급크롤링 - 실습 (5).html', '고급크롤링 - 실습 (6).html', '고급크롤링 - 실습 (7).html', '실습(1).html', '실습(2).html', '실습(3).html', '실습(4).html', '실습(5).html']\n",
                        "['복습.ipynb']\n",
                        "g:\\Repository\\PublicBigData\\Python\\basic\\test\n",
                        "g:\\Repository\\PublicBigData\\Python\\basic\\hello.txt\n",
                        "True\n",
                        "('g:\\\\Repository\\\\PublicBigData\\\\Python\\\\basic', 'hello.txt')\n",
                        "('hello', '.txt')\n"
                    ]
                }
            ],
            "metadata": {}
        }
    ],
    "metadata": {
        "orig_nbformat": 4,
        "language_info": {
            "name": "python",
            "version": "3.8.8",
            "mimetype": "text/x-python",
            "codemirror_mode": {
                "name": "ipython",
                "version": 3
            },
            "pygments_lexer": "ipython3",
            "nbconvert_exporter": "python",
            "file_extension": ".py"
        },
        "kernelspec": {
            "name": "python3",
            "display_name": "Python 3.8.8 64-bit ('base': conda)"
        },
        "interpreter": {
            "hash": "8cfb3f5d3732c8e9b7a65fa38dddf816068d0252f6ef0bfbc44616f476e20867"
        }
    },
    "nbformat": 4,
    "nbformat_minor": 2
}
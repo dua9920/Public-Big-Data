{
 "cells": [
  {
   "cell_type": "code",
   "execution_count": 39,
   "source": [
    "import pandas as pd\r\n",
    "import numpy as np\r\n",
    "\r\n",
    "import plotly.graph_objects as go\r\n",
    "import chart_studio.plotly as py\r\n",
    "import cufflinks as cf\r\n",
    "cf.go_offline(connected=True)\r\n"
   ],
   "outputs": [
    {
     "output_type": "display_data",
     "data": {
      "text/html": [
       "        <script type=\"text/javascript\">\n",
       "        window.PlotlyConfig = {MathJaxConfig: 'local'};\n",
       "        if (window.MathJax) {MathJax.Hub.Config({SVG: {font: \"STIX-Web\"}});}\n",
       "        if (typeof require !== 'undefined') {\n",
       "        require.undef(\"plotly\");\n",
       "        requirejs.config({\n",
       "            paths: {\n",
       "                'plotly': ['https://cdn.plot.ly/plotly-2.2.0.min']\n",
       "            }\n",
       "        });\n",
       "        require(['plotly'], function(Plotly) {\n",
       "            window._Plotly = Plotly;\n",
       "        });\n",
       "        }\n",
       "        </script>\n",
       "        "
      ]
     },
     "metadata": {}
    }
   ],
   "metadata": {}
  },
  {
   "cell_type": "code",
   "execution_count": 4,
   "source": [
    "df = pd.DataFrame(np.random.rand(10, 2),columns=['A', 'B'])\r\n",
    "df"
   ],
   "outputs": [
    {
     "output_type": "execute_result",
     "data": {
      "text/html": [
       "<div>\n",
       "<style scoped>\n",
       "    .dataframe tbody tr th:only-of-type {\n",
       "        vertical-align: middle;\n",
       "    }\n",
       "\n",
       "    .dataframe tbody tr th {\n",
       "        vertical-align: top;\n",
       "    }\n",
       "\n",
       "    .dataframe thead th {\n",
       "        text-align: right;\n",
       "    }\n",
       "</style>\n",
       "<table border=\"1\" class=\"dataframe\">\n",
       "  <thead>\n",
       "    <tr style=\"text-align: right;\">\n",
       "      <th></th>\n",
       "      <th>A</th>\n",
       "      <th>B</th>\n",
       "    </tr>\n",
       "  </thead>\n",
       "  <tbody>\n",
       "    <tr>\n",
       "      <th>0</th>\n",
       "      <td>0.103710</td>\n",
       "      <td>0.354347</td>\n",
       "    </tr>\n",
       "    <tr>\n",
       "      <th>1</th>\n",
       "      <td>0.472474</td>\n",
       "      <td>0.280014</td>\n",
       "    </tr>\n",
       "    <tr>\n",
       "      <th>2</th>\n",
       "      <td>0.919098</td>\n",
       "      <td>0.231949</td>\n",
       "    </tr>\n",
       "    <tr>\n",
       "      <th>3</th>\n",
       "      <td>0.994754</td>\n",
       "      <td>0.725370</td>\n",
       "    </tr>\n",
       "    <tr>\n",
       "      <th>4</th>\n",
       "      <td>0.472465</td>\n",
       "      <td>0.852862</td>\n",
       "    </tr>\n",
       "    <tr>\n",
       "      <th>5</th>\n",
       "      <td>0.025862</td>\n",
       "      <td>0.247384</td>\n",
       "    </tr>\n",
       "    <tr>\n",
       "      <th>6</th>\n",
       "      <td>0.881057</td>\n",
       "      <td>0.305553</td>\n",
       "    </tr>\n",
       "    <tr>\n",
       "      <th>7</th>\n",
       "      <td>0.232560</td>\n",
       "      <td>0.874750</td>\n",
       "    </tr>\n",
       "    <tr>\n",
       "      <th>8</th>\n",
       "      <td>0.320193</td>\n",
       "      <td>0.235091</td>\n",
       "    </tr>\n",
       "    <tr>\n",
       "      <th>9</th>\n",
       "      <td>0.513538</td>\n",
       "      <td>0.750445</td>\n",
       "    </tr>\n",
       "  </tbody>\n",
       "</table>\n",
       "</div>"
      ],
      "text/plain": [
       "          A         B\n",
       "0  0.103710  0.354347\n",
       "1  0.472474  0.280014\n",
       "2  0.919098  0.231949\n",
       "3  0.994754  0.725370\n",
       "4  0.472465  0.852862\n",
       "5  0.025862  0.247384\n",
       "6  0.881057  0.305553\n",
       "7  0.232560  0.874750\n",
       "8  0.320193  0.235091\n",
       "9  0.513538  0.750445"
      ]
     },
     "metadata": {},
     "execution_count": 4
    }
   ],
   "metadata": {}
  },
  {
   "cell_type": "code",
   "execution_count": null,
   "source": [
    "# Bar 그래프\r\n",
    "\r\n",
    "fig = go.Figure()\r\n",
    "# fig.add_trace(\r\n",
    "#     go.Bar(\r\n",
    "#         x=df.index, y=df['A'], name='A', text=df['A'], textposition='auto'\r\n",
    "#     )\r\n",
    "# )\r\n",
    "fig.add_trace(\r\n",
    "    go.Bar(\r\n",
    "        x=df.index, y=df['A'], name='A',\r\n",
    "        text=df['A'], textposition='auto', texttemplate='%{y:.2f}'\r\n",
    "    )\r\n",
    ")\r\n",
    "\r\n",
    "fig.add_trace(\r\n",
    "    go.Bar(\r\n",
    "        x=df.index, y=df['B'], name='B',\r\n",
    "        text=df['B'], textposition='auto', texttemplate='%{y:.2f}'\r\n",
    "    )\r\n",
    ")\r\n",
    "\r\n",
    "fig.update_layout(\r\n",
    "    {\r\n",
    "        'title': {\r\n",
    "            'text': 'bar graph',\r\n",
    "            'x': 0.5,\r\n",
    "            'y': 0.9,\r\n",
    "            'font': {\r\n",
    "                'size': 20\r\n",
    "            }\r\n",
    "        },\r\n",
    "        'showlegend':True,\r\n",
    "        'xaxis': {\r\n",
    "            'title': 'random number',\r\n",
    "            'showticklabels': True, # 타이틀 위에 있는 틱을 표현할것인가\r\n",
    "            'dtick': 1 # 그 틱의 단위, 1마다 표시\r\n",
    "        },\r\n",
    "        'yaxis': {\r\n",
    "            'title': 'A',\r\n",
    "            # 'showticklabels': True,  # 타이틀 위에 있는 틱을 표현할것인가\r\n",
    "            # 'dtick': 0.01  # 그 틱의 단위, 1마다 표시\r\n",
    "        },\r\n",
    "        'autosize': False,\r\n",
    "        'width': 800,\r\n",
    "        'height': 400\r\n",
    "    }\r\n",
    ")\r\n",
    "\r\n",
    "# fig.show()\r\n"
   ],
   "outputs": [],
   "metadata": {}
  },
  {
   "cell_type": "markdown",
   "source": [
    "----"
   ],
   "metadata": {}
  },
  {
   "cell_type": "code",
   "execution_count": 31,
   "source": [
    "# 탐색적 데이터 분석 (EDA)\r\n",
    "# 1. 데이터의 출처와 주제에 대해 이해\r\n",
    "# 2. 데이터의 크기 확인\r\n",
    "# 3. 데이터 구성 요소의 속성 확인"
   ],
   "outputs": [],
   "metadata": {}
  },
  {
   "cell_type": "code",
   "execution_count": null,
   "source": [
    "# 1. 데이터 분석을 위한 위치 추정과 범위 추정\r\n",
    "# - 탐색적 데이터 분석의 세번째, feature 분석을 위한 기본 탐색\r\n",
    "#   - 위치 추정: 방대한 데이터의 대푯값을 구해서, 해당 feature의 일종의 요약 정보 도출\r\n",
    "#   - 변이 추정: 방대한 데이터의 분포를 알아내어, 해당 feature의 일종의 요약 정보 도출"
   ],
   "outputs": [],
   "metadata": {}
  },
  {
   "cell_type": "code",
   "execution_count": null,
   "source": [
    "# 1.1 위치 추정\r\n",
    "# feature를 대표할 수 있는 대푯값을 찾는 것\r\n",
    "# - 평균 (mean): 모든 값을 갯수로 나눈 값\r\n",
    "# - 가중 평균 (weighted mean):\r\n",
    "#   - 데이터값, 가중치의 총 합을 다시 가중치의 총합으로 나눈 것\r\n",
    "# - 중간값 (median): 데이터를 정렬한 후 중간에 위치한 값을 취함\r\n",
    "# - 절사평균 (trimmed mean): 데이터를 정렬한 후, 양 끝에서 일정 개수의 값들을 빼고,\r\n",
    "#                          남은 데이터를 기반으로 평균을 계산\r\n",
    "#                          즉, 특잇값을 평균을 구할 때 제외"
   ],
   "outputs": [],
   "metadata": {}
  },
  {
   "cell_type": "code",
   "execution_count": null,
   "source": [
    "# 1.2 변이 추정\r\n",
    "# 주로 표준편차를 사용\r\n",
    "# - 분산(variance): 평균과 각 데이터간의 차를 제곱한 값들의 합을 데이터 갯수로 나눈 값\r\n",
    "# - 표준편차(standard deviation): 분산은 수치가 너무 커서, 분산의 제곱근을 사용"
   ],
   "outputs": [],
   "metadata": {}
  },
  {
   "cell_type": "code",
   "execution_count": 33,
   "source": [
    "df = pd.DataFrame({\r\n",
    "    'A': [1,2,3,4,5,6],\r\n",
    "    'B': [1,2,3,4,5,100]\r\n",
    "})\r\n",
    "df"
   ],
   "outputs": [
    {
     "output_type": "execute_result",
     "data": {
      "text/html": [
       "<div>\n",
       "<style scoped>\n",
       "    .dataframe tbody tr th:only-of-type {\n",
       "        vertical-align: middle;\n",
       "    }\n",
       "\n",
       "    .dataframe tbody tr th {\n",
       "        vertical-align: top;\n",
       "    }\n",
       "\n",
       "    .dataframe thead th {\n",
       "        text-align: right;\n",
       "    }\n",
       "</style>\n",
       "<table border=\"1\" class=\"dataframe\">\n",
       "  <thead>\n",
       "    <tr style=\"text-align: right;\">\n",
       "      <th></th>\n",
       "      <th>A</th>\n",
       "      <th>B</th>\n",
       "    </tr>\n",
       "  </thead>\n",
       "  <tbody>\n",
       "    <tr>\n",
       "      <th>0</th>\n",
       "      <td>1</td>\n",
       "      <td>1</td>\n",
       "    </tr>\n",
       "    <tr>\n",
       "      <th>1</th>\n",
       "      <td>2</td>\n",
       "      <td>2</td>\n",
       "    </tr>\n",
       "    <tr>\n",
       "      <th>2</th>\n",
       "      <td>3</td>\n",
       "      <td>3</td>\n",
       "    </tr>\n",
       "    <tr>\n",
       "      <th>3</th>\n",
       "      <td>4</td>\n",
       "      <td>4</td>\n",
       "    </tr>\n",
       "    <tr>\n",
       "      <th>4</th>\n",
       "      <td>5</td>\n",
       "      <td>5</td>\n",
       "    </tr>\n",
       "    <tr>\n",
       "      <th>5</th>\n",
       "      <td>6</td>\n",
       "      <td>100</td>\n",
       "    </tr>\n",
       "  </tbody>\n",
       "</table>\n",
       "</div>"
      ],
      "text/plain": [
       "   A    B\n",
       "0  1    1\n",
       "1  2    2\n",
       "2  3    3\n",
       "3  4    4\n",
       "4  5    5\n",
       "5  6  100"
      ]
     },
     "metadata": {},
     "execution_count": 33
    }
   ],
   "metadata": {}
  },
  {
   "cell_type": "code",
   "execution_count": 35,
   "source": [
    "df.describe()"
   ],
   "outputs": [
    {
     "output_type": "execute_result",
     "data": {
      "text/html": [
       "<div>\n",
       "<style scoped>\n",
       "    .dataframe tbody tr th:only-of-type {\n",
       "        vertical-align: middle;\n",
       "    }\n",
       "\n",
       "    .dataframe tbody tr th {\n",
       "        vertical-align: top;\n",
       "    }\n",
       "\n",
       "    .dataframe thead th {\n",
       "        text-align: right;\n",
       "    }\n",
       "</style>\n",
       "<table border=\"1\" class=\"dataframe\">\n",
       "  <thead>\n",
       "    <tr style=\"text-align: right;\">\n",
       "      <th></th>\n",
       "      <th>A</th>\n",
       "      <th>B</th>\n",
       "    </tr>\n",
       "  </thead>\n",
       "  <tbody>\n",
       "    <tr>\n",
       "      <th>count</th>\n",
       "      <td>6.000000</td>\n",
       "      <td>6.000000</td>\n",
       "    </tr>\n",
       "    <tr>\n",
       "      <th>mean</th>\n",
       "      <td>3.500000</td>\n",
       "      <td>19.166667</td>\n",
       "    </tr>\n",
       "    <tr>\n",
       "      <th>std</th>\n",
       "      <td>1.870829</td>\n",
       "      <td>39.625329</td>\n",
       "    </tr>\n",
       "    <tr>\n",
       "      <th>min</th>\n",
       "      <td>1.000000</td>\n",
       "      <td>1.000000</td>\n",
       "    </tr>\n",
       "    <tr>\n",
       "      <th>25%</th>\n",
       "      <td>2.250000</td>\n",
       "      <td>2.250000</td>\n",
       "    </tr>\n",
       "    <tr>\n",
       "      <th>50%</th>\n",
       "      <td>3.500000</td>\n",
       "      <td>3.500000</td>\n",
       "    </tr>\n",
       "    <tr>\n",
       "      <th>75%</th>\n",
       "      <td>4.750000</td>\n",
       "      <td>4.750000</td>\n",
       "    </tr>\n",
       "    <tr>\n",
       "      <th>max</th>\n",
       "      <td>6.000000</td>\n",
       "      <td>100.000000</td>\n",
       "    </tr>\n",
       "  </tbody>\n",
       "</table>\n",
       "</div>"
      ],
      "text/plain": [
       "              A           B\n",
       "count  6.000000    6.000000\n",
       "mean   3.500000   19.166667\n",
       "std    1.870829   39.625329\n",
       "min    1.000000    1.000000\n",
       "25%    2.250000    2.250000\n",
       "50%    3.500000    3.500000\n",
       "75%    4.750000    4.750000\n",
       "max    6.000000  100.000000"
      ]
     },
     "metadata": {},
     "execution_count": 35
    }
   ],
   "metadata": {}
  },
  {
   "cell_type": "markdown",
   "source": [
    "---"
   ],
   "metadata": {}
  },
  {
   "cell_type": "code",
   "execution_count": null,
   "source": [
    "# 2. 보다 빠른 분석을 위한 데이터 분류 이해\r\n",
    "# - 데이터를 분석, 시각화, 예측하는 전반적인 과정에서 데이터에 대한 큰 그림을 이체하는 것이 도움이 됨"
   ],
   "outputs": [],
   "metadata": {}
  },
  {
   "cell_type": "code",
   "execution_count": null,
   "source": [
    "# 1. 수치형 데이터\r\n",
    "# - 연속형 데이터: 특정한 범위 안에 어떤 값\r\n",
    "# - 이산형 데이터: 횟수와 같은 정수만 가질 수 있는 데이터\r\n",
    "# 1) 다섯 수치 요약\r\n",
    "# 최소값, 제1사분위수, 중간값, 제2사분위수, 제3사분위수\r\n",
    "\r\n",
    "# 2. 범주형 데이터\r\n",
    "# - 명목형 데이터: 카테고리, 타입, 항목 등 데이터 분류를 위해 이미 정해진 값이 있는 데이터\r\n",
    "#   - 데이터가 가질 수 있는 값을 수준(levels) 라고 부름\r\n",
    "# - 순서형 데이터: 이미 정해진 값 사이의 순서 관계가 있는 데이터"
   ],
   "outputs": [],
   "metadata": {}
  },
  {
   "cell_type": "code",
   "execution_count": null,
   "source": [
    "# box 그래프 그려보기\r\n",
    "df.iplot('box')"
   ],
   "outputs": [],
   "metadata": {}
  },
  {
   "cell_type": "code",
   "execution_count": null,
   "source": [
    "df['A'].iplot('box')"
   ],
   "outputs": [],
   "metadata": {}
  },
  {
   "cell_type": "code",
   "execution_count": null,
   "source": [
    "# plotly.graph_objects 로 그려보기\r\n",
    "fig = go.Figure()\r\n",
    "\r\n",
    "fig.add_trace(\r\n",
    "    go.Box(\r\n",
    "        y=df['A'], name='A'\r\n",
    "    )\r\n",
    ")\r\n",
    "\r\n",
    "fig.add_trace(\r\n",
    "    go.Box(\r\n",
    "        y=df['B'], name='B'\r\n",
    "    )\r\n",
    ")\r\n",
    "\r\n",
    "fig.show()"
   ],
   "outputs": [],
   "metadata": {}
  },
  {
   "cell_type": "markdown",
   "source": [
    "---"
   ],
   "metadata": {}
  },
  {
   "cell_type": "code",
   "execution_count": 45,
   "source": [
    "# 히스토그램 (도수분포표) 그리기\r\n",
    "df = pd.DataFrame(np.random.rand(100000, 1), columns=['A'])\r\n",
    "df.head()"
   ],
   "outputs": [
    {
     "output_type": "execute_result",
     "data": {
      "text/html": [
       "<div>\n",
       "<style scoped>\n",
       "    .dataframe tbody tr th:only-of-type {\n",
       "        vertical-align: middle;\n",
       "    }\n",
       "\n",
       "    .dataframe tbody tr th {\n",
       "        vertical-align: top;\n",
       "    }\n",
       "\n",
       "    .dataframe thead th {\n",
       "        text-align: right;\n",
       "    }\n",
       "</style>\n",
       "<table border=\"1\" class=\"dataframe\">\n",
       "  <thead>\n",
       "    <tr style=\"text-align: right;\">\n",
       "      <th></th>\n",
       "      <th>A</th>\n",
       "    </tr>\n",
       "  </thead>\n",
       "  <tbody>\n",
       "    <tr>\n",
       "      <th>0</th>\n",
       "      <td>0.436653</td>\n",
       "    </tr>\n",
       "    <tr>\n",
       "      <th>1</th>\n",
       "      <td>0.982066</td>\n",
       "    </tr>\n",
       "    <tr>\n",
       "      <th>2</th>\n",
       "      <td>0.212944</td>\n",
       "    </tr>\n",
       "    <tr>\n",
       "      <th>3</th>\n",
       "      <td>0.179211</td>\n",
       "    </tr>\n",
       "    <tr>\n",
       "      <th>4</th>\n",
       "      <td>0.196667</td>\n",
       "    </tr>\n",
       "  </tbody>\n",
       "</table>\n",
       "</div>"
      ],
      "text/plain": [
       "          A\n",
       "0  0.436653\n",
       "1  0.982066\n",
       "2  0.212944\n",
       "3  0.179211\n",
       "4  0.196667"
      ]
     },
     "metadata": {},
     "execution_count": 45
    }
   ],
   "metadata": {}
  },
  {
   "cell_type": "code",
   "execution_count": null,
   "source": [
    "df.iplot(kind='histogram')"
   ],
   "outputs": [],
   "metadata": {}
  },
  {
   "cell_type": "code",
   "execution_count": null,
   "source": [
    "# 구간 나누기\r\n",
    "# 분포를 확인하는데 유용\r\n",
    "df.iplot('histogram', bins=10)"
   ],
   "outputs": [],
   "metadata": {}
  },
  {
   "cell_type": "code",
   "execution_count": null,
   "source": [
    "fig = go.Figure()\r\n",
    "\r\n",
    "fig.add_trace(\r\n",
    "    go.Histogram(\r\n",
    "        x=df['A'], name='A',\r\n",
    "        xbins=dict(\r\n",
    "            start=0,\r\n",
    "            end=1,\r\n",
    "            size=0.05 # 0.05 단위로 자르기\r\n",
    "        ),\r\n",
    "        marker_color='#F50057' # 바 색상\r\n",
    "    )\r\n",
    ")\r\n",
    "\r\n",
    "fig.update_layout(\r\n",
    "    title_text = 'Sample Results',\r\n",
    "    xaxis_title_text = 'Value',\r\n",
    "    yaxis_title_text='Count',\r\n",
    "    bargap=0.1 # 바 사이의 갭을 조정\r\n",
    ")\r\n",
    "\r\n",
    "fig.show()"
   ],
   "outputs": [],
   "metadata": {}
  }
 ],
 "metadata": {
  "orig_nbformat": 4,
  "language_info": {
   "name": "python",
   "version": "3.8.8",
   "mimetype": "text/x-python",
   "codemirror_mode": {
    "name": "ipython",
    "version": 3
   },
   "pygments_lexer": "ipython3",
   "nbconvert_exporter": "python",
   "file_extension": ".py"
  },
  "kernelspec": {
   "name": "python3",
   "display_name": "Python 3.8.8 64-bit ('base': conda)"
  },
  "interpreter": {
   "hash": "8cfb3f5d3732c8e9b7a65fa38dddf816068d0252f6ef0bfbc44616f476e20867"
  }
 },
 "nbformat": 4,
 "nbformat_minor": 2
}
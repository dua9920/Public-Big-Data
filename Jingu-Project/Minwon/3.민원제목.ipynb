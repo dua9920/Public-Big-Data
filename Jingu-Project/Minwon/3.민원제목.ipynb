{
 "cells": [
  {
   "cell_type": "code",
   "execution_count": null,
   "metadata": {},
   "outputs": [],
   "source": [
    "import os\n",
    "import pandas as pd\n",
    "from wordcloud import WordCloud\n",
    "import matplotlib.pyplot as plt\n",
    "import re\n",
    "\n",
    "import plotly.graph_objects as go\n",
    "import chart_studio.plotly as py\n",
    "import cufflinks as cf\n",
    "cf.go_offline(connected=True)\n"
   ]
  },
  {
   "cell_type": "markdown",
   "metadata": {},
   "source": [
    "---\n",
    "# <center><b>1. 파일 불러오기</b></center>\n",
    "---"
   ]
  },
  {
   "cell_type": "code",
   "execution_count": null,
   "metadata": {},
   "outputs": [],
   "source": [
    "# 파일 경로 지정하기\n",
    "os.chdir('C:\\민원분석참조모델\\data\\결과')"
   ]
  },
  {
   "cell_type": "code",
   "execution_count": null,
   "metadata": {},
   "outputs": [],
   "source": [
    "# 결과 폴더 파일 목록 가져오기\n",
    "df_list = list(os.listdir(os.getcwd()))\n",
    "df_list"
   ]
  },
  {
   "cell_type": "code",
   "execution_count": null,
   "metadata": {},
   "outputs": [],
   "source": [
    "# 몇번째 파일 분석할건지 지정\n",
    "index = 0"
   ]
  },
  {
   "cell_type": "code",
   "execution_count": null,
   "metadata": {},
   "outputs": [],
   "source": [
    "# 분석할 파일 불러오기\n",
    "df = pd.read_csv(df_list[index], encoding='euc-kr')"
   ]
  },
  {
   "cell_type": "code",
   "execution_count": null,
   "metadata": {},
   "outputs": [],
   "source": [
    "# 파일 개요\n",
    "df.info()"
   ]
  },
  {
   "cell_type": "code",
   "execution_count": null,
   "metadata": {},
   "outputs": [],
   "source": [
    "# 필요한 컬럼 추출\n",
    "df = df[['민원제목']]\n",
    "df"
   ]
  },
  {
   "cell_type": "markdown",
   "metadata": {},
   "source": [
    "---\n",
    "# <center><b>2. 데이터 전처리</b></center>\n",
    "---"
   ]
  },
  {
   "cell_type": "code",
   "execution_count": null,
   "metadata": {},
   "outputs": [],
   "source": [
    "kind = list() # 민원제목유형 리스트\n",
    "main = list() # 민원제목내용 리스트\n",
    "\n",
    "# 정규식 이용해서 괄호 문자열 제거하기\n",
    "regex = \"\\(.*\\)|\\s-\\s.*|\\[.*\\]\"\n",
    "df = df.dropna() # 결측치 제거\n",
    "\n",
    "for i in df.index:\n",
    "    start = df['민원제목'][i].find('[')\n",
    "    if start != -1:\n",
    "        end = df['민원제목'][i].find(']', start)\n",
    "        title = df['민원제목'][i][start:end+1].strip()\n",
    "        script = df['민원제목'][i][end+1:].strip()\n",
    "        script = re.sub(regex, '', script).replace('\\n\\n*', '')\n",
    "    else:\n",
    "        title = \"유형없음\"\n",
    "        script = df['민원제목'][i]\n",
    "        \n",
    "    kind.append(title)\n",
    "    main.append(script)\n",
    "\n",
    "# 컬럼 추가하기\n",
    "df['민원제목유형'] = kind\n",
    "df['민원제목내용'] = main\n",
    "\n",
    "df = df[['민원제목유형', '민원제목내용', '민원제목']]\n",
    "df.to_csv(\n",
    "    f'../../result/3.민원제목/민원제목_{df_list[index]}', encoding='euc-kr', index=False)\n"
   ]
  },
  {
   "cell_type": "code",
   "execution_count": null,
   "metadata": {},
   "outputs": [],
   "source": [
    "# 민원제목유형에 따른 빈도 수\n",
    "df_kind = df.groupby('민원제목유형', as_index=True).count()\n",
    "df_kind = df_kind[['민원제목']]\n",
    "df_kind = df_kind.rename(columns={'민원제목': '빈도'})\n",
    "df_kind.sort_values(by='빈도', ascending=False, inplace=True)\n",
    "\n",
    "df_kind.to_csv(f'../../result/3.민원제목/민원제목유형_빈도_{df_list[index]}', encoding='euc-kr')"
   ]
  },
  {
   "cell_type": "markdown",
   "metadata": {},
   "source": [
    "---\n",
    "# <center><b>3. 데이터 시각화</b></center>\n",
    "---"
   ]
  },
  {
   "cell_type": "code",
   "execution_count": null,
   "metadata": {},
   "outputs": [],
   "source": [
    "# 민원제목유형 빈도 파이차트\n",
    "\n",
    "# 레이아웃 설정\n",
    "layout = {\n",
    "    'title': {\n",
    "        'text': '<b>민원 제목유형 빈도 파이차트 분석</b>',\n",
    "        'font': {\n",
    "            'size': 20\n",
    "        },\n",
    "        'x': 0.5,\n",
    "    },\n",
    "    'showlegend': True,\n",
    "    'legend': {\n",
    "        'title': {\n",
    "            'text': '<b>제목유형</b>',\n",
    "            'font': {\n",
    "                'size': 15\n",
    "            },\n",
    "        },\n",
    "        'borderwidth': 20,\n",
    "        'bordercolor': '#fff',\n",
    "        # 'bgcolor': '#F0F8FF',\n",
    "    },\n",
    "    'autosize': True\n",
    "    # 'width': 600,\n",
    "    # 'height': 600,\n",
    "}\n",
    "\n",
    "fig = go.Figure()\n",
    "\n",
    "fig.add_trace(\n",
    "    go.Pie(\n",
    "        labels=df_kind.index, values=df_kind['빈도']\n",
    "    )\n",
    ")\n",
    "fig.update_traces(textposition='inside', textinfo='percent+label+value')\n",
    "\n",
    "fig.update_layout(layout)\n",
    "\n",
    "fig.show()\n"
   ]
  },
  {
   "cell_type": "markdown",
   "metadata": {},
   "source": [
    "---\n",
    "# <center><b>4. 워드 클라우드</b></center>\n",
    "---"
   ]
  },
  {
   "cell_type": "code",
   "execution_count": null,
   "metadata": {},
   "outputs": [],
   "source": [
    "# 워드클라우드 단어 모으기\n",
    "\n",
    "word = set()\n",
    "for i in df.index:\n",
    "    temp = df['민원제목내용'][i].strip().split()\n",
    "    for j in temp:\n",
    "        word.add(j.replace(',', ''))"
   ]
  },
  {
   "cell_type": "code",
   "execution_count": null,
   "metadata": {},
   "outputs": [],
   "source": [
    "# 워드 문자열화\n",
    "word_str = ' '.join(word)"
   ]
  },
  {
   "cell_type": "code",
   "execution_count": null,
   "metadata": {},
   "outputs": [],
   "source": [
    "# 불용어 처리\n",
    "STOP_WORDS = {\n",
    "    '신고', '신고입니다', '신고합니다',\n",
    "    'quot', '1AA', 'apos', 'x29', 'x28',\n",
    "    '단속해주세요', '하였습니다',\n",
    "    'http', 'https', 'https www',\n",
    "    '안되나요', '해주세요', '있습니다', '갑니다',\n",
    "    '상황입니다', 'SPP', '에', '주',\n",
    "    '하는데', '안녕하세요', '문의드립니다', '심합니다',\n",
    "    '심하네요', '을', '를', '은', '는', '있다', '제발',\n",
    "    '입니다', '바랍니다', '요청', '다', '봐주세요',\n",
    "    '민원입니다', '대놓네요', '하네요', '사진', '아닌가요',\n",
    "    '부탁드립니다', '부탁', '부탁합니다', '2AA', '으로', '에서',\n",
    "    '가', '이', '구', '되나요', '이거', '했습니다', '로', '도',\n",
    "    'S', '부', '겁니까', '봅니다', '같아요', '않아요', '않습니다',\n",
    "    '확인부탁드려요', '부탁드려요', '아닙니다', '중입니다', '맞나요',\n",
    "    '하세요', '처리해주세요', '요청드립니다', '있어요', '내용',\n",
    "    '문의', '안녕하십니까', '주십시오', '그리고', '그래서',\n",
    "    '빨리', '없네요', '오후', '오전', '오늘', '현재',\n",
    "    '합니다', '앞입니다', '진짜', '등', '많습니다', '수고하세요', '수고하십니다',\n",
    "    '있네요', '같습니다', '그런데', '있나요', '사진입니다', '없나요',\n",
    "    '또', '어렵습니다', '습니다', '저희는', '는데', '어요', '부터', '지금',\n",
    "    '위', '음', '됩니까', '라는', '고', '과',\n",
    "    '앞', '옆', '있음', '같은', '납니다', '주세요', '없습니다', '생깁니다',\n",
    "    '빨리치워주세요', '치워주세요',\n",
    "    '감사하겠습니다', '조치부탁드립니다',\n",
    "    '하나요', '드립니다', '특히', '불편하네요', '위험합니다',\n",
    "    '동영상', '올립니다', '없어요', '주민입니다', '안됩니다',\n",
    "    '놔두고', '줍니다', '아닙니까', '어제', '나네요', '및', '했네요',\n",
    "    '매번', '상습적으로', '아닌데', '꼭', '아침', '상습',\n",
    "    '수고많으십니다', '하더군요', '어떻게', '정말', 'ㅜㅜ', '^^',\n",
    "    '합니까', '뭐하는', '하는', '계속', '아니면', '해주십시오', '해주십시요',\n",
    "    'map', 'GmapShow', 'net service', 'B3 A0',\n",
    "    'event php', 'BO EA', 'do position', 'go', 'kr', 'go kr', 'amp',\n",
    "    'downloadFile do', 'It', 'www', 'www clien', 'gmap go',\n",
    "    'service board', 'youtube', 'youtube com', 'naver com',\n",
    "    'board hongbo', 'portalap map', 'blog', 'blog naver', 'www gmap',\n",
    "    'kr portalap', 'GmapShow', 'do', 'GmapShow do', 'lur downloadFile',\n",
    "    'ED BO', 'instagram com', 'do', 'com', 'com watch', 'watch v',\n",
    "    'www ppeum20', 'EC AC', 'ppeum20 com', 'mimimi co', 'amp',\n",
    "    'tistory com', 'br', 'gt', 'br gt', 'itemId vendorItemId',\n",
    "    'portalap', 'clien net', 'tistory', 'naver', 'gmap',\n",
    "    'position', 'service board', 'net service', 'net',\n",
    "    'youtu be', 'smartsotre', 'NaPm ct', 'nbsp', 'clien',\n",
    "    'm', 'It', 'it', 'lur downloadFile', 'instagram', 'vendorItemId q',\n",
    "    'board hongbo', 'dscfNtNo', 'service', 'board', 'hongbo',\n",
    "    '의', 'IT', 'me', 'coupang', 'A', 'downloadFile',\n",
    "    'youtu', 'be', 'youtube', 'watch', 'v', 'V',\n",
    "    '기관지정요청', '안내', '갤러리에서 불러와',\n",
    "    '열어보실', '제거', 'URL', 'URL을 복사하여',\n",
    "    '해당', '해당 URL을', '정보시스템', '안내', '지방행정통합',\n",
    "    '지방행정통합 정보시스템', '신고위치 URL',\n",
    "    '붙여넣으면', '열어보실 수', '갤러리', '에서', '불러와', '첨부한',\n",
    "    '여기', '때문에', ' 불법주차', '불법주차 ', ' URL을 복사하여',\n",
    "    '브라우저', '복사하여', '제가', '불법주차 불법주차',\n",
    "    '아니고', '사람이', '다시', '더', '좀', '못하게', '많은',\n",
    "    '담당자분들께서는 첨부파일', '바로 촬용하여',\n",
    "    '부근', '저는', '스토리지에서 1개월 자료를 보관하고', '인해 스토리지에서', '공간으로 인해', '그냥', 'G', '너무', '있는데', '스토리지', '담당자분들께서는', '첨부파일',\n",
    "    '그', '스토리이제어 1개월', '다른', '저장 공간으로', 'URL을',\n",
    "    '사진촬영시간', '감사합니다', '너무', 'e',\n",
    "    '경우', 'p', '밤', '야간', '건', '뒤', '앞', '요망', '신청',\n",
    "    '네요', '없음', '않음', '국', '상',\n",
    "    '못한다', '밤', '때', '관련', '위반내용', '문제', '추가',\n",
    "    '진정', '신고파일', '파일', '민원', '사람', '발생'\n",
    "}\n"
   ]
  },
  {
   "cell_type": "code",
   "execution_count": null,
   "metadata": {},
   "outputs": [],
   "source": [
    "# 워드 클라우드 폰트 설정\n",
    "\n",
    "FONT_PATH = 'C:/Users/user/AppData/Local/Microsoft/Windows/Fonts/AppleSDGothicNeoB.ttf'"
   ]
  },
  {
   "cell_type": "code",
   "execution_count": null,
   "metadata": {},
   "outputs": [],
   "source": [
    "# 워드클라우드 분석\n",
    "\n",
    "wordcloud = WordCloud(\n",
    "    stopwords=STOP_WORDS,\n",
    "    font_path=FONT_PATH,\n",
    "    background_color='white',\n",
    "    width=800,\n",
    "    height=800).generate(word_str)"
   ]
  },
  {
   "cell_type": "code",
   "execution_count": null,
   "metadata": {},
   "outputs": [],
   "source": [
    "# 워드클라우드 이미지 확인\n",
    "\n",
    "plt.figure(figsize=(100, 100))  # 이미지 사이즈 지정\n",
    "plt.imshow(wordcloud) \n",
    "plt.axis('off')  # x y 축 숫자 제거\n",
    "plt.show()"
   ]
  }
 ],
 "metadata": {
  "interpreter": {
   "hash": "8cfb3f5d3732c8e9b7a65fa38dddf816068d0252f6ef0bfbc44616f476e20867"
  },
  "kernelspec": {
   "display_name": "Python 3.8.8 64-bit ('base': conda)",
   "name": "python3"
  },
  "language_info": {
   "codemirror_mode": {
    "name": "ipython",
    "version": 3
   },
   "file_extension": ".py",
   "mimetype": "text/x-python",
   "name": "python",
   "nbconvert_exporter": "python",
   "pygments_lexer": "ipython3",
   "version": "3.8.8"
  },
  "orig_nbformat": 4
 },
 "nbformat": 4,
 "nbformat_minor": 2
}

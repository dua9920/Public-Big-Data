{
 "cells": [
  {
   "cell_type": "code",
   "execution_count": null,
   "metadata": {},
   "outputs": [],
   "source": [
    "import plotly.offline as pyo  # 주피터에 보여지도록 설정\n",
    "import plotly.graph_objects as go\n",
    "\n",
    "import os\n",
    "import pandas as pd\n",
    "import numpy as np\n",
    "\n",
    "import chart_studio.plotly as py\n",
    "import cufflinks as cf\n",
    "cf.go_offline(connected=True)\n",
    "pyo.init_notebook_mode()"
   ]
  },
  {
   "cell_type": "markdown",
   "metadata": {},
   "source": [
    "---\n",
    "# <center><b>1. 파일 불러오기</b></center>\n",
    "---"
   ]
  },
  {
   "cell_type": "code",
   "execution_count": null,
   "metadata": {},
   "outputs": [],
   "source": [
    "# 파일 경로 지정\n",
    "os.chdir('C:\\민원분석참조모델\\data\\결과')"
   ]
  },
  {
   "cell_type": "code",
   "execution_count": null,
   "metadata": {},
   "outputs": [],
   "source": [
    "# 결과 폴더 파일 목록 가져오기\n",
    "df_list = list(os.listdir(os.getcwd()))\n",
    "df_list"
   ]
  },
  {
   "cell_type": "code",
   "execution_count": null,
   "metadata": {},
   "outputs": [],
   "source": [
    "# 몇번째 파일 분석할건지 지정\n",
    "index = 0"
   ]
  },
  {
   "cell_type": "code",
   "execution_count": null,
   "metadata": {},
   "outputs": [],
   "source": [
    "# 파일 불러오기\n",
    "df = pd.read_csv(df_list[index], encoding='euc-kr')"
   ]
  },
  {
   "cell_type": "code",
   "execution_count": null,
   "metadata": {},
   "outputs": [],
   "source": [
    "df_list[index]"
   ]
  },
  {
   "cell_type": "code",
   "execution_count": null,
   "metadata": {},
   "outputs": [],
   "source": [
    "# 파일 개요\n",
    "df.info()"
   ]
  },
  {
   "cell_type": "code",
   "execution_count": null,
   "metadata": {},
   "outputs": [],
   "source": [
    "# 필요한 컬럼만 추출\n",
    "df = df[['공개여부', '민원등록일자']]\n",
    "df.rename(columns={'민원등록일자': '빈도'}, inplace=True)"
   ]
  },
  {
   "cell_type": "markdown",
   "metadata": {},
   "source": [
    "---\n",
    "# <center><b>2. 데이터 전처리</b></center>\n",
    "---"
   ]
  },
  {
   "cell_type": "code",
   "execution_count": null,
   "metadata": {},
   "outputs": [],
   "source": [
    "# 공개여부 컬럼 유일치 확인\n",
    "df['공개여부'].unique()"
   ]
  },
  {
   "cell_type": "code",
   "execution_count": null,
   "metadata": {},
   "outputs": [],
   "source": [
    "# 공개여부 컬럼 필터링\n",
    "df = df[(df['공개여부'] != '비공개') ^ (df['공개여부'] != '공개') ^\n",
    "         (df['공개여부'] != '내용공개') ^ (df['공개여부'] != 'X')]"
   ]
  },
  {
   "cell_type": "code",
   "execution_count": null,
   "metadata": {},
   "outputs": [],
   "source": [
    "# 공개여부로 그룹핑\n",
    "df = df.groupby(df['공개여부'], as_index=False).count()\n",
    "df"
   ]
  },
  {
   "cell_type": "code",
   "execution_count": null,
   "metadata": {},
   "outputs": [],
   "source": [
    "# 데이터 저장\n",
    "df.to_csv(f'../../result/2.공개여부/공개여부_빈도_{df_list[index]}', encoding='euc-kr', index=False)"
   ]
  },
  {
   "cell_type": "markdown",
   "metadata": {},
   "source": [
    "---\n",
    "# <center><b>3. 데이터 시각화</b></center>\n",
    "---"
   ]
  },
  {
   "cell_type": "code",
   "execution_count": null,
   "metadata": {},
   "outputs": [],
   "source": [
    "# 레이아웃 설정\n",
    "layout = {\n",
    "    'title': {\n",
    "        'text': '<b>민원 공개여부 빈도 파이차트 분석</b>',\n",
    "        'font': {\n",
    "            'size': 20\n",
    "        },\n",
    "        'x': 0.5,\n",
    "        'y': 0.1\n",
    "    },\n",
    "    'showlegend': True,\n",
    "    'legend': {\n",
    "        'title': {\n",
    "            'text': '<b>공개여부</b>',\n",
    "            'font': {\n",
    "                'size': 15\n",
    "            },\n",
    "        },\n",
    "        'x': -0.2,\n",
    "        # 'borderwidth': 25,\n",
    "        'bordercolor': '#fff',\n",
    "        'bgcolor': '#F0F8FF',\n",
    "        # 'orientation': 'h',\n",
    "    },\n",
    "    'autosize': True,\n",
    "    'width': 600,\n",
    "    # 'height': 600,\n",
    "}\n",
    "\n",
    "closure = go.Figure()\n",
    "\n",
    "closure.add_trace(\n",
    "    go.Pie(\n",
    "        labels=df['공개여부'],\n",
    "        values=df['빈도'],\n",
    "        textposition='auto',\n",
    "    ))\n",
    "\n",
    "closure.update_traces(\n",
    "    go.Pie(\n",
    "        textinfo='label+percent',\n",
    "        textfont={\n",
    "            'size': 14,\n",
    "        }\n",
    "    )\n",
    ")\n",
    "\n",
    "closure.update_layout(layout)\n",
    "\n",
    "closure.show()\n"
   ]
  }
 ],
 "metadata": {
  "interpreter": {
   "hash": "8cfb3f5d3732c8e9b7a65fa38dddf816068d0252f6ef0bfbc44616f476e20867"
  },
  "kernelspec": {
   "display_name": "Python 3.8.8 64-bit ('base': conda)",
   "name": "python3"
  },
  "language_info": {
   "codemirror_mode": {
    "name": "ipython",
    "version": 3
   },
   "file_extension": ".py",
   "mimetype": "text/x-python",
   "name": "python",
   "nbconvert_exporter": "python",
   "pygments_lexer": "ipython3",
   "version": "3.8.8"
  },
  "orig_nbformat": 4
 },
 "nbformat": 4,
 "nbformat_minor": 2
}

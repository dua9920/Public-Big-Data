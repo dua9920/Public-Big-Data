{
 "cells": [
  {
   "cell_type": "code",
   "execution_count": null,
   "metadata": {},
   "outputs": [],
   "source": [
    "import pandas as pd\n",
    "import os\n",
    "import numpy as np"
   ]
  },
  {
   "cell_type": "markdown",
   "metadata": {},
   "source": [
    "# <b>1. 민원 데이터 파일 이어붙이기</b>"
   ]
  },
  {
   "cell_type": "code",
   "execution_count": null,
   "metadata": {},
   "outputs": [],
   "source": [
    "# 파일 목록 불러오기\n",
    "# 파일 폴더 경로 지정\n",
    "PATH = 'C:\\민원분석참조모델\\data\\민원'\n",
    "os.chdir(PATH)\n",
    "df_list = list(os.listdir(os.getcwd()))\n",
    "df_list"
   ]
  },
  {
   "cell_type": "code",
   "execution_count": null,
   "metadata": {},
   "outputs": [],
   "source": [
    "# 이름 지정하기\n",
    "name = '20190101-20201231.csv'"
   ]
  },
  {
   "cell_type": "code",
   "execution_count": null,
   "metadata": {},
   "outputs": [],
   "source": [
    "# 파일 이어붙이기\n",
    "df_merged = pd.DataFrame()\n",
    "for i in range(len(df_list)):\n",
    "    df = pd.read_csv(df_list[i], encoding='euc-kr')\n",
    "    df_merged = pd.concat([df_merged, df], ignore_index=True)"
   ]
  },
  {
   "cell_type": "code",
   "execution_count": null,
   "metadata": {},
   "outputs": [],
   "source": [
    "# 파일 하나 전처리할 시\n",
    "df = pd.read_csv(df_list[0], encoding='cp949')\n",
    "df.to_csv(f'./최종_{df_list[0]}', encoding='cp949', index=False)"
   ]
  },
  {
   "cell_type": "code",
   "execution_count": null,
   "metadata": {},
   "outputs": [],
   "source": [
    "# 병합 파일 저장하기\n",
    "df_merged.to_csv(f'../결과/{name}', encoding='cp949', index=False)"
   ]
  },
  {
   "cell_type": "markdown",
   "metadata": {},
   "source": [
    "---"
   ]
  },
  {
   "cell_type": "markdown",
   "metadata": {},
   "source": [
    "# <b>2. 필요한 컬럼 가져오기</b>"
   ]
  },
  {
   "cell_type": "code",
   "execution_count": null,
   "metadata": {},
   "outputs": [],
   "source": [
    "# 최종 파일 불러오기\n",
    "df = pd.read_csv(f'../결과/{name}', encoding='cp949')\n",
    "# df = pd.read_csv(f'./최종_{df_list[0]}', encoding='euc-kr')"
   ]
  },
  {
   "cell_type": "code",
   "execution_count": null,
   "metadata": {},
   "outputs": [],
   "source": [
    "# 파일 개요\n",
    "df.info()"
   ]
  },
  {
   "cell_type": "code",
   "execution_count": null,
   "metadata": {},
   "outputs": [],
   "source": [
    "# 파일 결측값 제거\n",
    "df = df.dropna()\n",
    "df.info()"
   ]
  },
  {
   "cell_type": "code",
   "execution_count": null,
   "metadata": {},
   "outputs": [],
   "source": [
    "# 컬럼명 좌우 공백 제거\n",
    "for i in range(len(df.columns)):\n",
    "    df.rename(columns={df.columns[i]: df.columns[i].strip()})"
   ]
  },
  {
   "cell_type": "code",
   "execution_count": null,
   "metadata": {},
   "outputs": [],
   "source": [
    "# 필요한 컬럼 가져오기\n",
    "df = df[['민원접수번호', '민원등록일자', '민원등록일시', '민원제목', '민원내용',\n",
    "        '민원처리기한', '담당자지정일시', '부서코드',\n",
    "         '처리부서명', '처리담당자명', '답변처리일시', '민원인 주소',\n",
    "         '연장처리일수 ', '연장처리횟수', '연장처리기한', '실처리일수']]\n",
    "df.columns"
   ]
  },
  {
   "cell_type": "code",
   "execution_count": null,
   "metadata": {},
   "outputs": [],
   "source": [
    "# 컬럼명 변경\n",
    "df = df.rename(columns={\n",
    "    '민원처리기한': '처리기한일시',\n",
    "    '처리부서명': '처리부서',\n",
    "    '처리담당자명': '처리담당자',\n",
    "    '답변처리일시': '답변일시',\n",
    "    '민원인 주소': '민원인주소',\n",
    "    '연장처리일수 ': '연장처리일수'})\n",
    "df.columns"
   ]
  },
  {
   "cell_type": "markdown",
   "metadata": {},
   "source": [
    "---"
   ]
  },
  {
   "cell_type": "markdown",
   "metadata": {},
   "source": [
    "# <b>3. R 새올 민원 분석 시 - 민원접수번호 전처리</b>"
   ]
  },
  {
   "cell_type": "code",
   "execution_count": null,
   "metadata": {},
   "outputs": [],
   "source": [
    "df['민원접수번호']"
   ]
  },
  {
   "cell_type": "code",
   "execution_count": null,
   "metadata": {},
   "outputs": [],
   "source": [
    "# 민원접수번호 object -> float 변경 \n",
    "df['민원접수번호'] = df['민원접수번호'].astype('float')"
   ]
  },
  {
   "cell_type": "code",
   "execution_count": null,
   "metadata": {},
   "outputs": [],
   "source": [
    "# 민원접수번호 float -> int\n",
    "df['민원접수번호'] = df['민원접수번호'].astype('int64')"
   ]
  },
  {
   "cell_type": "code",
   "execution_count": null,
   "metadata": {},
   "outputs": [],
   "source": [
    "# 민원접수번호 int -> str 변경\n",
    "df['민원접수번호'] = df['민원접수번호'].astype('str')"
   ]
  },
  {
   "cell_type": "code",
   "execution_count": null,
   "metadata": {},
   "outputs": [],
   "source": [
    "# 민원접수번호에 ' 문자열 추가\n",
    "for i in df.index:\n",
    "    df['민원접수번호'][i] = '\\'' + df['민원접수번호'][i]"
   ]
  },
  {
   "cell_type": "markdown",
   "metadata": {},
   "source": [
    "---"
   ]
  },
  {
   "cell_type": "markdown",
   "metadata": {},
   "source": [
    "# <b>4. R 새올 민원 분석 시 - 일시 전처리</b>"
   ]
  },
  {
   "cell_type": "code",
   "execution_count": null,
   "metadata": {},
   "outputs": [],
   "source": [
    "df['민원등록일시'] = pd.to_datetime(df['민원등록일시']).dt.strftime('%Y-%m-%d %H:%M')\n",
    "df['처리기한일시'] = pd.to_datetime(df['처리기한일시']).dt.strftime('%Y-%m-%d %H:%M')\n",
    "df['담당자지정일시'] = pd.to_datetime(df['담당자지정일시']).dt.strftime('%Y-%m-%d %H:%M')\n",
    "df['답변일시'] = pd.to_datetime(df['답변일시']).dt.strftime('%Y-%m-%d %H:%M')"
   ]
  },
  {
   "cell_type": "markdown",
   "metadata": {},
   "source": [
    "---"
   ]
  },
  {
   "cell_type": "markdown",
   "metadata": {},
   "source": [
    "# <b>4. R 새올 민원 분석 시 - Nan 전처리</b>"
   ]
  },
  {
   "cell_type": "code",
   "execution_count": null,
   "metadata": {},
   "outputs": [],
   "source": [
    "# float 변경\n",
    "df['연장처리일수'] = df['연장처리일수'].astype('float')\n",
    "df['연장처리횟수'] = df['연장처리횟수'].astype('float')\n",
    "df['실처리일수'] = df['실처리일수'].astype('float')"
   ]
  },
  {
   "cell_type": "code",
   "execution_count": null,
   "metadata": {},
   "outputs": [],
   "source": [
    "# 0인 값 nan 처리\n",
    "df['연장처리일수'].replace(0, np.nan, inplace=True)\n",
    "df['연장처리일수'].unique()"
   ]
  },
  {
   "cell_type": "code",
   "execution_count": null,
   "metadata": {},
   "outputs": [],
   "source": [
    "# 0인 값 nan 처리\n",
    "df['연장처리횟수'].replace(0, np.nan, inplace=True)\n",
    "df['연장처리횟수'].unique()"
   ]
  },
  {
   "cell_type": "code",
   "execution_count": null,
   "metadata": {},
   "outputs": [],
   "source": [
    "# 실처리일수 유일치 확인\n",
    "df['실처리일수'].replace(0, np.nan, inplace=True)\n",
    "df['실처리일수'].unique()"
   ]
  },
  {
   "cell_type": "code",
   "execution_count": null,
   "metadata": {},
   "outputs": [],
   "source": [
    "# 연장처리기한 유일치 확인\n",
    "df['연장처리기한'].unique()"
   ]
  },
  {
   "cell_type": "code",
   "execution_count": null,
   "metadata": {},
   "outputs": [],
   "source": [
    "# 0인 값 nan 처리\n",
    "df['연장처리기한'].replace(\" \", np.nan, inplace=True)\n",
    "df['연장처리기한'].unique()"
   ]
  },
  {
   "cell_type": "code",
   "execution_count": null,
   "metadata": {},
   "outputs": [],
   "source": [
    "# 연장처리기한 포맷\n",
    "df['연장처리기한'] = pd.to_datetime(df['연장처리기한']).dt.strftime('%Y-%m-%d %H:%M')\n",
    "df['연장처리기한'].unique()"
   ]
  },
  {
   "cell_type": "code",
   "execution_count": null,
   "metadata": {},
   "outputs": [],
   "source": [
    "df.head(2)"
   ]
  },
  {
   "cell_type": "code",
   "execution_count": null,
   "metadata": {},
   "outputs": [],
   "source": [
    "# 최종본 파일 저장 - 같은 파일에 덮어쓰기 저장됨\n",
    "df.to_csv(f'../결과/R_{name}', encoding='cp949', index=False)\n",
    "# df.to_csv(f'./최종파일_{df_list[0]}', encoding='cp949', index=False)"
   ]
  }
 ],
 "metadata": {
  "interpreter": {
   "hash": "8cfb3f5d3732c8e9b7a65fa38dddf816068d0252f6ef0bfbc44616f476e20867"
  },
  "kernelspec": {
   "display_name": "Python 3.8.8 64-bit ('base': conda)",
   "name": "python3"
  },
  "language_info": {
   "codemirror_mode": {
    "name": "ipython",
    "version": 3
   },
   "file_extension": ".py",
   "mimetype": "text/x-python",
   "name": "python",
   "nbconvert_exporter": "python",
   "pygments_lexer": "ipython3",
   "version": "3.8.8"
  },
  "orig_nbformat": 4
 },
 "nbformat": 4,
 "nbformat_minor": 2
}

{
 "cells": [
  {
   "cell_type": "code",
   "execution_count": null,
   "source": [
    "import json\r\n",
    "import pandas as pd\r\n",
    "import os\r\n",
    "import numpy as np\r\n",
    "\r\n",
    "\r\n",
    "import folium\r\n",
    "from folium import plugins\r\n",
    "from pprint import pprint\r\n",
    "from folium.plugins import HeatMap\r\n",
    "\r\n",
    "import plotly.graph_objects as go\r\n",
    "import chart_studio.plotly as py\r\n",
    "import cufflinks as cf\r\n",
    "cf.go_offline(connected=True)\r\n",
    "\r\n",
    "import requests\r\n",
    "from urllib.parse import urlparse\r\n"
   ],
   "outputs": [],
   "metadata": {}
  },
  {
   "cell_type": "markdown",
   "source": [
    "---\r\n",
    "# <center><b>1. 파일 불러오기</b></center>\r\n",
    "---"
   ],
   "metadata": {}
  },
  {
   "cell_type": "code",
   "execution_count": null,
   "source": [
    "# 파일 읽기\r\n",
    "os.chdir('C:\\민원분석참조모델\\data\\결과')\r\n",
    "df_list = list(os.listdir(os.getcwd()))\r\n",
    "index = 0\r\n",
    "df = pd.read_csv(df_list[index], encoding='euc-kr')"
   ],
   "outputs": [],
   "metadata": {}
  },
  {
   "cell_type": "code",
   "execution_count": null,
   "source": [
    "# 파일 개요\r\n",
    "df.info()"
   ],
   "outputs": [],
   "metadata": {}
  },
  {
   "cell_type": "code",
   "execution_count": null,
   "source": [
    "# 필요한 컬럼 추출\r\n",
    "df = df[['민원인주소']]"
   ],
   "outputs": [],
   "metadata": {}
  },
  {
   "cell_type": "code",
   "execution_count": null,
   "source": [
    "# 빈도 칼럼 만들기\r\n",
    "df.insert(1, '빈도', df['민원인주소'])\r\n",
    "df"
   ],
   "outputs": [],
   "metadata": {}
  },
  {
   "cell_type": "code",
   "execution_count": null,
   "source": [
    "# 빈도\r\n",
    "df_add = df.groupby('민원인주소', as_index=False).count()\r\n",
    "df_add"
   ],
   "outputs": [],
   "metadata": {}
  },
  {
   "cell_type": "markdown",
   "source": [
    "---\r\n",
    "# <center><b>2. 위경도 매핑</b></center>\r\n",
    "---\r\n"
   ],
   "metadata": {}
  },
  {
   "cell_type": "code",
   "execution_count": null,
   "source": [
    "# 결측치 제거\r\n",
    "df.dropna(inplace=True)\r\n",
    "df.drop_duplicates(inplace=True)\r\n",
    "df.reset_index(drop=True, inplace=True)"
   ],
   "outputs": [],
   "metadata": {}
  },
  {
   "cell_type": "code",
   "execution_count": null,
   "source": [
    "# 데이터 확인\r\n",
    "df.info()"
   ],
   "outputs": [],
   "metadata": {}
  },
  {
   "cell_type": "code",
   "execution_count": null,
   "source": [
    "# 주소 검색 함수 정의\r\n",
    "def address_to_latlon(address):\r\n",
    "    url = \"https://dapi.kakao.com/v2/local/search/address.json?&query=\" + address\r\n",
    "    result = requests.get(urlparse(url).geturl(),\r\n",
    "                          headers={\"Authorization\":\"KakaoAK APIKEY\"})\r\n",
    "    json_obj = result.json()\r\n",
    "    keys = [key for key in json_obj]\r\n",
    "    if keys[0] == 'documents':\r\n",
    "        for document in json_obj['documents']:\r\n",
    "            val = [document['address_name'], document['y'], document['x']]\r\n",
    "            return val\r\n",
    "        return [\"\", \"\", \"\"]\r\n",
    "    else:\r\n",
    "        return [\"\", \"\", \"\"]"
   ],
   "outputs": [],
   "metadata": {}
  },
  {
   "cell_type": "code",
   "execution_count": null,
   "source": [
    "# 위도/경도 붙일 빈 열 만들기\r\n",
    "df_ = df\r\n",
    "df_['위도'] = np.nan\r\n",
    "df_['경도'] = np.nan"
   ],
   "outputs": [],
   "metadata": {}
  },
  {
   "cell_type": "code",
   "execution_count": null,
   "source": [
    "# 위도, 경도 구하기\r\n",
    "for i in range(len(df_)):\r\n",
    "    min_address = df_['민원인주소'][i]\r\n",
    "    tmp = address_to_latlon(min_address)\r\n",
    "    df_['위도'][i] = tmp[1]\r\n",
    "    df_['경도'][i] = tmp[2]"
   ],
   "outputs": [],
   "metadata": {}
  },
  {
   "cell_type": "code",
   "execution_count": null,
   "source": [
    "# 붙여넣기 매핑 (drop X)\r\n",
    "df_.to_csv('../../result/5.민원발생주소/민원인주소_위도경도.csv', encoding='euc-kr', index=False)"
   ],
   "outputs": [],
   "metadata": {}
  },
  {
   "cell_type": "markdown",
   "source": [
    "---\r\n",
    "# <center><b>3. 데이터 전처리</b></center>\r\n",
    "---\r\n"
   ],
   "metadata": {}
  },
  {
   "cell_type": "code",
   "execution_count": null,
   "source": [
    "minwon = pd.read_csv('../../result/5.민원발생주소/민원인주소_위도경도_drop.csv', encoding='euc-kr')"
   ],
   "outputs": [],
   "metadata": {}
  },
  {
   "cell_type": "code",
   "execution_count": null,
   "source": [
    "df_add = pd.merge(df_add, minwon, on='민원인주소')\r\n",
    "df_add"
   ],
   "outputs": [],
   "metadata": {}
  },
  {
   "cell_type": "code",
   "execution_count": null,
   "source": [
    "df_add.describe()"
   ],
   "outputs": [],
   "metadata": {}
  },
  {
   "cell_type": "code",
   "execution_count": null,
   "source": [
    "# 파일 저장\r\n",
    "df_add.sort_values(by='빈도', ascending=False, inplace=True)\r\n",
    "df_add.reset_index(drop=True, inplace=True)\r\n",
    "df_add.to_csv(f'../../result/5.민원발생주소/민원인주소_빈도_{df_list[index]}.csv', encoding='euc-kr', index=False)"
   ],
   "outputs": [],
   "metadata": {}
  },
  {
   "cell_type": "markdown",
   "source": [
    "---\r\n",
    "# <center><b>4. 데이터 시각화</b></center>\r\n",
    "---\r\n"
   ],
   "metadata": {}
  },
  {
   "cell_type": "code",
   "execution_count": null,
   "source": [
    "# 데이터 불러오기\r\n",
    "df_add = pd.read_csv(\r\n",
    "    f'../../result/5.민원발생주소/민원인주소_빈도_{df_list[index]}.csv', encoding='euc-kr')"
   ],
   "outputs": [],
   "metadata": {}
  },
  {
   "cell_type": "code",
   "execution_count": null,
   "source": [
    "# 상위 민원발생 주소\r\n",
    "top = df_add[:10]\r\n",
    "top"
   ],
   "outputs": [],
   "metadata": {}
  },
  {
   "cell_type": "code",
   "execution_count": null,
   "source": [
    "top_ = top[['민원인주소', '빈도']]\r\n",
    "# top_.set_index(keys='민원인주소', inplace=True)\r\n",
    "top_"
   ],
   "outputs": [],
   "metadata": {}
  },
  {
   "cell_type": "code",
   "execution_count": null,
   "source": [
    "# 접수유형 파이차트\r\n",
    "\r\n",
    "# 레이아웃 설정\r\n",
    "layout = {\r\n",
    "    'title': {\r\n",
    "        'text': '<b>TOP10 민원발생주소 파이차트 분석</b>',\r\n",
    "        'font': {\r\n",
    "            'size': 20\r\n",
    "        },\r\n",
    "        'x': 0.5,\r\n",
    "    },\r\n",
    "    'showlegend': True,\r\n",
    "    'legend': {\r\n",
    "        'title': {\r\n",
    "            'text': '<b>주소</b>',\r\n",
    "            'font': {\r\n",
    "                'size': 15\r\n",
    "            },\r\n",
    "        },\r\n",
    "        'borderwidth': 25,\r\n",
    "        'bordercolor': '#fff',\r\n",
    "        'bgcolor': '#F0F8FF',\r\n",
    "        'orientation': 'h',\r\n",
    "    },\r\n",
    "    # 'autosize': True\r\n",
    "    'width': 600,\r\n",
    "    'height': 600,\r\n",
    "}\r\n",
    "\r\n",
    "plt = go.Figure()\r\n",
    "\r\n",
    "plt.add_trace(\r\n",
    "    go.Pie(\r\n",
    "        labels=top_['민원인주소'],\r\n",
    "        values=top_['빈도'],\r\n",
    "    )\r\n",
    ")\r\n",
    "\r\n",
    "plt.update_traces(\r\n",
    "    go.Pie(\r\n",
    "        textposition='inside',\r\n",
    "        textinfo='value+percent',\r\n",
    "        textfont={\r\n",
    "            'size': 14,\r\n",
    "        },\r\n",
    "        texttemplate=\"%{value}번<br>%{percent}\"\r\n",
    "    )\r\n",
    ")\r\n",
    "\r\n",
    "plt.update_layout(layout)\r\n",
    "plt.show()\r\n"
   ],
   "outputs": [],
   "metadata": {}
  },
  {
   "cell_type": "code",
   "execution_count": null,
   "source": [
    "# shp 파일\r\n",
    "state_geo = '../지도/TL_SCCO_SIG_WGS84.json'\r\n",
    "state_geo"
   ],
   "outputs": [],
   "metadata": {}
  },
  {
   "cell_type": "code",
   "execution_count": null,
   "source": [
    "# json 파일 로드\r\n",
    "with open(state_geo, encoding='utf-8') as file:\r\n",
    "    json_file = json.load(file)"
   ],
   "outputs": [],
   "metadata": {}
  },
  {
   "cell_type": "code",
   "execution_count": null,
   "source": [
    "# 민원 발생 주소 버블 차트\r\n",
    "lat_mean = top['위도'].mean()\r\n",
    "lon_mean = top['경도'].mean()\r\n",
    "\r\n",
    "top_m = folium.Map(\r\n",
    "    location=[lat_mean, lon_mean],\r\n",
    "    zoom_start=11)\r\n",
    "\r\n",
    "folium.Choropleth(\r\n",
    "    json_file,\r\n",
    "    fill_opacity=0.1,\r\n",
    "    fill_color='#3186cc',\r\n",
    "    line_opacity=1,\r\n",
    "    line_weight=0.3,\r\n",
    "    line_color='#3186cc'\r\n",
    "    ).add_to(top_m)\r\n",
    "\r\n",
    "for i in range(len(top)):\r\n",
    "    latitude = top['위도'][i]\r\n",
    "    longitude = top['경도'][i]\r\n",
    "    radius = top['빈도'][i]/50\r\n",
    "    text = top['민원인주소'][i]\r\n",
    "    location = (latitude, longitude)\r\n",
    "    folium.CircleMarker(\r\n",
    "        location,\r\n",
    "        radius=radius,\r\n",
    "        color='#3186cc',\r\n",
    "        fill_color='#3186cc',\r\n",
    "        popup=text).add_to(top_m)\r\n",
    "\r\n",
    "top_m\r\n"
   ],
   "outputs": [],
   "metadata": {}
  },
  {
   "cell_type": "code",
   "execution_count": null,
   "source": [
    "# 민원 발생 주소 버블 차트\r\n",
    "m = folium.Map(\r\n",
    "    # location=[35.1721255, 129.0677072],\r\n",
    "    location=[36, 127],\r\n",
    "    tiles=\"cartodbpositron\", zoom_start=7)\r\n",
    "\r\n",
    "folium.Choropleth(\r\n",
    "    json_file,\r\n",
    "    fill_opacity=0.1,\r\n",
    "    fill_color='#20B2AA',\r\n",
    "    line_opacity=0.3,\r\n",
    "    line_weight=0.9,\r\n",
    "    line_color='#20B2AA').add_to(m)\r\n",
    "\r\n",
    "for i in range(len(df_add)):\r\n",
    "    latitude = df_add['위도'][i]\r\n",
    "    longitude = df_add['경도'][i]\r\n",
    "    # radius = df_add['빈도'][i]/50\r\n",
    "    text = df_add['민원인주소'][i]\r\n",
    "    location=(latitude, longitude)\r\n",
    "    folium.CircleMarker(\r\n",
    "        location,\r\n",
    "        radius=1,\r\n",
    "        color='#7B68EE',\r\n",
    "        fill_color='#7B68EE',\r\n",
    "        popup=text).add_to(m)\r\n",
    "\r\n",
    "m.save(f'../../result/5.민원발생주소/민원인주소_버블차트_{df_list[index]}.html')\r\n"
   ],
   "outputs": [],
   "metadata": {}
  },
  {
   "cell_type": "code",
   "execution_count": null,
   "source": [
    "# 히트맵\r\n",
    "heat_m = folium.Map(\r\n",
    "    location=[36, 127],\r\n",
    "    tiles=\"cartodbpositron\",\r\n",
    "    zoom_start=7)\r\n",
    "\r\n",
    "folium.Choropleth(\r\n",
    "    json_file,\r\n",
    "    fill_opacity=0.1,\r\n",
    "    fill_color='#20B2AA',\r\n",
    "    line_opacity=0.3,\r\n",
    "    line_weight=0.9,\r\n",
    "    line_color='#20B2AA').add_to(heat_m)\r\n",
    "\r\n",
    "heat_df = df_add[['위도', '경도']]\r\n",
    "\r\n",
    "heat_data = [[row['위도'],row['경도']] for index, row in heat_df.iterrows()]\r\n",
    "\r\n",
    "HeatMap(heat_data).add_to(heat_m)\r\n",
    "\r\n",
    "heat_m.save(f'../../result/5.민원발생주소/민원인주소_히트맵_{df_list[index]}.html')\r\n",
    "heat_m\r\n"
   ],
   "outputs": [],
   "metadata": {}
  }
 ],
 "metadata": {
  "orig_nbformat": 4,
  "language_info": {
   "name": "python",
   "version": "3.8.8",
   "mimetype": "text/x-python",
   "codemirror_mode": {
    "name": "ipython",
    "version": 3
   },
   "pygments_lexer": "ipython3",
   "nbconvert_exporter": "python",
   "file_extension": ".py"
  },
  "kernelspec": {
   "name": "python3",
   "display_name": "Python 3.8.8 64-bit ('base': conda)"
  },
  "interpreter": {
   "hash": "8cfb3f5d3732c8e9b7a65fa38dddf816068d0252f6ef0bfbc44616f476e20867"
  }
 },
 "nbformat": 4,
 "nbformat_minor": 2
}
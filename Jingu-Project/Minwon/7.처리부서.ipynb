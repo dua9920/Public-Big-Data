{
 "cells": [
  {
   "cell_type": "code",
   "execution_count": null,
   "source": [
    "import pandas as pd\r\n",
    "import os\r\n",
    "\r\n",
    "import plotly.express as px\r\n",
    "import plotly.graph_objects as go\r\n",
    "import chart_studio.plotly as py\r\n",
    "import cufflinks as cf\r\n",
    "cf.go_offline(connected=True)\r\n"
   ],
   "outputs": [],
   "metadata": {}
  },
  {
   "cell_type": "markdown",
   "source": [
    "---\r\n",
    "# <center><b>1. 파일 불러오기</b></center>\r\n",
    "---\r\n"
   ],
   "metadata": {}
  },
  {
   "cell_type": "code",
   "execution_count": null,
   "source": [
    "# 파일 읽기\r\n",
    "os.chdir('C:\\민원분석참조모델\\data\\결과')\r\n",
    "df_list = list(os.listdir(os.getcwd()))\r\n",
    "index = 0\r\n",
    "df_ = pd.read_csv(df_list[index], encoding='euc-kr')"
   ],
   "outputs": [],
   "metadata": {}
  },
  {
   "cell_type": "code",
   "execution_count": null,
   "source": [
    "# 필요한 컬럼 추출\r\n",
    "df = df_[['부서구분', '처리부서명', '처리담당자명', '민원등록일자']]\r\n",
    "df"
   ],
   "outputs": [],
   "metadata": {}
  },
  {
   "cell_type": "code",
   "execution_count": null,
   "source": [
    "# 파일 그룹핑\r\n",
    "df = df.groupby(['부서구분', '처리부서명', '처리담당자명']).count()\r\n",
    "df.rename(columns={'민원등록일자':'빈도'}, inplace=True)\r\n",
    "df.sort_values('빈도', ascending=False, inplace=True)\r\n",
    "df"
   ],
   "outputs": [],
   "metadata": {}
  },
  {
   "cell_type": "code",
   "execution_count": null,
   "source": [
    "# 파일 저장\r\n",
    "df.to_csv(f'../../result/7.처리부서/처리부서_빈도_{df_list[index]}', encoding='euc-kr', index=True)"
   ],
   "outputs": [],
   "metadata": {}
  },
  {
   "cell_type": "markdown",
   "source": [
    "---\r\n",
    "# <center><b>2. 데이터 전처리</b></center>\r\n",
    "---"
   ],
   "metadata": {}
  },
  {
   "cell_type": "code",
   "execution_count": null,
   "source": [
    "# 부서구분 유일치 확인\r\n",
    "df['부서구분'].unique()"
   ],
   "outputs": [],
   "metadata": {}
  },
  {
   "cell_type": "code",
   "execution_count": null,
   "source": [
    "# 부서구분 결측치 제거\r\n",
    "df = df[(df['부서구분'] == '주관') ^ (df['부서구분'] == '협조')]"
   ],
   "outputs": [],
   "metadata": {}
  },
  {
   "cell_type": "code",
   "execution_count": null,
   "source": [
    "# 부서구분별 빈도\r\n",
    "df_kind = df.groupby('부서구분').count()\r\n",
    "df_kind = df_kind[['처리부서명']]\r\n",
    "df_kind.rename(columns={'처리부서명': '빈도'}, inplace=True)\r\n",
    "df_kind.to_csv(\r\n",
    "    f'../../result/7.처리부서/처리부서_처리부서명_빈도_{df_list[index]}', encoding='euc-kr', index=True)\r\n",
    "df_kind\r\n"
   ],
   "outputs": [],
   "metadata": {}
  },
  {
   "cell_type": "code",
   "execution_count": null,
   "source": [
    "# 처리부서명별 빈도\r\n",
    "df_part = df.groupby('처리부서명').count()\r\n",
    "df_part = df_part[['부서구분']]\r\n",
    "df_part.rename(columns={'부서구분': '빈도'}, inplace=True)\r\n",
    "df_part.to_csv(\r\n",
    "    f'../../result/7.처리부서/처리부서_처리부서명_빈도_{df_list[index]}', encoding='euc-kr', index=True)\r\n",
    "df_part\r\n"
   ],
   "outputs": [],
   "metadata": {}
  },
  {
   "cell_type": "code",
   "execution_count": null,
   "source": [
    "# 처리담당자명 별 빈도\r\n",
    "df_emp = df.groupby('처리담당자명').count()\r\n",
    "df_emp = df_emp[['부서구분']]\r\n",
    "df_emp.rename(columns={'부서구분': '빈도'}, inplace=True)\r\n",
    "df_emp.to_csv(\r\n",
    "    f'../../result/7.처리부서/처리부서_처리담당자명_빈도_{df_list[index]}', encoding='euc-kr', index=True)\r\n",
    "df_emp\r\n"
   ],
   "outputs": [],
   "metadata": {}
  },
  {
   "cell_type": "code",
   "execution_count": null,
   "source": [
    "df_part_emp = df.groupby(['처리부서명', '처리담당자명'], as_index=False).count()\r\n",
    "df_part_emp.rename(columns={'부서구분': '빈도'}, inplace=True)\r\n",
    "df_part_emp.to_csv(\r\n",
    "    f'../../result/7.처리부서/처리부서_처리부서담당자명_빈도_{df_list[index]}', encoding='euc-kr', index=False)\r\n",
    "df_part_emp\r\n"
   ],
   "outputs": [],
   "metadata": {}
  },
  {
   "cell_type": "markdown",
   "source": [
    "---\r\n",
    "# <center><b>3. 데이터 시각화</b></center>\r\n",
    "---"
   ],
   "metadata": {}
  },
  {
   "cell_type": "code",
   "execution_count": null,
   "source": [
    "layout = {\r\n",
    "    'title': {\r\n",
    "        'text': '<b>처리담당자 파이차트 분석</b>',\r\n",
    "        'font': {\r\n",
    "            'size': 20\r\n",
    "        },\r\n",
    "        'x': 0.5,\r\n",
    "    },\r\n",
    "    'showlegend': True,\r\n",
    "    'legend': {\r\n",
    "        'title': {\r\n",
    "            'text': '<b>처리담당자명</b>',\r\n",
    "            'font': {\r\n",
    "                'size': 15\r\n",
    "            },\r\n",
    "        },\r\n",
    "        'borderwidth': 25,\r\n",
    "        'bordercolor': '#fff',\r\n",
    "        'bgcolor': '#F0F8FF',\r\n",
    "        # 'orientation': 'h',\r\n",
    "    },\r\n",
    "    'autosize': True,\r\n",
    "    # 'width': 600,\r\n",
    "    # 'height': 600,\r\n",
    "}"
   ],
   "outputs": [],
   "metadata": {}
  },
  {
   "cell_type": "code",
   "execution_count": null,
   "source": [
    "# 부서구분 파이차트\r\n",
    "fig1 = go.Figure()\r\n",
    "\r\n",
    "fig1.add_trace(\r\n",
    "    go.Pie(\r\n",
    "        labels=df_kind.index,\r\n",
    "        values=df_kind['빈도'],\r\n",
    "        text=df_kind.index,\r\n",
    "        textinfo='label+value+percent',\r\n",
    "        texttemplate='%{text}<br>%{value}건<br>%{percent}',\r\n",
    "        textposition='auto',\r\n",
    "    )\r\n",
    ")\r\n",
    "\r\n",
    "# fig1.update_layout(layout)\r\n",
    "fig1.show()\r\n"
   ],
   "outputs": [],
   "metadata": {}
  },
  {
   "cell_type": "code",
   "execution_count": null,
   "source": [
    "# 처리부서명 파이차트\r\n",
    "fig2 = go.Figure()\r\n",
    "\r\n",
    "fig2.add_trace(\r\n",
    "    go.Pie(\r\n",
    "        labels=df_part.index,\r\n",
    "        values=df_part['빈도'],\r\n",
    "        text=df_part.index,\r\n",
    "        textinfo='label+value+percent',\r\n",
    "        texttemplate='%{text}<br>%{value}건<br>%{percent}',\r\n",
    "        textposition='inside',\r\n",
    "    )\r\n",
    ")\r\n",
    "\r\n",
    "fig2.update_layout(layout)\r\n",
    "fig2.show()\r\n"
   ],
   "outputs": [],
   "metadata": {}
  },
  {
   "cell_type": "code",
   "execution_count": null,
   "source": [
    "# 처리담당자명 \r\n",
    "fig3 = go.Figure()\r\n",
    "\r\n",
    "fig3.add_trace(\r\n",
    "    go.Pie(\r\n",
    "        labels=df_emp.index,\r\n",
    "        values=df_emp['빈도'],\r\n",
    "        text= df_emp.index,\r\n",
    "        textposition='inside',\r\n",
    "        textinfo='label+value',\r\n",
    "        texttemplate='%{label}<br>%{value}건'\r\n",
    "    )\r\n",
    ")\r\n",
    "\r\n",
    "# fig3.add_trace(\r\n",
    "#     go.Scatter(\r\n",
    "#         x=df_emp.index,\r\n",
    "#         y=df_emp['빈도']\r\n",
    "#     )\r\n",
    "# )\r\n",
    "\r\n",
    "fig3.update_layout(layout)\r\n",
    "fig3.show()\r\n"
   ],
   "outputs": [],
   "metadata": {}
  },
  {
   "cell_type": "code",
   "execution_count": null,
   "source": [
    "fig4 = px.sunburst(\r\n",
    "    df_part_emp,\r\n",
    "    path=['처리부서명', '처리담당자명'],\r\n",
    "    values=df_part_emp['빈도'],\r\n",
    ")\r\n",
    "# fig4.update_layout(layout)\r\n",
    "fig4.show()"
   ],
   "outputs": [],
   "metadata": {}
  }
 ],
 "metadata": {
  "orig_nbformat": 4,
  "language_info": {
   "name": "python",
   "version": "3.8.8",
   "mimetype": "text/x-python",
   "codemirror_mode": {
    "name": "ipython",
    "version": 3
   },
   "pygments_lexer": "ipython3",
   "nbconvert_exporter": "python",
   "file_extension": ".py"
  },
  "kernelspec": {
   "name": "python3",
   "display_name": "Python 3.8.8 64-bit ('base': conda)"
  },
  "interpreter": {
   "hash": "8cfb3f5d3732c8e9b7a65fa38dddf816068d0252f6ef0bfbc44616f476e20867"
  }
 },
 "nbformat": 4,
 "nbformat_minor": 2
}
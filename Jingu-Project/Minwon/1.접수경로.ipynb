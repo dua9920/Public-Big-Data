{
 "cells": [
  {
   "cell_type": "code",
   "execution_count": null,
   "metadata": {},
   "outputs": [],
   "source": [
    "import os\n",
    "import pandas as pd\n",
    "import numpy as np\n",
    "\n",
    "import plotly.express as px\n",
    "import plotly.graph_objects as go\n",
    "import plotly.express as px\n",
    "import chart_studio.plotly as py\n",
    "import cufflinks as cf\n",
    "cf.go_offline(connected=True)\n"
   ]
  },
  {
   "cell_type": "markdown",
   "metadata": {},
   "source": [
    "---\n",
    "# <center><b>1. 파일 불러오기</b></center>\n",
    "---"
   ]
  },
  {
   "cell_type": "code",
   "execution_count": null,
   "metadata": {},
   "outputs": [],
   "source": [
    "# 파일 경로 지정하기\n",
    "os.chdir('C:\\민원분석참조모델\\data\\결과')"
   ]
  },
  {
   "cell_type": "code",
   "execution_count": null,
   "metadata": {},
   "outputs": [],
   "source": [
    "# 결과 폴더 파일 목록 가져오기\n",
    "df_list = list(os.listdir(os.getcwd()))\n",
    "df_list"
   ]
  },
  {
   "cell_type": "code",
   "execution_count": null,
   "metadata": {},
   "outputs": [],
   "source": [
    "# 몇번째 파일 분석할건지 지정\n",
    "index = 0"
   ]
  },
  {
   "cell_type": "code",
   "execution_count": null,
   "metadata": {},
   "outputs": [],
   "source": [
    "# 분석할 파일 불러오기\n",
    "df = pd.read_csv(df_list[index], encoding='euc-kr')"
   ]
  },
  {
   "cell_type": "code",
   "execution_count": null,
   "metadata": {},
   "outputs": [],
   "source": [
    "# 파일 개요\n",
    "df.info()"
   ]
  },
  {
   "cell_type": "code",
   "execution_count": null,
   "metadata": {},
   "outputs": [],
   "source": [
    "# 접수 경로 데이터 확인\n",
    "df['접수경로']"
   ]
  },
  {
   "cell_type": "markdown",
   "metadata": {},
   "source": [
    "----\n",
    "# <center><b>2. 데이터 전처리</b></center>\n",
    "---"
   ]
  },
  {
   "cell_type": "code",
   "execution_count": null,
   "metadata": {},
   "outputs": [],
   "source": [
    "# 접수경로 빈도 추출\n",
    "receptionPath = df.groupby(df['접수경로'], as_index=False).size()"
   ]
  },
  {
   "cell_type": "code",
   "execution_count": null,
   "metadata": {},
   "outputs": [],
   "source": [
    "# 접수유형, 접수기관 컬럼 만들기\n",
    "kind = list()  # 접수유형 리스트\n",
    "agency = list()  # 접수기관 리스트\n",
    "\n",
    "# 접수경로에서 특정 문자열 이상 드롭 (아웃라이어)\n",
    "for j in receptionPath.index:\n",
    "    if(len(receptionPath['접수경로'][j]) > 21):\n",
    "        receptionPath = receptionPath.drop(j)"
   ]
  },
  {
   "cell_type": "code",
   "execution_count": null,
   "metadata": {},
   "outputs": [],
   "source": [
    "# 접수유형, 접수기관 열 만들기\n",
    "for k in receptionPath.index:\n",
    "    num = receptionPath['접수경로'][k].find('(')  # ( 이전 문자열까지 자르기\n",
    "    if(num == -1):\n",
    "        kind.append(receptionPath['접수경로'][k])\n",
    "        agency.append(np.nan)\n",
    "    else:\n",
    "        kind.append(receptionPath['접수경로'][k][:num])  # 자른 문자열 리스트에 추가\n",
    "        agency.append(receptionPath['접수경로'][k][num+1:-1])"
   ]
  },
  {
   "cell_type": "code",
   "execution_count": null,
   "metadata": {},
   "outputs": [],
   "source": [
    "# 열 붙이기\n",
    "receptionPath['접수유형'] = kind\n",
    "receptionPath['접수기관'] = agency"
   ]
  },
  {
   "cell_type": "code",
   "execution_count": null,
   "metadata": {},
   "outputs": [],
   "source": [
    "# 열 이름 변경\n",
    "receptionPath = receptionPath.rename(columns={'size': '빈도'})"
   ]
  },
  {
   "cell_type": "code",
   "execution_count": null,
   "metadata": {},
   "outputs": [],
   "source": [
    "# 컬럼 순서 지정\n",
    "receptionPath = receptionPath[['접수경로', '접수유형', '접수기관', '빈도']]"
   ]
  },
  {
   "cell_type": "code",
   "execution_count": null,
   "metadata": {},
   "outputs": [],
   "source": [
    "# 접수경로 전처리 내용 확인\n",
    "receptionPath.fillna('내용없음', inplace=True)\n",
    "receptionPath"
   ]
  },
  {
   "cell_type": "code",
   "execution_count": null,
   "metadata": {},
   "outputs": [],
   "source": [
    "# 파일 저장 - 접수경로 총 파일\n",
    "receptionPath.to_csv(f'../../result/1.접수경로/접수경로_빈도_{df_list[index]}', encoding='euc-kr', index=False)"
   ]
  },
  {
   "cell_type": "code",
   "execution_count": null,
   "metadata": {},
   "outputs": [],
   "source": [
    "# 파일 저장 - 접수유형 빈도\n",
    "receptionKind = receptionPath.groupby('접수유형', as_index=False).sum()\n",
    "receptionKind.to_csv(\n",
    "    f'../../result/1.접수경로/접수유형_빈도_{df_list[index]}', encoding='euc-kr', index=False)\n",
    "receptionKind\n"
   ]
  },
  {
   "cell_type": "code",
   "execution_count": null,
   "metadata": {},
   "outputs": [],
   "source": [
    "# 파일 저장 - 접수기관\n",
    "receptionAgency = receptionPath.groupby(\n",
    "    ['접수유형', '접수기관'], as_index=False).sum()\n",
    "receptionAgency.to_csv(\n",
    "    f'../../result/1.접수경로/접수기관_빈도_{df_list[index]}', encoding='euc-kr', index=False)\n",
    "receptionAgency\n"
   ]
  },
  {
   "cell_type": "markdown",
   "metadata": {},
   "source": [
    "----\n",
    "# <center><b>3. 데이터 시각화</b></center>\n",
    "---"
   ]
  },
  {
   "cell_type": "code",
   "execution_count": null,
   "metadata": {},
   "outputs": [],
   "source": [
    "# 접수유형 파이차트\n",
    "\n",
    "# 레이아웃 설정\n",
    "layout_kind = {\n",
    "    'title': {\n",
    "        'text': '<b>접수유형 빈도 파이차트 분석</b>',\n",
    "        'font': {\n",
    "            'size': 20\n",
    "        },\n",
    "        'x': 0.5,\n",
    "    },\n",
    "    'showlegend':True,\n",
    "    'legend': {\n",
    "        'title': {\n",
    "            'text': '<b>접수유형</b>',\n",
    "            'font': {\n",
    "                'size': 15\n",
    "            },\n",
    "        },\n",
    "        'borderwidth':25, \n",
    "        'bordercolor': '#fff',\n",
    "        'bgcolor': '#F0F8FF',\n",
    "        'orientation': 'h',\n",
    "    },\n",
    "    # 'autosize': True\n",
    "    'width': 600,\n",
    "    'height': 600,\n",
    "}\n",
    "\n",
    "kind = go.Figure()\n",
    "\n",
    "kind.add_trace(\n",
    "    go.Pie(\n",
    "        labels=receptionKind['접수유형'],\n",
    "        values=receptionKind['빈도'],\n",
    "    )\n",
    ")\n",
    "\n",
    "kind.update_traces(\n",
    "    go.Pie(\n",
    "        textposition='inside',\n",
    "        textinfo='label+value+percent',\n",
    "        textfont = {\n",
    "            'size': 14,\n",
    "        }\n",
    "    )\n",
    ")\n",
    "\n",
    "kind.update_layout(layout_kind)\n",
    "kind.show()"
   ]
  },
  {
   "cell_type": "code",
   "execution_count": null,
   "metadata": {},
   "outputs": [],
   "source": [
    "# 접수유형에 따른 접수기관 파이차트\n",
    "\n",
    "layout_agency = {\n",
    "    'title': {\n",
    "        'text': '<b>접수유형에 따른 접수기관 파이차트 분석</b>',\n",
    "        'font': {\n",
    "            'size': 20\n",
    "        },\n",
    "        'x': 0.5,\n",
    "    },\n",
    "    'width': 600,\n",
    "    'height': 600,\n",
    "}\n",
    "\n",
    "agency = px.sunburst(\n",
    "    receptionAgency,\n",
    "    path=['접수유형', '접수기관'],\n",
    "    values='빈도'\n",
    ")\n",
    "\n",
    "agency.update_layout(layout_agency)\n",
    "agency.show()\n"
   ]
  },
  {
   "cell_type": "code",
   "execution_count": null,
   "metadata": {},
   "outputs": [],
   "source": [
    "# 접수기관 - 국민신문고\n",
    "\n",
    "df_gookmin = receptionAgency[receptionAgency['접수유형'] == '국민신문고접수']\n",
    "df_gookmin.sort_values('빈도', inplace=True, ascending=False)\n",
    "df_gookmin = df_gookmin[['접수기관', '빈도']]\n",
    "df_gookmin.reset_index(drop=True, inplace=True)\n",
    "df_gookmin.set_index('접수기관',inplace=True)\n",
    "\n",
    "layout_gookmin = {\n",
    "    'title': {\n",
    "        'text': '<b>[국민신문고민원]</b> 접수기관에 따른 접수민원수',\n",
    "        'x': 0.5,\n",
    "        'font': {\n",
    "            'size': 20\n",
    "        }\n",
    "    },\n",
    "    'showlegend': False,\n",
    "    'xaxis': {\n",
    "        'title': '접수기관',\n",
    "        \n",
    "\n",
    "    },\n",
    "    'yaxis': {\n",
    "        'title': '접수 민원 수',\n",
    "        'showticklabels': True,\n",
    "        'dtick': 5000\n",
    "    }\n",
    "}\n",
    "\n",
    "gookmin = go.Figure()\n",
    "\n",
    "gookmin.add_trace(\n",
    "    go.Bar(\n",
    "        x=df_gookmin.index,\n",
    "        y=df_gookmin['빈도'], name='접수기관',\n",
    "        text=df_gookmin['빈도'], textposition='auto',\n",
    "    )\n",
    ")\n",
    "\n",
    "gookmin.update_layout(layout_gookmin)\n",
    "gookmin.show()\n"
   ]
  },
  {
   "cell_type": "code",
   "execution_count": null,
   "metadata": {},
   "outputs": [],
   "source": [
    "# 접수기관 - 국민신문고\n",
    "\n",
    "df_mobile = receptionAgency[receptionAgency['접수유형'] == '모바일접수민원']\n",
    "df_mobile.sort_values('빈도', inplace=True, ascending=False)\n",
    "df_mobile = df_mobile[['접수기관', '빈도']]\n",
    "df_mobile.reset_index(drop=True, inplace=True)\n",
    "df_mobile.set_index('접수기관', inplace=True)\n",
    "\n",
    "layout_mobile = {\n",
    "    'title': {\n",
    "        'text': '<b>[모바일접수민원]</b> 접수기관에 따른 접수민원수',\n",
    "        'x': 0.5,\n",
    "        'font': {\n",
    "            'size': 20\n",
    "        }\n",
    "    },\n",
    "    'showlegend': False,\n",
    "    'xaxis': {\n",
    "        'title': '접수기관',\n",
    "\n",
    "\n",
    "    },\n",
    "    'yaxis': {\n",
    "        'title': '접수 민원 수',\n",
    "        'showticklabels': True,\n",
    "        'dtick': 5000\n",
    "    }\n",
    "}\n",
    "\n",
    "mobile = go.Figure()\n",
    "\n",
    "mobile.add_trace(\n",
    "    go.Bar(\n",
    "        x=df_mobile.index,\n",
    "        y=df_mobile['빈도'], name='접수기관',\n",
    "        text=df_mobile['빈도'], textposition='auto',\n",
    "    )\n",
    ")\n",
    "\n",
    "mobile.update_layout(layout_mobile)\n",
    "mobile.show()\n"
   ]
  },
  {
   "cell_type": "code",
   "execution_count": null,
   "metadata": {},
   "outputs": [],
   "source": [
    "# 접수기관 - 국민신문고\n",
    "\n",
    "df_ja = receptionAgency[receptionAgency['접수유형'] == '자체접수민원']\n",
    "df_ja.sort_values('빈도', inplace=True, ascending=False)\n",
    "df_ja = df_ja[['접수기관', '빈도']]\n",
    "df_ja.reset_index(drop=True, inplace=True)\n",
    "df_ja.set_index('접수기관', inplace=True)\n",
    "\n",
    "layout_ja = {\n",
    "    'title': {\n",
    "        'text': '<b>[자체접수민원]</b> 접수기관에 따른 접수민원수',\n",
    "        'x': 0.5,\n",
    "        'font': {\n",
    "            'size': 20\n",
    "        }\n",
    "    },\n",
    "    'showlegend': True,\n",
    "    'xaxis': {\n",
    "        'title': '접수기관',\n",
    "    },\n",
    "    'yaxis': {\n",
    "        'title': '접수 민원 수',\n",
    "        'showticklabels': True,\n",
    "        # 'dtick': 5000\n",
    "    }\n",
    "}\n",
    "\n",
    "ja = go.Figure()\n",
    "\n",
    "ja.add_trace(\n",
    "    go.Bar(\n",
    "        x=df_ja.index,\n",
    "        y=df_ja['빈도'], name='접수기관',\n",
    "        text=df_ja['빈도'], textposition='auto',\n",
    "    )\n",
    ")\n",
    "\n",
    "ja.update_layout(layout_ja)\n",
    "ja.show()\n"
   ]
  },
  {
   "cell_type": "code",
   "execution_count": null,
   "metadata": {},
   "outputs": [],
   "source": [
    "# 접수기관 - 국민신문고\n",
    "\n",
    "df_related = receptionAgency[receptionAgency['접수유형'] == '연계기관접수']\n",
    "df_related.sort_values('빈도', inplace=True, ascending=False)\n",
    "df_related = df_related[['접수기관', '빈도']]\n",
    "df_related.reset_index(drop=True, inplace=True)\n",
    "df_related.set_index('접수기관', inplace=True)\n",
    "\n",
    "layout_related = {\n",
    "    'title': {\n",
    "        'text': '<b>[연계기관접수]</b> 접수기관에 따른 접수민원수',\n",
    "        'x': 0.5,\n",
    "        'font': {\n",
    "            'size': 20\n",
    "        }\n",
    "    },\n",
    "    'showlegend': False,\n",
    "    'xaxis': {\n",
    "        'title': '접수기관',\n",
    "        'tickangle': -45,\n",
    "        'tickfont': {\n",
    "            'size': 10\n",
    "        },\n",
    "    },\n",
    "    'yaxis': {\n",
    "        'title': '접수 민원 수',\n",
    "        'showticklabels': True,\n",
    "    },\n",
    "    # 'width': 1000,\n",
    "    'height': 500,\n",
    "}\n",
    "\n",
    "related = go.Figure()\n",
    "\n",
    "related.add_trace(\n",
    "    go.Bar(\n",
    "        x=df_related.index,\n",
    "        y=df_related['빈도'], name='접수기관',\n",
    "        text=df_related['빈도'], textposition='auto',\n",
    "        orientation='v',\n",
    "    )\n",
    ")\n",
    "\n",
    "related.update_layout(layout_related)\n",
    "related.show()\n"
   ]
  },
  {
   "cell_type": "code",
   "execution_count": null,
   "metadata": {},
   "outputs": [],
   "source": [
    "# 접수기관 - 국민신문고\n",
    "\n",
    "df_bok = receptionAgency[receptionAgency['접수유형'] == '복합민원']\n",
    "df_bok.sort_values('빈도', inplace=True, ascending=False)\n",
    "df_bok = df_bok[['접수기관', '빈도']]\n",
    "df_bok.reset_index(drop=True, inplace=True)\n",
    "df_bok.set_index('접수기관', inplace=True)\n",
    "\n",
    "layout_bok = {\n",
    "    'title': {\n",
    "        'text': '<b>[복합민원]</b> 접수기관에 따른 접수민원수',\n",
    "        'x': 0.5,\n",
    "        'font': {\n",
    "            'size': 20\n",
    "        }\n",
    "    },\n",
    "    'showlegend': False,\n",
    "    'xaxis': {\n",
    "        'title': '접수기관',\n",
    "        # 'tickangle': -45,\n",
    "        # 'tickfont': {\n",
    "        #     'size': 10\n",
    "        # },\n",
    "    },\n",
    "    'yaxis': {\n",
    "        'title': '접수 민원 수',\n",
    "        'showticklabels': True,\n",
    "    },\n",
    "    # 'width': 1000,\n",
    "    # 'height': 500,\n",
    "}\n",
    "\n",
    "bok = go.Figure()\n",
    "\n",
    "bok.add_trace(\n",
    "    go.Bar(\n",
    "        x=df_bok.index,\n",
    "        y=df_bok['빈도'], name='접수기관',\n",
    "        text=df_bok['빈도'], textposition='auto',\n",
    "        orientation='v',\n",
    "    )\n",
    ")\n",
    "\n",
    "bok.update_layout(layout_bok)\n",
    "bok.show()\n"
   ]
  }
 ],
 "metadata": {
  "interpreter": {
   "hash": "8cfb3f5d3732c8e9b7a65fa38dddf816068d0252f6ef0bfbc44616f476e20867"
  },
  "kernelspec": {
   "display_name": "Python 3.8.8 64-bit ('base': conda)",
   "name": "python3"
  },
  "language_info": {
   "codemirror_mode": {
    "name": "ipython",
    "version": 3
   },
   "file_extension": ".py",
   "mimetype": "text/x-python",
   "name": "python",
   "nbconvert_exporter": "python",
   "pygments_lexer": "ipython3",
   "version": "3.8.8"
  },
  "orig_nbformat": 4
 },
 "nbformat": 4,
 "nbformat_minor": 2
}

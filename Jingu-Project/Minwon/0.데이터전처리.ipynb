{
 "cells": [
  {
   "cell_type": "code",
   "execution_count": null,
   "metadata": {},
   "outputs": [],
   "source": [
    "import pandas as pd\n",
    "import os"
   ]
  },
  {
   "cell_type": "markdown",
   "metadata": {},
   "source": [
    "---\n",
    "# <center><b>1. 파일 불러오기</b></center>\n",
    "---"
   ]
  },
  {
   "cell_type": "code",
   "execution_count": null,
   "metadata": {},
   "outputs": [],
   "source": [
    "# 파일 폴더 경로 지정\n",
    "PATH = 'C:\\민원분석참조모델\\data\\민원'\n",
    "os.chdir(PATH)\n"
   ]
  },
  {
   "cell_type": "code",
   "execution_count": null,
   "metadata": {},
   "outputs": [],
   "source": [
    "# 민원 데이터 목록\n",
    "df_list = list(os.listdir(os.getcwd()))\n",
    "df_list"
   ]
  },
  {
   "cell_type": "code",
   "execution_count": null,
   "metadata": {},
   "outputs": [],
   "source": [
    "# 파일 이름 지정하기 - (1) 파일 처음과 끝에서 떼오기\n",
    "num1 = df_list[0].find('-')\n",
    "start = df_list[0][:num1]\n",
    "\n",
    "num2 = df_list[-1].find('-')\n",
    "end = df_list[-1][num2+1:]\n",
    "\n",
    "name = start + '-' + end\n",
    "name = name.replace('.csv', '')\n",
    "name"
   ]
  },
  {
   "cell_type": "code",
   "execution_count": null,
   "metadata": {},
   "outputs": [],
   "source": [
    "# 파일 이름 지정하기 - (2) 사용자 지정\n",
    "name = '20190101-20191231'\n",
    "name"
   ]
  },
  {
   "cell_type": "code",
   "execution_count": null,
   "metadata": {},
   "outputs": [],
   "source": [
    "# 파일 전처리 - (1) 여러 파일 전처리 하고 싶을 시\n",
    "num = len(df_list) # 민원 폴더 파일 중에서 num 갯수만큼 이어붙이고 싶을 시\n",
    "df_merged = pd.DataFrame()\n",
    "for i in range(num):\n",
    "    df = pd.read_csv(df_list[i], encoding='euc-kr')\n",
    "    df_merged = pd.concat([df_merged, df], ignore_index=True)\n",
    "\n",
    "# 파일 저장\n",
    "df_merged.to_csv(f'../결과/{name}.csv', encoding='euc-kr', index=False)\n"
   ]
  },
  {
   "cell_type": "code",
   "execution_count": null,
   "metadata": {},
   "outputs": [],
   "source": [
    "# 파일 전처리 - (2) 하나의 파일만 전처리하고 싶을 시\n",
    "index = 2 # 민원 폴더 파일 목록 중에서 몇번째 파일인지\n",
    "name_one = '20200101-20200630'  # 저장하고 싶은 파일의 이름 지정\n",
    "df = pd.read_csv(df_list[index], encoding='euc-kr')\n",
    "\n",
    "# 파일 저장\n",
    "df.to_csv(f'../결과/{name_one}.csv', encoding='euc-kr', index=False)\n"
   ]
  },
  {
   "cell_type": "markdown",
   "metadata": {},
   "source": [
    "---\n",
    "# <center><b>2. 필요한 컬럼 전처리</b></center>\n",
    "---"
   ]
  },
  {
   "cell_type": "code",
   "execution_count": null,
   "metadata": {},
   "outputs": [],
   "source": [
    "# 결과 폴더 파일 목록 가져오기\n",
    "df_result_list = list(os.listdir('../결과/'))\n",
    "df_result_list = [i for i in df_result_list if i.endswith('.csv')]\n",
    "df_result_list"
   ]
  },
  {
   "cell_type": "code",
   "execution_count": null,
   "metadata": {},
   "outputs": [],
   "source": [
    "# 결과 폴더 파일 전처리\n",
    "for i in df_result_list:\n",
    "    # 파일 불러오기\n",
    "    df = pd.read_csv(f'../결과/{i}', encoding='euc-kr')\n",
    "\n",
    "    # 결측치 제거\n",
    "    df.dropna(inplace=True)\n",
    "\n",
    "    # 컬럼명 공백제거\n",
    "    for j in df.columns:\n",
    "        df.rename(columns={j: j.strip()}, inplace=True)\n",
    "    \n",
    "    # 필요한 컬럼 추출\n",
    "    df = df[[\n",
    "        '접수경로', '공개여부',\n",
    "        '민원등록일자', '민원등록일시',\n",
    "        '민원제목', '민원내용',\n",
    "        '부서구분',\n",
    "        '처리부서명', '처리담당자명', '민원인 주소']]\n",
    "    \n",
    "    # 컬럼명 수정\n",
    "    df.rename(columns={\n",
    "        '민원인 주소': '민원인주소'}, inplace=True)\n",
    "    \n",
    "    # 파일 저장 - 덮어쓰기로 저장\n",
    "    df.to_csv(f'../결과/{i}', encoding='euc-kr', index=False)"
   ]
  }
 ],
 "metadata": {
  "interpreter": {
   "hash": "8cfb3f5d3732c8e9b7a65fa38dddf816068d0252f6ef0bfbc44616f476e20867"
  },
  "kernelspec": {
   "display_name": "Python 3.8.8 64-bit ('base': conda)",
   "name": "python3"
  },
  "language_info": {
   "codemirror_mode": {
    "name": "ipython",
    "version": 3
   },
   "file_extension": ".py",
   "mimetype": "text/x-python",
   "name": "python",
   "nbconvert_exporter": "python",
   "pygments_lexer": "ipython3",
   "version": "3.8.8"
  },
  "orig_nbformat": 4
 },
 "nbformat": 4,
 "nbformat_minor": 2
}

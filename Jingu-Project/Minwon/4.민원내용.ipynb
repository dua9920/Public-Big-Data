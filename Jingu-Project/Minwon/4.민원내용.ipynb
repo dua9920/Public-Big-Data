{
 "cells": [
  {
   "cell_type": "code",
   "execution_count": null,
   "source": [
    "import os\r\n",
    "import pandas as pd\r\n",
    "from wordcloud import WordCloud\r\n",
    "import matplotlib.pyplot as plt\r\n",
    "import re\r\n",
    "\r\n",
    "import plotly.graph_objects as go\r\n",
    "import chart_studio.plotly as py\r\n",
    "import cufflinks as cf\r\n",
    "cf.go_offline(connected=True)"
   ],
   "outputs": [],
   "metadata": {}
  },
  {
   "cell_type": "markdown",
   "source": [
    "---\r\n",
    "# <center><b>1. 파일 불러오기</b></center>\r\n",
    "---"
   ],
   "metadata": {}
  },
  {
   "cell_type": "code",
   "execution_count": null,
   "source": [
    "# 파일 경로 지정하기\r\n",
    "os.chdir('C:\\민원분석참조모델\\data\\결과')"
   ],
   "outputs": [],
   "metadata": {}
  },
  {
   "cell_type": "code",
   "execution_count": null,
   "source": [
    "# 결과 폴더 파일 목록 가져오기\r\n",
    "df_list = list(os.listdir(os.getcwd()))\r\n",
    "df_list"
   ],
   "outputs": [],
   "metadata": {}
  },
  {
   "cell_type": "code",
   "execution_count": null,
   "source": [
    "# 몇번째 파일 분석할건지 지정\r\n",
    "index = 0"
   ],
   "outputs": [],
   "metadata": {}
  },
  {
   "cell_type": "code",
   "execution_count": null,
   "source": [
    "# 분석할 파일 불러오기\r\n",
    "df_ = pd.read_csv(df_list[index], encoding='euc-kr')"
   ],
   "outputs": [],
   "metadata": {}
  },
  {
   "cell_type": "code",
   "execution_count": null,
   "source": [
    "# 민원제목, 민원내용 데이터 추출\r\n",
    "df = df_[['민원제목', '민원내용']]"
   ],
   "outputs": [],
   "metadata": {}
  },
  {
   "cell_type": "code",
   "execution_count": null,
   "source": [
    "df.to_csv(f'../../result/4.민원내용/민원내용_{df_list[index]}.csv', encoding='euc-kr', index=False)"
   ],
   "outputs": [],
   "metadata": {}
  },
  {
   "cell_type": "code",
   "execution_count": null,
   "source": [
    "# 민원제목유형 뽑아내기\r\n",
    "kind = list()  # 민원제목유형 리스트\r\n",
    "\r\n",
    "# 정규식 이용해서 괄호 문자열 제거하기\r\n",
    "regex = \"\\(.*\\)|\\s-\\s.*|\\[.*\\]\"\r\n",
    "df = df.dropna()  # 결측치 제거\r\n",
    "\r\n",
    "for i in df.index:\r\n",
    "    start = df['민원제목'][i].find('[')\r\n",
    "    if start != -1:\r\n",
    "        end = df['민원제목'][i].find(']', start)\r\n",
    "        title = df['민원제목'][i][start:end+1].strip()\r\n",
    "    else:\r\n",
    "        title = \"유형없음\"\r\n",
    "\r\n",
    "    kind.append(title)\r\n",
    "\r\n",
    "# 컬럼 추가하기\r\n",
    "df['민원제목유형'] = kind"
   ],
   "outputs": [],
   "metadata": {}
  },
  {
   "cell_type": "code",
   "execution_count": null,
   "source": [
    "# 필요한 컬럼 추출\r\n",
    "df = df[['민원제목유형', '민원내용']]\r\n",
    "df.rename(columns={'민원제목유형':'민원유형'}, inplace=True)"
   ],
   "outputs": [],
   "metadata": {}
  },
  {
   "cell_type": "code",
   "execution_count": null,
   "source": [
    "sentence1 = \"\"\"\\n\\n\\n\\n[☆ 신고위치 URL 안내(지방행정통합 정보시스템 유지관리운영지원단) ☆]\"\"\"\r\n",
    "\r\n",
    "sentence2 = \"\"\" ※ 해당 URL을 복사하여 브라우저 주소창에 붙여넣으면 열어보실 수 있습니다.\r\n",
    "\r\n",
    "[☆ 사진촬영시간 안내(지방행정통합 정보시스템 유지관리운영지원단) ☆]\"\"\"\r\n",
    "\r\n",
    "sentence3 = \"\"\"A : 앱 구동 중 바로 촬영하여 첨부한 사진\r\n",
    "G : 신고인 갤러리에서 불러와 첨부한 사진\r\n",
    "I : 생활불편신고 갤러리에서 불러와 첨부한 사진\"\"\"\r\n",
    "\r\n",
    "sentence4 = \"\"\"\r\n",
    " 갤러리 첨부사진은 앱 실행시 촬영한 사진이 아닌 갤러리에 저장된 사진을 첨부한 것으로 촬영일시를 보장하기 어려울 수 있으니 참고하시기 바랍니다.\"\"\"\r\n",
    "\r\n",
    "sentence5 = \"\"\"한정된 저장 공간으로 인해 스토리지에서 1개월 간 사진 및 동영상 자료를 보관하고 삭제하고 있습니다.\r\n",
    "업무처리 담당자분들께서는 첨부파일 저장을 통해 별도로 보관해주시길 바랍니다.\"\"\"\r\n",
    "\r\n",
    "sentence6 = \"\"\"\r\n",
    "\r\n",
    "\r\n",
    "[국민신문고   관련 문의 : 콜센터(1600-8172)]\r\n",
    "[시도새올     관련 문의 : 새올광장(02-2076-5800)]\r\n",
    "[생활불편신고 관련 문의 : 1522-0660 (내선4번)]\"\"\"\r\n",
    "\r\n",
    "sentence7 = \"\"\"\\n\\n\\n\\n\"\"\""
   ],
   "outputs": [],
   "metadata": {}
  },
  {
   "cell_type": "code",
   "execution_count": null,
   "source": [
    "def deleteSentence(x):\r\n",
    "    return x.replace(sentence1, '').replace(\r\n",
    "        sentence2, '').replace(sentence3, '').replace(sentence4, '').replace(sentence5, '').replace(sentence6, '').replace(sentence7, '')\r\n"
   ],
   "outputs": [],
   "metadata": {}
  },
  {
   "cell_type": "code",
   "execution_count": null,
   "source": [
    "df['민원내용'] = df['민원내용'].apply(deleteSentence)"
   ],
   "outputs": [],
   "metadata": {}
  },
  {
   "cell_type": "markdown",
   "source": [
    "---\r\n",
    "# <center><b>2. 데이터 전처리</b></center>\r\n",
    "---"
   ],
   "metadata": {}
  },
  {
   "cell_type": "code",
   "execution_count": null,
   "source": [
    "# 생활불편신고 유형만 추출\r\n",
    "df_complain = df[df['민원유형'] == '[생활불편신고]']\r\n",
    "df_complain.reset_index(drop=True, inplace=True)"
   ],
   "outputs": [],
   "metadata": {}
  },
  {
   "cell_type": "code",
   "execution_count": null,
   "source": [
    "# 민원순수내용, 민원발생주소지 추출\r\n",
    "script = list() # 민원순수내용\r\n",
    "address = list() # 민원발생주소\r\n",
    "\r\n",
    "for i in df_complain['민원내용']:\r\n",
    "    script.append(i.split('\\n')[0])\r\n",
    "    address.append(i.split('\\n')[1])\r\n",
    "\r\n",
    "df_complain['민원본내용'] = script\r\n",
    "df_complain['민원발생주소'] = address"
   ],
   "outputs": [],
   "metadata": {}
  },
  {
   "cell_type": "code",
   "execution_count": null,
   "source": [
    "# 민원내용 저장\r\n",
    "df_complain = df_complain[['민원유형', '민원본내용', '민원발생주소']]\r\n",
    "df_complain.to_csv(f'../../result/4.민원내용/민원내용_생활불편신고_{df_list[index]}', encoding='euc-kr', index=False)"
   ],
   "outputs": [],
   "metadata": {}
  },
  {
   "cell_type": "code",
   "execution_count": null,
   "source": [
    "# 데이터 확인\r\n",
    "df_complain.head()"
   ],
   "outputs": [],
   "metadata": {}
  },
  {
   "cell_type": "markdown",
   "source": [
    "---"
   ],
   "metadata": {}
  },
  {
   "cell_type": "code",
   "execution_count": null,
   "source": [
    "# 이송이관 유형만 추출\r\n",
    "df_transfer = df[df['민원유형'] == '[이송이관]']\r\n",
    "df_transfer.reset_index(drop=True, inplace=True)"
   ],
   "outputs": [],
   "metadata": {}
  },
  {
   "cell_type": "code",
   "execution_count": null,
   "source": [
    "# 빈 컬럼 추가하기\r\n",
    "df_transfer['민원본내용'] = list(' '*len(df_transfer))\r\n",
    "df_transfer['민원발생주소'] = list(' '*len(df_transfer))"
   ],
   "outputs": [],
   "metadata": {}
  },
  {
   "cell_type": "code",
   "execution_count": null,
   "source": [
    "# 민원본내용 추출\r\n",
    "script = list() # 민원본내용\r\n",
    "address = list() # 민원발생주소\r\n",
    "\r\n",
    "for i in range(len(df_transfer)):\r\n",
    "    script = \"\"\r\n",
    "    address = \"\"\r\n",
    "\r\n",
    "    # *** 로 시작되는 양식\r\n",
    "    if df_transfer['민원내용'][i].startswith('*'):\r\n",
    "        # 그 다음 [민원 유입 경로] 로 시작되는 양식\r\n",
    "        if len(df_transfer['민원내용'][i].split('\\n')) > 6 and df_transfer['민원내용'][i].split('\\n')[6].startswith('[민원 유입 경로]'):\r\n",
    "            script = df_transfer['민원내용'][i].split('\\n')[8].strip()\r\n",
    "            df_transfer['민원본내용'][i] = script\r\n",
    "            address = df_transfer['민원내용'][i].split('\\n')[7].replace('[사고발생지역]', '').strip()\r\n",
    "            df_transfer['민원발생주소'][i] = address\r\n",
    "        else:\r\n",
    "            df_transfer['민원본내용'][i] = ''.join(df_transfer['민원내용'][i].split('\\n')[6:])\r\n",
    "    \r\n",
    "    # *** 없이 바로 [민원 유입 경로]로 시작되는 양식\r\n",
    "    elif df_transfer['민원내용'][i].startswith('[민원 유입 경로]'):\r\n",
    "        script = df_transfer['민원내용'][i].split('\\n')[2].strip()\r\n",
    "        df_transfer['민원본내용'][i] = script\r\n",
    "        address = df_transfer['민원내용'][i].split('\\n')[1].replace('[사고발생지역]', '').strip()\r\n",
    "        df_transfer['민원발생주소'][i] = address\r\n",
    "\r\n",
    "    # [민원 내용] 으로 시작되는 양식\r\n",
    "    elif df_transfer['민원내용'][i].startswith('[민원내용]'):\r\n",
    "        script = df_transfer['민원내용'][i].split('\\n')[1].strip()\r\n",
    "        df_transfer['민원본내용'][i] = script\r\n",
    "        address = df_transfer['민원내용'][i].split('\\n')[6].replace('위반위치 : ', '').strip()\r\n",
    "        df_transfer['민원발생주소'][i] = address\r\n",
    "\r\n",
    "    else:\r\n",
    "        df_transfer['민원본내용'][i] = df_transfer['민원내용'][i]\r\n"
   ],
   "outputs": [],
   "metadata": {}
  },
  {
   "cell_type": "code",
   "execution_count": null,
   "source": [
    "# 파일 저장\r\n",
    "df_transfer = df_transfer[['민원유형', '민원본내용', '민원발생주소']]"
   ],
   "outputs": [],
   "metadata": {}
  },
  {
   "cell_type": "code",
   "execution_count": null,
   "source": [
    "df_transfer.to_csv(\r\n",
    "    f'../../result/4.민원내용/민원내용_이송이관_{df_list[index]}', encoding='euc-kr', index=False)"
   ],
   "outputs": [],
   "metadata": {}
  },
  {
   "cell_type": "code",
   "execution_count": null,
   "source": [
    "# 파일 확인\r\n",
    "df_transfer.head()"
   ],
   "outputs": [],
   "metadata": {}
  },
  {
   "cell_type": "markdown",
   "source": [
    "---\r\n",
    "# <center><b>3. 데이터 시각화</b></center>\r\n",
    "---"
   ],
   "metadata": {}
  },
  {
   "cell_type": "code",
   "execution_count": null,
   "source": [
    "# 불용어 처리\r\n",
    "STOP_WORDS = {\r\n",
    "    '신고', '신고입니다', '신고합니다',\r\n",
    "    'quot', '1AA', 'apos', 'x29', 'x28',\r\n",
    "    '단속해주세요', '하였습니다',\r\n",
    "    'http', 'https', 'https www',\r\n",
    "    '안되나요', '해주세요', '있습니다', '갑니다',\r\n",
    "    '상황입니다', 'SPP', '에', '주',\r\n",
    "    '하는데', '안녕하세요', '문의드립니다', '심합니다',\r\n",
    "    '심하네요', '을', '를', '은', '는', '있다', '제발',\r\n",
    "    '입니다', '바랍니다', '요청', '다', '봐주세요',\r\n",
    "    '민원입니다', '대놓네요', '하네요', '사진', '아닌가요',\r\n",
    "    '부탁드립니다', '부탁', '부탁합니다', '2AA', '으로', '에서',\r\n",
    "    '가', '이', '구', '되나요', '이거', '했습니다', '로', '도',\r\n",
    "    'S', '부', '겁니까', '봅니다', '같아요', '않아요', '않습니다',\r\n",
    "    '확인부탁드려요', '부탁드려요', '아닙니다', '중입니다', '맞나요',\r\n",
    "    '하세요', '처리해주세요', '요청드립니다', '있어요', '내용',\r\n",
    "    '문의', '안녕하십니까', '주십시오', '그리고', '그래서',\r\n",
    "    '빨리', '없네요', '오후', '오전', '오늘', '현재',\r\n",
    "    '합니다', '앞입니다', '진짜', '등', '많습니다', '수고하세요', '수고하십니다',\r\n",
    "    '있네요', '같습니다', '그런데', '있나요', '사진입니다', '없나요',\r\n",
    "    '또', '어렵습니다', '습니다', '저희는', '는데', '어요', '부터', '지금',\r\n",
    "    '위', '음', '됩니까', '라는', '고', '과',\r\n",
    "    '앞', '옆', '있음', '같은', '납니다', '주세요', '없습니다', '생깁니다',\r\n",
    "    '빨리치워주세요', '치워주세요',\r\n",
    "    '감사하겠습니다', '조치부탁드립니다',\r\n",
    "    '하나요', '드립니다', '특히', '불편하네요', '위험합니다',\r\n",
    "    '동영상', '올립니다', '없어요', '주민입니다', '안됩니다',\r\n",
    "    '놔두고', '줍니다', '아닙니까', '어제', '나네요', '및', '했네요',\r\n",
    "    '매번', '상습적으로', '아닌데', '꼭', '아침', '상습',\r\n",
    "    '수고많으십니다', '하더군요', '어떻게', '정말', 'ㅜㅜ', '^^',\r\n",
    "    '합니까', '뭐하는', '하는', '계속', '아니면', '해주십시오', '해주십시요',\r\n",
    "    'map', 'GmapShow', 'net service', 'B3 A0',\r\n",
    "    'event php', 'BO EA', 'do position', 'go', 'kr', 'go kr', 'amp',\r\n",
    "    'downloadFile do', 'It', 'www', 'www clien', 'gmap go',\r\n",
    "    'service board', 'youtube', 'youtube com', 'naver com',\r\n",
    "    'board hongbo', 'portalap map', 'blog', 'blog naver', 'www gmap',\r\n",
    "    'kr portalap', 'GmapShow', 'do', 'GmapShow do', 'lur downloadFile',\r\n",
    "    'ED BO', 'instagram com', 'do', 'com', 'com watch', 'watch v',\r\n",
    "    'www ppeum20', 'EC AC', 'ppeum20 com', 'mimimi co', 'amp',\r\n",
    "    'tistory com', 'br', 'gt', 'br gt', 'itemId vendorItemId',\r\n",
    "    'portalap', 'clien net', 'tistory', 'naver', 'gmap',\r\n",
    "    'position', 'service board', 'net service', 'net',\r\n",
    "    'youtu be', 'smartsotre', 'NaPm ct', 'nbsp', 'clien',\r\n",
    "    'm', 'It', 'it', 'lur downloadFile', 'instagram', 'vendorItemId q',\r\n",
    "    'board hongbo', 'dscfNtNo', 'service', 'board', 'hongbo',\r\n",
    "    '의', 'IT', 'me', 'coupang', 'A', 'downloadFile',\r\n",
    "    'youtu', 'be', 'youtube', 'watch', 'v', 'V',\r\n",
    "    '기관지정요청', '안내', '갤러리에서 불러와',\r\n",
    "    '열어보실', '제거', 'URL', 'URL을 복사하여',\r\n",
    "    '해당', '해당 URL을', '정보시스템', '안내', '지방행정통합',\r\n",
    "    '지방행정통합 정보시스템', '신고위치 URL',\r\n",
    "    '붙여넣으면', '열어보실 수', '갤러리', '에서', '불러와', '첨부한',\r\n",
    "    '여기', '때문에', ' 불법주차', '불법주차 ', ' URL을 복사하여',\r\n",
    "    '브라우저', '복사하여', '제가', '불법주차 불법주차',\r\n",
    "    '아니고', '사람이', '다시', '더', '좀', '못하게', '많은',\r\n",
    "    '담당자분들께서는 첨부파일', '바로 촬용하여',\r\n",
    "    '부근', '저는', '스토리지에서 1개월 자료를 보관하고', '인해 스토리지에서', '공간으로 인해', '그냥', 'G', '너무', '있는데', '스토리지', '담당자분들께서는', '첨부파일',\r\n",
    "    '그', '스토리이제어 1개월', '다른', '저장 공간으로', 'URL을',\r\n",
    "    '사진촬영시간', '감사합니다', '너무', 'e',\r\n",
    "    '경우', 'p', '밤', '야간', '건', '뒤', '앞', '요망', '신청',\r\n",
    "    '네요', '없음', '않음', '국', '상',\r\n",
    "    '못한다', '밤', '때', '관련', '위반내용', '문제', '추가',\r\n",
    "    '진정', '신고파일', '파일', '민원', '사람', '발생', '불편합니다',\r\n",
    "    '조치바랍니다', '삽니다', '합니다'\r\n",
    "}\r\n"
   ],
   "outputs": [],
   "metadata": {}
  },
  {
   "cell_type": "code",
   "execution_count": null,
   "source": [
    "# 워드클라우드 폰트\r\n",
    "FONT_PATH = 'C:/Users/user/AppData/Local/Microsoft/Windows/Fonts/AppleSDGothicNeoB.ttf'"
   ],
   "outputs": [],
   "metadata": {}
  },
  {
   "cell_type": "code",
   "execution_count": null,
   "source": [
    "# 생활불편신고 워드 클라우드\r\n",
    "\r\n",
    "word_complain = set()\r\n",
    "for i in df_complain.index:\r\n",
    "    temp = df_complain['민원본내용'][i].strip().split()\r\n",
    "    for j in temp:\r\n",
    "        word_complain.add(j.replace(',', ''))\r\n",
    "        # word_complain.append(j.replace(',', '').strip())\r\n"
   ],
   "outputs": [],
   "metadata": {}
  },
  {
   "cell_type": "code",
   "execution_count": null,
   "source": [
    "# 워드 문자열화\r\n",
    "word_com_str = ' '.join(word_complain)"
   ],
   "outputs": [],
   "metadata": {}
  },
  {
   "cell_type": "code",
   "execution_count": null,
   "source": [
    "# 생활불편신고 워드클라우드\r\n",
    "wordcloud = WordCloud(\r\n",
    "    stopwords=STOP_WORDS,\r\n",
    "    font_path=FONT_PATH,\r\n",
    "    background_color='white',\r\n",
    "    width=800,\r\n",
    "    height=800).generate(word_com_str)\r\n",
    "\r\n",
    "plt.figure(figsize=(50, 50))  # 이미지 사이즈 지정\r\n",
    "plt.imshow(wordcloud)  # 이미지의 부드럽기 정도\r\n",
    "plt.axis('off')  # x y 축 숫자 제거\r\n",
    "plt.show()"
   ],
   "outputs": [],
   "metadata": {}
  },
  {
   "cell_type": "code",
   "execution_count": null,
   "source": [
    "# 이송이관 워드 클라우드\r\n",
    "\r\n",
    "word_transfer = list()\r\n",
    "for i in df_transfer.index:\r\n",
    "    temp = df_transfer['민원본내용'][i].strip().split()\r\n",
    "    for j in temp:\r\n",
    "        word_transfer.append(j.replace(',', '').strip())\r\n",
    "        # word_transfer.add(j.replace(',', '').strip())\r\n"
   ],
   "outputs": [],
   "metadata": {}
  },
  {
   "cell_type": "code",
   "execution_count": null,
   "source": [
    "# 워드 문자열화\r\n",
    "word_tran_str = ' '.join(word_transfer)"
   ],
   "outputs": [],
   "metadata": {}
  },
  {
   "cell_type": "code",
   "execution_count": null,
   "source": [
    "# 이송이관 워드클라우드\r\n",
    "\r\n",
    "wordcloud = WordCloud(\r\n",
    "    stopwords=STOP_WORDS,\r\n",
    "    font_path=FONT_PATH,\r\n",
    "    background_color='white',\r\n",
    "    width=800,\r\n",
    "    height=800).generate(word_tran_str)\r\n",
    "    \r\n",
    "plt.figure(figsize=(50, 50))  # 이미지 사이즈 지정\r\n",
    "plt.imshow(wordcloud)  # 이미지의 부드럽기 정도\r\n",
    "plt.axis('off')  # x y 축 숫자 제거\r\n",
    "plt.show()"
   ],
   "outputs": [],
   "metadata": {}
  }
 ],
 "metadata": {
  "orig_nbformat": 4,
  "language_info": {
   "name": "python",
   "version": "3.8.8",
   "mimetype": "text/x-python",
   "codemirror_mode": {
    "name": "ipython",
    "version": 3
   },
   "pygments_lexer": "ipython3",
   "nbconvert_exporter": "python",
   "file_extension": ".py"
  },
  "kernelspec": {
   "name": "python3",
   "display_name": "Python 3.8.8 64-bit ('base': conda)"
  },
  "interpreter": {
   "hash": "8cfb3f5d3732c8e9b7a65fa38dddf816068d0252f6ef0bfbc44616f476e20867"
  }
 },
 "nbformat": 4,
 "nbformat_minor": 2
}
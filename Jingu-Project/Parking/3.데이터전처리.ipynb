{
 "cells": [
  {
   "cell_type": "code",
   "execution_count": null,
   "metadata": {},
   "outputs": [],
   "source": [
    "import pandas as pd\n",
    "import os\n",
    "import numpy as np\n",
    "\n",
    "import requests\n",
    "from urllib.parse import urlparse"
   ]
  },
  {
   "cell_type": "code",
   "execution_count": null,
   "metadata": {},
   "outputs": [],
   "source": [
    "os.getcwd()"
   ]
  },
  {
   "cell_type": "code",
   "execution_count": null,
   "metadata": {},
   "outputs": [],
   "source": [
    "df_list = list(os.listdir('data/parkinglot'))\n",
    "df_list"
   ]
  },
  {
   "cell_type": "markdown",
   "metadata": {},
   "source": [
    "----"
   ]
  },
  {
   "cell_type": "markdown",
   "metadata": {},
   "source": [
    "<center><h2><b>1. 주차장 데이터 전처리</b></h2></center>"
   ]
  },
  {
   "cell_type": "code",
   "execution_count": null,
   "metadata": {},
   "outputs": [],
   "source": [
    "# 데이터 파일 병합\n",
    "# PATH = 'G:/Repository/PublicData/Jingu-Project/Parking/data/parkinglot'\n",
    "# os.chdir(PATH)\n",
    "# os.getcwd() # 현재 위치\n",
    "# df_list = list(os.listdir(os.getcwd()))\n",
    "df_list = list(os.listdir('data/parkinglot'))\n",
    "\n",
    "df_merge = pd.DataFrame()\n",
    "for d in df_list:\n",
    "    df = pd.read_csv(f'./data/parkinglot/{d}', encoding='euc-kr')\n",
    "    df_merge = pd.concat([df_merge, df], ignore_index=True)\n",
    "\n",
    "df_merge.info()"
   ]
  },
  {
   "cell_type": "code",
   "execution_count": null,
   "metadata": {},
   "outputs": [],
   "source": [
    "df_merge.head()"
   ]
  },
  {
   "cell_type": "code",
   "execution_count": null,
   "metadata": {},
   "outputs": [],
   "source": [
    "df_merge['주차장구분'].unique()"
   ]
  },
  {
   "cell_type": "code",
   "execution_count": null,
   "metadata": {},
   "outputs": [],
   "source": [
    "df = df_merge[['주차장명', '주차장구분', '주차장유형', '소재지도로명주소', '소재지지번주소', '주차구획수']]\n",
    "df.head()"
   ]
  },
  {
   "cell_type": "code",
   "execution_count": null,
   "metadata": {},
   "outputs": [],
   "source": [
    "# 주소 검색 함수 정의\n",
    "def address_to_latlon(address):\n",
    "    url = \"https://dapi.kakao.com/v2/local/search/address.json?&query=\" + address\n",
    "    result = requests.get(urlparse(url).geturl(),\n",
    "                          headers={\"Authorization\":\"KakaoAK APIKEY\"})\n",
    "    json_obj = result.json()\n",
    "    keys = [key for key in json_obj]\n",
    "    # print(json_obj[keys[0]])\n",
    "    if keys[0] == 'documents':\n",
    "        for document in json_obj['documents']:\n",
    "            if document['address'] is not None:\n",
    "                val = [document['address_name'], document['address']['region_3depth_h_name'], document['y'], document['x']]\n",
    "            elif document['road_address'] is not None:\n",
    "                val = [document['address_name'], document['road_address']['region_3depth_name'], document['y'], document['x']]\n",
    "            return val\n",
    "        return [\"\", \"\", \"\", \"\"]\n",
    "    else:\n",
    "        return [\"\", \"\", \"\", \"\"]"
   ]
  },
  {
   "cell_type": "code",
   "execution_count": null,
   "metadata": {},
   "outputs": [],
   "source": [
    "df.loc[10:11]"
   ]
  },
  {
   "cell_type": "code",
   "execution_count": null,
   "metadata": {},
   "outputs": [],
   "source": [
    "address = '부전동 474-17'\n",
    "tmp = address_to_latlon(address)\n",
    "tmp"
   ]
  },
  {
   "cell_type": "code",
   "execution_count": null,
   "metadata": {},
   "outputs": [],
   "source": [
    "address = '부산광역시 부산진구 가야대로750번길'\n",
    "tmp = address_to_latlon(address)\n",
    "tmp"
   ]
  },
  {
   "cell_type": "code",
   "execution_count": null,
   "metadata": {},
   "outputs": [],
   "source": [
    "df['주소'] = np.nan\n",
    "df['행정동'] = np.nan\n",
    "df['위도'] = np.nan\n",
    "df['경도'] = np.nan\n",
    "df.head()"
   ]
  },
  {
   "cell_type": "code",
   "execution_count": null,
   "metadata": {},
   "outputs": [],
   "source": [
    "df[df['소재지도로명주소'].isnull()].head()"
   ]
  },
  {
   "cell_type": "code",
   "execution_count": null,
   "metadata": {},
   "outputs": [],
   "source": [
    "df.loc[42:43]"
   ]
  },
  {
   "cell_type": "code",
   "execution_count": null,
   "metadata": {},
   "outputs": [],
   "source": [
    "df['소재지도로명주소'][15] is not np.nan"
   ]
  },
  {
   "cell_type": "code",
   "execution_count": null,
   "metadata": {},
   "outputs": [],
   "source": [
    "# 주소 넣기\n",
    "for i in range(len(df)):\n",
    "    if df['소재지도로명주소'][i] is not np.nan:\n",
    "        df['주소'][i] = df['소재지도로명주소'][i]\n",
    "    else:\n",
    "        if df['소재지지번주소'][i] is not np.nan:\n",
    "            df['주소'][i] =  df['소재지지번주소'][i]\n",
    "        else:\n",
    "            df['주소'][i] =  \"\""
   ]
  },
  {
   "cell_type": "code",
   "execution_count": null,
   "metadata": {},
   "outputs": [],
   "source": [
    "df.info()"
   ]
  },
  {
   "cell_type": "code",
   "execution_count": null,
   "metadata": {},
   "outputs": [],
   "source": [
    "df.head()"
   ]
  },
  {
   "cell_type": "code",
   "execution_count": null,
   "metadata": {},
   "outputs": [],
   "source": [
    "address = '부산광역시 부산진구 가야대로750번길'\n",
    "tmp = address_to_latlon(address)\n",
    "tmp"
   ]
  },
  {
   "cell_type": "code",
   "execution_count": null,
   "metadata": {},
   "outputs": [],
   "source": [
    "# 위도, 경도 구하기\n",
    "for i in range(len(df)):\n",
    "    min_address = df['주소'][i]\n",
    "    tmp = address_to_latlon(min_address)\n",
    "    df['행정동'][i] = tmp[1]\n",
    "    df['위도'][i] = tmp[2]\n",
    "    df['경도'][i] = tmp[3]\n",
    "    # print(i)"
   ]
  },
  {
   "cell_type": "code",
   "execution_count": null,
   "metadata": {},
   "outputs": [],
   "source": [
    "df.head()\n",
    "df.info()"
   ]
  },
  {
   "cell_type": "code",
   "execution_count": null,
   "metadata": {},
   "outputs": [],
   "source": [
    "df.to_csv('./data/result/주차장.csv', index=False, encoding='euc-kr')"
   ]
  },
  {
   "cell_type": "code",
   "execution_count": null,
   "metadata": {},
   "outputs": [],
   "source": [
    "df_ = pd.read_csv('./data/result/주차장.csv', encoding='euc-kr')\n",
    "df_ = df_[['주차장명', '행정동', '주차구획수', '위도', '경도']]\n",
    "df_.head()"
   ]
  },
  {
   "cell_type": "markdown",
   "metadata": {},
   "source": [
    "----"
   ]
  },
  {
   "cell_type": "markdown",
   "metadata": {},
   "source": [
    "<center><h2><b>2. 공동주택 데이터 전처리</b></h2></center>"
   ]
  },
  {
   "cell_type": "code",
   "execution_count": null,
   "metadata": {},
   "outputs": [],
   "source": [
    "df_h = pd.read_csv('./data/부산광역시_부산진구_공동주택현황_20210708.csv', encoding='euc-kr')\n",
    "df_h.head()"
   ]
  },
  {
   "cell_type": "code",
   "execution_count": null,
   "metadata": {},
   "outputs": [],
   "source": [
    "df_h.columns"
   ]
  },
  {
   "cell_type": "code",
   "execution_count": null,
   "metadata": {},
   "outputs": [],
   "source": [
    "df_h.info()"
   ]
  },
  {
   "cell_type": "code",
   "execution_count": null,
   "metadata": {},
   "outputs": [],
   "source": [
    "h = df_h[['단지명', '구분', '소재지 도로명주소', '소재지 지번주소', ' 세대수 ']]\n",
    "h.head()"
   ]
  },
  {
   "cell_type": "code",
   "execution_count": null,
   "metadata": {},
   "outputs": [],
   "source": [
    "h.rename(columns={'소재지 도로명주소':'소재지도로명주소', '소재지 지번주소':'소재지지번주소', ' 세대수 ':'세대수'}, inplace=True)\n",
    "h.head()"
   ]
  },
  {
   "cell_type": "code",
   "execution_count": null,
   "metadata": {},
   "outputs": [],
   "source": [
    "h.info()"
   ]
  },
  {
   "cell_type": "code",
   "execution_count": null,
   "metadata": {},
   "outputs": [],
   "source": [
    "h['행정동'] = np.nan\n",
    "h['위도'] = np.nan\n",
    "h['경도'] = np.nan"
   ]
  },
  {
   "cell_type": "code",
   "execution_count": null,
   "metadata": {},
   "outputs": [],
   "source": [
    "h.head()"
   ]
  },
  {
   "cell_type": "code",
   "execution_count": null,
   "metadata": {},
   "outputs": [],
   "source": [
    "# 위도, 경도 구하기\n",
    "for i in range(len(h)):\n",
    "    min_address = h['소재지도로명주소'][i]\n",
    "    tmp = address_to_latlon(min_address)\n",
    "    h['행정동'][i] = tmp[1]\n",
    "    h['위도'][i] = tmp[2]\n",
    "    h['경도'][i] = tmp[3]"
   ]
  },
  {
   "cell_type": "code",
   "execution_count": null,
   "metadata": {},
   "outputs": [],
   "source": [
    "h.head()"
   ]
  },
  {
   "cell_type": "code",
   "execution_count": null,
   "metadata": {},
   "outputs": [],
   "source": [
    "h.to_csv('./data/result/공동주택.csv', encoding='euc-kr', index=False)"
   ]
  },
  {
   "cell_type": "code",
   "execution_count": null,
   "metadata": {},
   "outputs": [],
   "source": [
    "h_ = pd.read_csv('./data/result/공동주택.csv', encoding='euc-kr')\n",
    "h_ = h[['단지명', '행정동', '세대수', '위도', '경도']]\n",
    "h_.head()"
   ]
  },
  {
   "cell_type": "markdown",
   "metadata": {},
   "source": [
    "----"
   ]
  },
  {
   "cell_type": "markdown",
   "metadata": {},
   "source": [
    "<center><h2><b>3. 상가 데이터 전처리</b></h2></center>"
   ]
  },
  {
   "cell_type": "code",
   "execution_count": null,
   "metadata": {},
   "outputs": [],
   "source": [
    "df_m = pd.read_csv('./data/상가현황(부산진구_20210930).csv', encoding='cp949')\n",
    "df_m.head(2)"
   ]
  },
  {
   "cell_type": "code",
   "execution_count": null,
   "metadata": {},
   "outputs": [],
   "source": [
    "df_m.head()"
   ]
  },
  {
   "cell_type": "code",
   "execution_count": null,
   "metadata": {},
   "outputs": [],
   "source": [
    "df_m.columns"
   ]
  },
  {
   "cell_type": "code",
   "execution_count": null,
   "metadata": {},
   "outputs": [],
   "source": [
    "df_m.info()"
   ]
  },
  {
   "cell_type": "code",
   "execution_count": null,
   "metadata": {},
   "outputs": [],
   "source": [
    "m = df_m[['상호명', '상권업종대분류명', '상권업종중분류명', '상권업종소분류명', '표준산업분류명', '행정동명', '법정동명', '위도', '경도']]\n",
    "m.head()"
   ]
  },
  {
   "cell_type": "code",
   "execution_count": null,
   "metadata": {},
   "outputs": [],
   "source": [
    "m.to_csv('./data/result/상가.csv', encoding='euc-kr', index=False)"
   ]
  },
  {
   "cell_type": "code",
   "execution_count": null,
   "metadata": {},
   "outputs": [],
   "source": [
    "m = pd.read_csv('./data/result/상가.csv', encoding='euc-kr')\n",
    "m_ = m[['상호명', '행정동명', '위도', '경도']]\n",
    "m_.head()"
   ]
  },
  {
   "cell_type": "markdown",
   "metadata": {},
   "source": [
    "----"
   ]
  },
  {
   "cell_type": "markdown",
   "metadata": {},
   "source": [
    "<center><h2><b>4. 데이터 그룹핑</b></h2></center>"
   ]
  },
  {
   "cell_type": "code",
   "execution_count": null,
   "metadata": {},
   "outputs": [],
   "source": [
    "df_.head()"
   ]
  },
  {
   "cell_type": "code",
   "execution_count": null,
   "metadata": {},
   "outputs": [],
   "source": [
    "p1 = df_.groupby('행정동').count()\n",
    "p1 = p1[['주차장명']]\n",
    "p1.rename(columns={'주차장명':'주차장수'}, inplace=True)\n",
    "p1\n",
    "\n",
    "p2 = df_.groupby('행정동').sum()\n",
    "p2 = p2[['주차구획수']].astype(int)\n",
    "p2"
   ]
  },
  {
   "cell_type": "code",
   "execution_count": null,
   "metadata": {},
   "outputs": [],
   "source": [
    "h_.head()"
   ]
  },
  {
   "cell_type": "code",
   "execution_count": null,
   "metadata": {},
   "outputs": [],
   "source": [
    "h1 = h_.groupby('행정동').count()\n",
    "h1 = h1[['단지명']]\n",
    "h1.rename(columns={'단지명':'공동주택수'}, inplace=True)\n",
    "h1 = h1.astype(int)\n",
    "h1\n",
    "\n",
    "h2 = h_.groupby('행정동').sum()\n",
    "h2 = h2[['세대수']]\n",
    "h2.rename(columns={'세대수':'공동주택세대수'}, inplace=True)\n",
    "h2 = h2.astype(int)\n",
    "h2"
   ]
  },
  {
   "cell_type": "code",
   "execution_count": null,
   "metadata": {},
   "outputs": [],
   "source": [
    "m_.head()"
   ]
  },
  {
   "cell_type": "code",
   "execution_count": null,
   "metadata": {},
   "outputs": [],
   "source": [
    "m1 = m_.groupby('행정동명', as_index=True).count()\n",
    "m1 = m1[['상호명']]\n",
    "m1.rename(columns={'상호명':'상가수'})\n",
    "m1"
   ]
  },
  {
   "cell_type": "code",
   "execution_count": null,
   "metadata": {},
   "outputs": [],
   "source": [
    "m1.reset_index(inplace=True)\n",
    "m1.rename(columns={'행정동명':'행정동'}, inplace=True)\n",
    "m1.set_index(keys='행정동', inplace=True)\n",
    "m1"
   ]
  },
  {
   "cell_type": "code",
   "execution_count": null,
   "metadata": {},
   "outputs": [],
   "source": [
    "merged = p1.join(p2)\n",
    "merged"
   ]
  },
  {
   "cell_type": "code",
   "execution_count": null,
   "metadata": {},
   "outputs": [],
   "source": [
    "merged = merged.join(h1)\n",
    "merged"
   ]
  },
  {
   "cell_type": "code",
   "execution_count": null,
   "metadata": {},
   "outputs": [],
   "source": [
    "merged = merged.join(h2)\n",
    "merged"
   ]
  },
  {
   "cell_type": "code",
   "execution_count": null,
   "metadata": {},
   "outputs": [],
   "source": [
    "merged = merged.join(m1)\n",
    "merged"
   ]
  },
  {
   "cell_type": "code",
   "execution_count": null,
   "metadata": {},
   "outputs": [],
   "source": [
    "merged = merged.sort_index()"
   ]
  },
  {
   "cell_type": "code",
   "execution_count": null,
   "metadata": {},
   "outputs": [],
   "source": [
    "merged.to_csv('./data/result/행정동기준_변수.csv', encoding='euc-kr', index=True)"
   ]
  },
  {
   "cell_type": "markdown",
   "metadata": {},
   "source": [
    "----"
   ]
  },
  {
   "cell_type": "markdown",
   "metadata": {},
   "source": [
    "<center><h2><b>5. 민원인 주소 데이터 전처리</b></h2></center>"
   ]
  },
  {
   "cell_type": "code",
   "execution_count": null,
   "metadata": {},
   "outputs": [],
   "source": [
    "min_s = pd.read_csv(\"./data/민원/민원내용_생활불편신고_20190101-20201231.csv\", encoding='euc-kr')\n",
    "min_s.head()"
   ]
  },
  {
   "cell_type": "code",
   "execution_count": null,
   "metadata": {},
   "outputs": [],
   "source": [
    "min_s.head()"
   ]
  },
  {
   "cell_type": "code",
   "execution_count": null,
   "metadata": {},
   "outputs": [],
   "source": [
    "('불법주차' or '불법주정차' or '불법 주차' or '불법 주정차') in min_s.loc[0]['민원본내용']"
   ]
  },
  {
   "cell_type": "code",
   "execution_count": null,
   "metadata": {},
   "outputs": [],
   "source": [
    "min_s_ = pd.DataFrame({'민원유형':[], '민원본내용':[], '민원발생주소':[]})\n",
    "min_s_"
   ]
  },
  {
   "cell_type": "code",
   "execution_count": null,
   "metadata": {},
   "outputs": [],
   "source": [
    "min_s.loc[0]['민원본내용']"
   ]
  },
  {
   "cell_type": "code",
   "execution_count": null,
   "metadata": {},
   "outputs": [],
   "source": [
    "(min_s.loc[0]['민원본내용'].find('불법주차') != -1) or (min_s.loc[0]['민원본내용'].find('불법 주차') != -1) or (min_s.loc[0]['민원본내용'].find('불법주정차') != -1) or (min_s.loc[0]['민원본내용'].find('불법 주정차') != -1)"
   ]
  },
  {
   "cell_type": "code",
   "execution_count": null,
   "metadata": {},
   "outputs": [],
   "source": [
    "min_s_ = min_s_.append(min_s.loc[0])\n",
    "min_s_"
   ]
  },
  {
   "cell_type": "code",
   "execution_count": null,
   "metadata": {},
   "outputs": [],
   "source": [
    "for i in range(len(min_s)):\n",
    "    if (min_s.loc[i]['민원본내용'].find('불법주차') != -1) or (min_s.loc[i]['민원본내용'].find('불법 주차') != -1) or (min_s.loc[i]['민원본내용'].find('불법주정차') != -1) or (min_s.loc[i]['민원본내용'].find('불법 주정차') != -1):\n",
    "        min_s_ = min_s_.append(min_s.loc[i])\n",
    "    else:\n",
    "        continue"
   ]
  },
  {
   "cell_type": "code",
   "execution_count": null,
   "metadata": {},
   "outputs": [],
   "source": [
    "min_s_"
   ]
  },
  {
   "cell_type": "code",
   "execution_count": null,
   "metadata": {},
   "outputs": [],
   "source": [
    "min_i = pd.read_csv('./data/민원/민원내용_이송이관_20190101-20201231.csv', encoding='euc-kr')\n",
    "min_i"
   ]
  },
  {
   "cell_type": "code",
   "execution_count": null,
   "metadata": {},
   "outputs": [],
   "source": [
    "min_i.loc[39118]"
   ]
  },
  {
   "cell_type": "code",
   "execution_count": null,
   "metadata": {},
   "outputs": [],
   "source": [
    "min_i.loc[39118]['민원본내용']"
   ]
  },
  {
   "cell_type": "code",
   "execution_count": null,
   "metadata": {},
   "outputs": [],
   "source": [
    "min_i.loc[39118]['민원본내용'].find('불법 주정차')"
   ]
  },
  {
   "cell_type": "code",
   "execution_count": null,
   "metadata": {},
   "outputs": [],
   "source": [
    "min_i[min_i['민원본내용'].isnull()]"
   ]
  },
  {
   "cell_type": "code",
   "execution_count": null,
   "metadata": {},
   "outputs": [],
   "source": [
    "min_i.dropna(inplace=True)"
   ]
  },
  {
   "cell_type": "code",
   "execution_count": null,
   "metadata": {},
   "outputs": [],
   "source": [
    "min_i_ = pd.DataFrame({'민원유형':[], '민원본내용':[], '민원발생주소':[]})\n",
    "min_i_"
   ]
  },
  {
   "cell_type": "code",
   "execution_count": null,
   "metadata": {},
   "outputs": [],
   "source": [
    "min_i.info()"
   ]
  },
  {
   "cell_type": "code",
   "execution_count": null,
   "metadata": {},
   "outputs": [],
   "source": [
    "min_i.reset_index(drop=True, inplace=True)"
   ]
  },
  {
   "cell_type": "code",
   "execution_count": null,
   "metadata": {},
   "outputs": [],
   "source": [
    "min_i.info()"
   ]
  },
  {
   "cell_type": "code",
   "execution_count": null,
   "metadata": {},
   "outputs": [],
   "source": [
    "min_i.head()"
   ]
  },
  {
   "cell_type": "code",
   "execution_count": null,
   "metadata": {},
   "outputs": [],
   "source": [
    "min_si = min_s_\n",
    "min_si.info()"
   ]
  },
  {
   "cell_type": "code",
   "execution_count": null,
   "metadata": {},
   "outputs": [],
   "source": [
    "for i in range(len(min_i)):\n",
    "    if (min_i.loc[i]['민원본내용'].find('불법주차') != -1) or (min_i.loc[i]['민원본내용'].find('불법 주차') != -1) or (min_i.loc[i]['민원본내용'].find('불법주정차') != -1) or (min_i.loc[i]['민원본내용'].find('불법 주정차') != -1):\n",
    "        min_si = min_si.append(min_i.loc[i])\n",
    "    else:\n",
    "        continue"
   ]
  },
  {
   "cell_type": "code",
   "execution_count": null,
   "metadata": {},
   "outputs": [],
   "source": [
    "min_si"
   ]
  },
  {
   "cell_type": "code",
   "execution_count": null,
   "metadata": {},
   "outputs": [],
   "source": [
    "min_si.info()"
   ]
  },
  {
   "cell_type": "code",
   "execution_count": null,
   "metadata": {},
   "outputs": [],
   "source": [
    "min_si.reset_index(drop=True, inplace=True)\n",
    "min_si.info()"
   ]
  },
  {
   "cell_type": "code",
   "execution_count": null,
   "metadata": {},
   "outputs": [],
   "source": [
    "min_si"
   ]
  },
  {
   "cell_type": "code",
   "execution_count": null,
   "metadata": {},
   "outputs": [],
   "source": [
    "address = '부산광역시 부산진구 부전동 522-46 부근6'\n",
    "tmp = address_to_latlon(address)\n",
    "tmp"
   ]
  },
  {
   "cell_type": "code",
   "execution_count": null,
   "metadata": {},
   "outputs": [],
   "source": [
    "min_s_.head()\n",
    "min_s_.info()"
   ]
  },
  {
   "cell_type": "code",
   "execution_count": null,
   "metadata": {},
   "outputs": [],
   "source": [
    "min_i_.head()"
   ]
  },
  {
   "cell_type": "code",
   "execution_count": null,
   "metadata": {},
   "outputs": [],
   "source": [
    "df_s = pd.read_csv('./data/민원인주소_위도경도_원주소.csv', encoding='euc-kr')\n",
    "df_s.head()"
   ]
  },
  {
   "cell_type": "code",
   "execution_count": null,
   "metadata": {},
   "outputs": [],
   "source": [
    "df_s.head()"
   ]
  },
  {
   "cell_type": "code",
   "execution_count": null,
   "metadata": {},
   "outputs": [],
   "source": [
    "df_s.dropna(inplace=True)\n",
    "df_s.reset_index(inplace=True, drop=True)"
   ]
  },
  {
   "cell_type": "code",
   "execution_count": null,
   "metadata": {},
   "outputs": [],
   "source": [
    "df_s.info()"
   ]
  },
  {
   "cell_type": "code",
   "execution_count": null,
   "metadata": {},
   "outputs": [],
   "source": [
    "df_s.loc[0]"
   ]
  },
  {
   "cell_type": "code",
   "execution_count": null,
   "metadata": {},
   "outputs": [],
   "source": [
    "address = '부산 부산진구 부전동 522-46'\n",
    "tmp = address_to_latlon(address)\n",
    "tmp"
   ]
  },
  {
   "cell_type": "code",
   "execution_count": null,
   "metadata": {},
   "outputs": [],
   "source": [
    "min_si"
   ]
  },
  {
   "cell_type": "code",
   "execution_count": null,
   "metadata": {},
   "outputs": [],
   "source": [
    "min_si['행정동'] = np.nan\n",
    "min_si.head()"
   ]
  },
  {
   "cell_type": "code",
   "execution_count": null,
   "metadata": {},
   "outputs": [],
   "source": [
    "min_si.loc[11:13]"
   ]
  },
  {
   "cell_type": "code",
   "execution_count": null,
   "metadata": {},
   "outputs": [],
   "source": [
    "# 행정동 구하기\n",
    "for i in range(len(min_si)):\n",
    "    min_address = min_si['민원발생주소'][i]\n",
    "    tmp = address_to_latlon(min_address)\n",
    "    min_si['행정동'][i] = tmp[1]"
   ]
  },
  {
   "cell_type": "code",
   "execution_count": null,
   "metadata": {},
   "outputs": [],
   "source": [
    "min_si[min_si['행정동'].isnull()]"
   ]
  },
  {
   "cell_type": "code",
   "execution_count": null,
   "metadata": {},
   "outputs": [],
   "source": [
    "min_si2 = min_si[min_si['행정동'].isnull()]"
   ]
  },
  {
   "cell_type": "code",
   "execution_count": null,
   "metadata": {},
   "outputs": [],
   "source": [
    "min_si2"
   ]
  },
  {
   "cell_type": "code",
   "execution_count": null,
   "metadata": {},
   "outputs": [],
   "source": [
    "min_si2.reset_index(drop=True, inplace=True)\n",
    "min_si2"
   ]
  },
  {
   "cell_type": "code",
   "execution_count": null,
   "metadata": {},
   "outputs": [],
   "source": [
    "# 행정동 구하기\n",
    "for i in range(len(min_si2)):\n",
    "    min_address = min_si2['민원발생주소'][i]\n",
    "    tmp = address_to_latlon(min_address)\n",
    "    min_si2['행정동'][i] = tmp[1]"
   ]
  },
  {
   "cell_type": "code",
   "execution_count": null,
   "metadata": {},
   "outputs": [],
   "source": [
    "min_si.loc[:21878]"
   ]
  },
  {
   "cell_type": "code",
   "execution_count": null,
   "metadata": {},
   "outputs": [],
   "source": [
    "min_si2"
   ]
  },
  {
   "cell_type": "code",
   "execution_count": null,
   "metadata": {},
   "outputs": [],
   "source": [
    "min_si_ = pd.concat([min_si.loc[:21878], min_si2])\n",
    "min_si_"
   ]
  },
  {
   "cell_type": "code",
   "execution_count": null,
   "metadata": {},
   "outputs": [],
   "source": [
    "min_si_.info()"
   ]
  },
  {
   "cell_type": "code",
   "execution_count": null,
   "metadata": {},
   "outputs": [],
   "source": [
    "min_si_.reset_index(drop=True, inplace=True)\n",
    "min_si_"
   ]
  },
  {
   "cell_type": "code",
   "execution_count": null,
   "metadata": {},
   "outputs": [],
   "source": [
    "minwon = min_si_[['행정동', '민원유형']]\n",
    "minwon = minwon.groupby('행정동').count()\n",
    "minwon"
   ]
  },
  {
   "cell_type": "code",
   "execution_count": null,
   "metadata": {},
   "outputs": [],
   "source": [
    "hh = pd.read_csv('./data/result/행정동기준_변수.csv', encoding='euc-kr')\n",
    "hh.head()"
   ]
  },
  {
   "cell_type": "code",
   "execution_count": null,
   "metadata": {},
   "outputs": [],
   "source": [
    "hh_ = hh.set_index('행정동')\n",
    "hh_"
   ]
  },
  {
   "cell_type": "code",
   "execution_count": null,
   "metadata": {},
   "outputs": [],
   "source": [
    "result = hh_.join(minwon)\n",
    "result"
   ]
  },
  {
   "cell_type": "code",
   "execution_count": null,
   "metadata": {},
   "outputs": [],
   "source": [
    "result.rename(columns={'상호명':'상가수', '민원유형':'민원수'}, inplace=True)\n",
    "result"
   ]
  },
  {
   "cell_type": "code",
   "execution_count": null,
   "metadata": {},
   "outputs": [],
   "source": [
    "result.to_csv('./data/result/행정동기준_결과.csv', encoding='euc-kr', index=True)"
   ]
  },
  {
   "cell_type": "code",
   "execution_count": null,
   "metadata": {},
   "outputs": [],
   "source": []
  }
 ],
 "metadata": {
  "interpreter": {
   "hash": "8cfb3f5d3732c8e9b7a65fa38dddf816068d0252f6ef0bfbc44616f476e20867"
  },
  "kernelspec": {
   "display_name": "Python 3.8.12 64-bit ('base': conda)",
   "language": "python",
   "name": "python3"
  },
  "language_info": {
   "codemirror_mode": {
    "name": "ipython",
    "version": 3
   },
   "file_extension": ".py",
   "mimetype": "text/x-python",
   "name": "python",
   "nbconvert_exporter": "python",
   "pygments_lexer": "ipython3",
   "version": "3.8.12"
  },
  "orig_nbformat": 4
 },
 "nbformat": 4,
 "nbformat_minor": 2
}

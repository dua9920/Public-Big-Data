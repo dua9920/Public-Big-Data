{
 "cells": [
  {
   "cell_type": "code",
   "execution_count": null,
   "metadata": {},
   "outputs": [],
   "source": [
    "import json\n",
    "import pandas as pd\n",
    "import os\n",
    "import numpy as np\n",
    "\n",
    "\n",
    "import folium\n",
    "from folium import plugins\n",
    "from pprint import pprint\n",
    "from folium.plugins import HeatMap\n",
    "\n",
    "import plotly.graph_objects as go\n",
    "import cufflinks as cf\n",
    "cf.go_offline(connected=True)\n",
    "\n",
    "import requests\n",
    "from urllib.parse import urlparse"
   ]
  },
  {
   "cell_type": "code",
   "execution_count": null,
   "metadata": {},
   "outputs": [],
   "source": [
    "# 데이터 파일 병합\n",
    "# PATH = 'G:/Repository/PublicData/Jingu-Project/Parking/data/parkinglot'\n",
    "# os.chdir(PATH)\n",
    "os.getcwd() # 현재 위치\n",
    "\n",
    "df_list = list(os.listdir(os.getcwd()))\n",
    "\n",
    "df_merge = pd.DataFrame()\n",
    "for d in df_list:\n",
    "    df = pd.read_csv(d, encoding='euc-kr')\n",
    "    df_merge = pd.concat([df_merge, df], ignore_index=True)\n",
    "\n",
    "df_merge.info()"
   ]
  },
  {
   "cell_type": "code",
   "execution_count": null,
   "metadata": {},
   "outputs": [],
   "source": [
    "# 병합 데이터 저장\n",
    "df_merge.to_csv('../부산진구 주자창 현황(2021.11.).csv', encoding='euc-kr', index=False)"
   ]
  },
  {
   "cell_type": "code",
   "execution_count": null,
   "metadata": {},
   "outputs": [],
   "source": [
    "# 병합 데이터 가져오기\n",
    "df_merge = pd.read_csv('./data/부산진구 주자창 현황(2021.11.).csv', encoding='euc-kr')\n",
    "df_merge.head()"
   ]
  },
  {
   "cell_type": "code",
   "execution_count": null,
   "metadata": {},
   "outputs": [],
   "source": [
    "# 데이터 컬럼\n",
    "df_merge.columns"
   ]
  },
  {
   "cell_type": "code",
   "execution_count": null,
   "metadata": {},
   "outputs": [],
   "source": [
    "# 대충 필요해보이는 컬럼\n",
    "df_merge[['주차장구분', '주차장유형', '주차장명', '소재지지번주소', '주차구획수']]"
   ]
  },
  {
   "cell_type": "code",
   "execution_count": null,
   "metadata": {},
   "outputs": [],
   "source": [
    "# 주차구획 to int\n",
    "df_merge['주차구획수'].notnull()"
   ]
  },
  {
   "cell_type": "code",
   "execution_count": null,
   "metadata": {},
   "outputs": [],
   "source": [
    "# 각 열의 유니크 값\n",
    "# df_merge['주차장구분'].unique()\n",
    "df_merge['주차장유형'].unique()"
   ]
  },
  {
   "cell_type": "code",
   "execution_count": null,
   "metadata": {},
   "outputs": [],
   "source": [
    "# 주차장구분\n",
    "df1 = df_merge[['주차장구분', '주차구획수']]\n",
    "df1 = df1.groupby('주차장구분').sum()\n",
    "df1.rename(columns={'주차구획수': '빈도'}, inplace=True)\n",
    "df1\n",
    "\n",
    "layout_kind = {\n",
    "    'title': {\n",
    "        'text': '<b>주차장구분에 따른 주차구획수 파이차트 분석</b>',\n",
    "        'font': {\n",
    "            'size': 20\n",
    "        },\n",
    "        'x': 0.5,\n",
    "    },\n",
    "    'showlegend':True,\n",
    "    'legend': {\n",
    "        'title': {\n",
    "            'text': '<b>주차장구분</b>',\n",
    "            'font': {\n",
    "                'size': 15\n",
    "            },\n",
    "        },\n",
    "        'borderwidth':25, \n",
    "        'bordercolor': '#fff',\n",
    "        'bgcolor': '#F0F8FF',\n",
    "        'orientation': 'h',\n",
    "    },\n",
    "    'autosize': True,\n",
    "    # 'width': 600,\n",
    "    # 'height': 600,\n",
    "}\n",
    "\n",
    "kind = go.Figure()\n",
    "\n",
    "kind.add_trace(\n",
    "    go.Pie(\n",
    "        labels=df1.index,\n",
    "        values=df1['빈도'],\n",
    "    )\n",
    ")\n",
    "\n",
    "kind.update_traces(\n",
    "    go.Pie(\n",
    "        textposition='inside',\n",
    "        textinfo='label+value+percent',\n",
    "        textfont = {\n",
    "            'size': 15,\n",
    "        }\n",
    "    )\n",
    ")\n",
    "\n",
    "kind.update_layout(layout_kind)\n",
    "kind.show()"
   ]
  },
  {
   "cell_type": "code",
   "execution_count": null,
   "metadata": {},
   "outputs": [],
   "source": []
  },
  {
   "cell_type": "code",
   "execution_count": null,
   "metadata": {},
   "outputs": [],
   "source": [
    "# 주차장 유형\n",
    "df2 = df_merge[['주차장유형', '주차장구분']]\n",
    "df2 = df2.groupby('주차장유형').count()\n",
    "df2.rename(columns={'주차장구분': '빈도'}, inplace=True)\n",
    "\n",
    "df3 = df_merge[['주차장유형', '주차구획수']]\n",
    "df3 = df3.groupby('주차장유형').sum()\n",
    "df3.rename(columns={'주차구획수': '빈도'}, inplace=True)\n",
    "df3\n",
    "\n",
    "layout = {\n",
    "    'title': {\n",
    "        'text': '<b>주차장유형에 따른 주차구획수 파이차트 분석</b>',\n",
    "        'font': {\n",
    "            'size': 20\n",
    "        },\n",
    "        'x': 0.5,\n",
    "    },\n",
    "    'showlegend':True,\n",
    "    'legend': {\n",
    "        'title': {\n",
    "            'text': '<b>주차장유형</b>',\n",
    "            'font': {\n",
    "                'size': 15\n",
    "            },\n",
    "        },\n",
    "        'borderwidth':25, \n",
    "        'bordercolor': '#fff',\n",
    "        'bgcolor': '#F0F8FF',\n",
    "        'orientation': 'h',\n",
    "        'x':0.15\n",
    "    },\n",
    "    'autosize': True,\n",
    "    # 'width': 600,\n",
    "    # 'height': 600,\n",
    "}\n",
    "\n",
    "kind = go.Figure()\n",
    "\n",
    "kind.add_trace(\n",
    "    go.Pie(\n",
    "        labels=df3.index,\n",
    "        values=df3['빈도'],\n",
    "    )\n",
    ")\n",
    "\n",
    "kind.update_traces(\n",
    "    go.Pie(\n",
    "        textposition='inside',\n",
    "        textinfo='label+value+percent',\n",
    "        textfont = {\n",
    "            'size': 15,\n",
    "        }\n",
    "    )\n",
    ")\n",
    "\n",
    "kind.update_layout(layout_kind)\n",
    "kind.show()"
   ]
  },
  {
   "cell_type": "code",
   "execution_count": null,
   "metadata": {},
   "outputs": [],
   "source": [
    "# 주차장 구획수\n",
    "df4 = df_merge[['주차장명', '주차구획수']]\n",
    "df4 = df4.groupby('주차장명', as_index=False).sum()\n",
    "df4.rename(columns={'주차구획수': '빈도'}, inplace=True)\n",
    "df4.sort_values('빈도', ascending=False, inplace=True)\n",
    "df4.set_index('주차장명', inplace=True)\n",
    "df4_ = df4[1:6]\n",
    "df4_"
   ]
  },
  {
   "cell_type": "code",
   "execution_count": null,
   "metadata": {},
   "outputs": [],
   "source": [
    "layout_mobile = {\n",
    "    'title': {\n",
    "        'text': '<b>[주차구획수]</b> Top5',\n",
    "        'x': 0.5,\n",
    "        'font': {\n",
    "            'size': 20\n",
    "        }\n",
    "    },\n",
    "    'showlegend': False,\n",
    "    'xaxis': {\n",
    "        'title': '접수기관',\n",
    "\n",
    "\n",
    "    },\n",
    "    'yaxis': {\n",
    "        'title': '접수 민원 수',\n",
    "        'showticklabels': True,\n",
    "        'dtick': 10000\n",
    "    }\n",
    "}\n",
    "\n",
    "mobile = go.Figure()\n",
    "\n",
    "mobile.add_trace(\n",
    "    go.Bar(\n",
    "        x=df4_.index,\n",
    "        y=df4_['빈도'], name='접수기관',\n",
    "        text=df4_['빈도'], textposition='auto',\n",
    "    )\n",
    ")\n",
    "\n",
    "mobile.update_layout(layout_mobile)\n",
    "mobile.show()\n"
   ]
  },
  {
   "cell_type": "code",
   "execution_count": null,
   "metadata": {},
   "outputs": [],
   "source": [
    "# 주차장 현황 지도\n",
    "df5 = df_merge[['주차장명', '소재지도로명주소', '소재지지번주소', '주차구획수']]\n",
    "df5"
   ]
  },
  {
   "cell_type": "code",
   "execution_count": null,
   "metadata": {},
   "outputs": [],
   "source": [
    "# 초기화\n",
    "df5['주소'] = np.nan"
   ]
  },
  {
   "cell_type": "code",
   "execution_count": null,
   "metadata": {},
   "outputs": [],
   "source": [
    "# 주소 넣기\n",
    "for i in range(len(df5)):\n",
    "    if df5['소재지도로명주소'][i]:\n",
    "        df5['주소'][i] = df5['소재지도로명주소'][i]\n",
    "    elif df5['소재지지번주소'][i]:\n",
    "        df5['주소'][i] =  df5['소재지지번주소'][i]\n",
    "    else:\n",
    "        df5['주소'][i] =  \"\""
   ]
  },
  {
   "cell_type": "code",
   "execution_count": null,
   "metadata": {},
   "outputs": [],
   "source": [
    "df5 = df5[['주차장명', '주소', '주차구획수']]\n",
    "df5.head()"
   ]
  },
  {
   "cell_type": "code",
   "execution_count": null,
   "metadata": {},
   "outputs": [],
   "source": [
    "df5.dropna(inplace=True)\n",
    "df5.drop_duplicates(inplace=True)\n",
    "df5.reset_index(drop=True, inplace=True)\n",
    "df5.info()"
   ]
  },
  {
   "cell_type": "code",
   "execution_count": null,
   "metadata": {},
   "outputs": [],
   "source": [
    "df5.head()"
   ]
  },
  {
   "cell_type": "code",
   "execution_count": null,
   "metadata": {},
   "outputs": [],
   "source": [
    "# 주소 검색 함수 정의\n",
    "def address_to_latlon(address):\n",
    "    url = \"https://dapi.kakao.com/v2/local/search/address.json?&query=\" + address\n",
    "    result = requests.get(urlparse(url).geturl(),\n",
    "                          headers={\"Authorization\":\"KakaoAK APIKey\"})\n",
    "    json_obj = result.json()\n",
    "    keys = [key for key in json_obj]\n",
    "    if keys[0] == 'documents':\n",
    "        for document in json_obj['documents']:\n",
    "            val = [document['address_name'], document['y'], document['x']]\n",
    "            return val\n",
    "        return [\"\", \"\", \"\"]\n",
    "    else:\n",
    "        return [\"\", \"\", \"\"]"
   ]
  },
  {
   "cell_type": "code",
   "execution_count": null,
   "metadata": {},
   "outputs": [],
   "source": [
    "# 위도/경도 붙일 빈 열 만들기\n",
    "df5_ = df5\n",
    "df5_['위도'] = np.nan\n",
    "df5_['경도'] = np.nan"
   ]
  },
  {
   "cell_type": "code",
   "execution_count": null,
   "metadata": {},
   "outputs": [],
   "source": [
    "# 위도, 경도 구하기\n",
    "for i in range(len(df5_)):\n",
    "    min_address = df5_['주소'][i]\n",
    "    tmp = address_to_latlon(min_address)\n",
    "    df5_['위도'][i] = tmp[1]\n",
    "    df5_['경도'][i] = tmp[2]"
   ]
  },
  {
   "cell_type": "code",
   "execution_count": null,
   "metadata": {},
   "outputs": [],
   "source": [
    "df5_.to_csv('./data/result/주차장.csv', encoding='euc-kr', index=False)"
   ]
  },
  {
   "cell_type": "code",
   "execution_count": null,
   "metadata": {},
   "outputs": [],
   "source": [
    "df5_ = pd.read_csv('./data/result/주차장.csv', encoding='euc-kr')\n",
    "# df5_ = df5_[['주차장명', '주소', '주차구획수', '위도', '경도']]\n",
    "df5_.head()"
   ]
  },
  {
   "cell_type": "code",
   "execution_count": null,
   "metadata": {},
   "outputs": [],
   "source": [
    "df5_.info()\n",
    "df5_.head()"
   ]
  },
  {
   "cell_type": "code",
   "execution_count": null,
   "metadata": {},
   "outputs": [],
   "source": [
    "df5_['위도'] = pd.to_numeric(df5_['위도'])\n",
    "df5_['경도'] = pd.to_numeric(df5_['경도'])\n",
    "df5_['주차구획수'] = df5_['주차구획수'].astype(int)"
   ]
  },
  {
   "cell_type": "code",
   "execution_count": null,
   "metadata": {},
   "outputs": [],
   "source": [
    "df5_[df5_['위도'].isnull()]"
   ]
  },
  {
   "cell_type": "code",
   "execution_count": null,
   "metadata": {},
   "outputs": [],
   "source": [
    "df5_.dropna(inplace=True)\n",
    "df5_[df5_['위도'].isnull()]"
   ]
  },
  {
   "cell_type": "code",
   "execution_count": null,
   "metadata": {},
   "outputs": [],
   "source": [
    "min_address = \"부산광역시 부산진구 가야공원로 74\"\n",
    "tmp = address_to_latlon(min_address)\n",
    "tmp"
   ]
  },
  {
   "cell_type": "code",
   "execution_count": null,
   "metadata": {},
   "outputs": [],
   "source": [
    "df5_.head()"
   ]
  },
  {
   "cell_type": "code",
   "execution_count": null,
   "metadata": {},
   "outputs": [],
   "source": [
    "df5_.columns"
   ]
  },
  {
   "cell_type": "code",
   "execution_count": null,
   "metadata": {},
   "outputs": [],
   "source": [
    "df5_.reset_index(drop=True, inplace=True)"
   ]
  },
  {
   "cell_type": "code",
   "execution_count": null,
   "metadata": {},
   "outputs": [],
   "source": [
    "df5_"
   ]
  },
  {
   "cell_type": "code",
   "execution_count": null,
   "metadata": {},
   "outputs": [],
   "source": [
    "# shp 파일\n",
    "state_geo = './data/지도/TL_SCCO_SIG_WGS84.json'\n",
    "\n",
    "# json 파일 로드\n",
    "with open(state_geo, encoding='utf-8') as file:\n",
    "    json_file = json.load(file)"
   ]
  },
  {
   "cell_type": "code",
   "execution_count": null,
   "metadata": {},
   "outputs": [],
   "source": [
    "# 민원 발생 주소 버블 차트\n",
    "lat_mean = df5_['위도'].mean()\n",
    "lon_mean = df5_['경도'].mean()\n",
    "\n",
    "top_m = folium.Map(\n",
    "    location=[lat_mean, lon_mean],\n",
    "    zoom_start=13)\n",
    "\n",
    "folium.Choropleth(\n",
    "    json_file,\n",
    "    fill_opacity=0.1,\n",
    "    fill_color='#3186cc',\n",
    "    line_opacity=1,\n",
    "    line_weight=0.3,\n",
    "    line_color='#3186cc'\n",
    "    ).add_to(top_m)\n",
    "\n",
    "\n",
    "for i in range(len(df5_)):\n",
    "    latitude = df5_['위도'][i]\n",
    "    longitude = df5_['경도'][i]\n",
    "    radius = df5_['주차구획수'][i]/100\n",
    "    text = df5_['주차장명'][i]\n",
    "    location = (latitude, longitude)\n",
    "    folium.CircleMarker(\n",
    "        location,\n",
    "        radius=radius,\n",
    "        color='#3186cc',\n",
    "        fill_color='#3186cc',\n",
    "        opacity=0.7,\n",
    "        popup=text).add_to(top_m)\n",
    "    \n",
    "\n",
    "\n",
    "top_m\n"
   ]
  },
  {
   "cell_type": "code",
   "execution_count": null,
   "metadata": {},
   "outputs": [],
   "source": [
    "# 히트맵\n",
    "\n",
    "lat_mean = df5_['위도'].mean()\n",
    "lon_mean = df5_['경도'].mean()\n",
    "\n",
    "\n",
    "heat_m = folium.Map(\n",
    "    location=[lat_mean, lon_mean],\n",
    "    tiles=\"cartodbpositron\",\n",
    "    zoom_start=11)\n",
    "\n",
    "folium.Choropleth(\n",
    "    json_file,\n",
    "    fill_opacity=0.1,\n",
    "    fill_color='#20B2AA',\n",
    "    line_opacity=0.3,\n",
    "    line_weight=0.9,\n",
    "    line_color='#20B2AA').add_to(heat_m)\n",
    "\n",
    "heat_df = df5_[['위도', '경도']]\n",
    "\n",
    "heat_data = [[row['위도'],row['경도']] for index, row in heat_df.iterrows()]\n",
    "\n",
    "HeatMap(heat_data).add_to(heat_m)\n",
    "\n",
    "heat_m\n"
   ]
  }
 ],
 "metadata": {
  "interpreter": {
   "hash": "8cfb3f5d3732c8e9b7a65fa38dddf816068d0252f6ef0bfbc44616f476e20867"
  },
  "kernelspec": {
   "display_name": "Python 3.8.8 64-bit ('base': conda)",
   "language": "python",
   "name": "python3"
  },
  "language_info": {
   "codemirror_mode": {
    "name": "ipython",
    "version": 3
   },
   "file_extension": ".py",
   "mimetype": "text/x-python",
   "name": "python",
   "nbconvert_exporter": "python",
   "pygments_lexer": "ipython3",
   "version": "3.8.12"
  },
  "orig_nbformat": 4
 },
 "nbformat": 4,
 "nbformat_minor": 2
}
